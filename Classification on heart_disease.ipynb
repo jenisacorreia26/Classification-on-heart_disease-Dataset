{
 "cells": [
  {
   "cell_type": "markdown",
   "metadata": {},
   "source": [
    "# Importing Libraries"
   ]
  },
  {
   "cell_type": "code",
   "execution_count": 1,
   "metadata": {},
   "outputs": [],
   "source": [
    "#We import the following libraries:\n",
    "#numpy ibrary is used to perform algebraic and mathematical tasks.\n",
    "#pandas library is used for data analysis and cleaning.\n",
    "#matplotlib.pyplot library is used for plotting the graphs.\n",
    "#seaborn library is used for visualizing data."
   ]
  },
  {
   "cell_type": "code",
   "execution_count": 2,
   "metadata": {},
   "outputs": [],
   "source": [
    "import numpy as np \n",
    "import pandas as pd\n",
    "import matplotlib.pyplot as plt\n",
    "import seaborn as sns"
   ]
  },
  {
   "cell_type": "markdown",
   "metadata": {},
   "source": [
    "The Dataset heart_disease is taken from kaggle, with 4238 rows and 16 columns with Tenyear chronic heart disease(TCHD) \n",
    "as target column.\n",
    "Our domain is healthcare.\n",
    "The classification goal is to predict whether the patient has 10-year risk of future coronary heart disease (CHD).\n",
    "#1is chd 0 is no chd "
   ]
  },
  {
   "cell_type": "markdown",
   "metadata": {},
   "source": [
    "# Importing Dataset"
   ]
  },
  {
   "cell_type": "code",
   "execution_count": 3,
   "metadata": {},
   "outputs": [
    {
     "data": {
      "text/html": [
       "<div>\n",
       "<style scoped>\n",
       "    .dataframe tbody tr th:only-of-type {\n",
       "        vertical-align: middle;\n",
       "    }\n",
       "\n",
       "    .dataframe tbody tr th {\n",
       "        vertical-align: top;\n",
       "    }\n",
       "\n",
       "    .dataframe thead th {\n",
       "        text-align: right;\n",
       "    }\n",
       "</style>\n",
       "<table border=\"1\" class=\"dataframe\">\n",
       "  <thead>\n",
       "    <tr style=\"text-align: right;\">\n",
       "      <th></th>\n",
       "      <th>sex</th>\n",
       "      <th>age</th>\n",
       "      <th>education</th>\n",
       "      <th>currentSmoker</th>\n",
       "      <th>cigsPerDay</th>\n",
       "      <th>BPMeds</th>\n",
       "      <th>prevalentStroke</th>\n",
       "      <th>prevalentHyp</th>\n",
       "      <th>diabetes</th>\n",
       "      <th>totChol</th>\n",
       "      <th>sysBP</th>\n",
       "      <th>diaBP</th>\n",
       "      <th>BMI</th>\n",
       "      <th>heartRate</th>\n",
       "      <th>glucose</th>\n",
       "      <th>TenYearCHD</th>\n",
       "    </tr>\n",
       "  </thead>\n",
       "  <tbody>\n",
       "    <tr>\n",
       "      <th>0</th>\n",
       "      <td>male</td>\n",
       "      <td>39</td>\n",
       "      <td>4.0</td>\n",
       "      <td>non-smoker</td>\n",
       "      <td>0.0</td>\n",
       "      <td>0.0</td>\n",
       "      <td>0</td>\n",
       "      <td>0</td>\n",
       "      <td>0</td>\n",
       "      <td>195.0</td>\n",
       "      <td>106.0</td>\n",
       "      <td>70.0</td>\n",
       "      <td>26.97</td>\n",
       "      <td>80.0</td>\n",
       "      <td>77.0</td>\n",
       "      <td>0</td>\n",
       "    </tr>\n",
       "    <tr>\n",
       "      <th>1</th>\n",
       "      <td>female</td>\n",
       "      <td>46</td>\n",
       "      <td>2.0</td>\n",
       "      <td>non-smoker</td>\n",
       "      <td>0.0</td>\n",
       "      <td>0.0</td>\n",
       "      <td>0</td>\n",
       "      <td>0</td>\n",
       "      <td>0</td>\n",
       "      <td>250.0</td>\n",
       "      <td>121.0</td>\n",
       "      <td>81.0</td>\n",
       "      <td>28.73</td>\n",
       "      <td>95.0</td>\n",
       "      <td>76.0</td>\n",
       "      <td>0</td>\n",
       "    </tr>\n",
       "    <tr>\n",
       "      <th>2</th>\n",
       "      <td>male</td>\n",
       "      <td>48</td>\n",
       "      <td>1.0</td>\n",
       "      <td>smoker</td>\n",
       "      <td>20.0</td>\n",
       "      <td>0.0</td>\n",
       "      <td>0</td>\n",
       "      <td>0</td>\n",
       "      <td>0</td>\n",
       "      <td>245.0</td>\n",
       "      <td>127.5</td>\n",
       "      <td>80.0</td>\n",
       "      <td>25.34</td>\n",
       "      <td>75.0</td>\n",
       "      <td>70.0</td>\n",
       "      <td>0</td>\n",
       "    </tr>\n",
       "    <tr>\n",
       "      <th>3</th>\n",
       "      <td>female</td>\n",
       "      <td>61</td>\n",
       "      <td>3.0</td>\n",
       "      <td>smoker</td>\n",
       "      <td>30.0</td>\n",
       "      <td>0.0</td>\n",
       "      <td>0</td>\n",
       "      <td>1</td>\n",
       "      <td>0</td>\n",
       "      <td>225.0</td>\n",
       "      <td>150.0</td>\n",
       "      <td>95.0</td>\n",
       "      <td>28.58</td>\n",
       "      <td>65.0</td>\n",
       "      <td>103.0</td>\n",
       "      <td>1</td>\n",
       "    </tr>\n",
       "    <tr>\n",
       "      <th>4</th>\n",
       "      <td>female</td>\n",
       "      <td>46</td>\n",
       "      <td>3.0</td>\n",
       "      <td>smoker</td>\n",
       "      <td>23.0</td>\n",
       "      <td>0.0</td>\n",
       "      <td>0</td>\n",
       "      <td>0</td>\n",
       "      <td>0</td>\n",
       "      <td>285.0</td>\n",
       "      <td>130.0</td>\n",
       "      <td>84.0</td>\n",
       "      <td>23.10</td>\n",
       "      <td>85.0</td>\n",
       "      <td>85.0</td>\n",
       "      <td>0</td>\n",
       "    </tr>\n",
       "  </tbody>\n",
       "</table>\n",
       "</div>"
      ],
      "text/plain": [
       "      sex  age  education currentSmoker  cigsPerDay  BPMeds  prevalentStroke  \\\n",
       "0    male   39        4.0    non-smoker         0.0     0.0                0   \n",
       "1  female   46        2.0    non-smoker         0.0     0.0                0   \n",
       "2    male   48        1.0        smoker        20.0     0.0                0   \n",
       "3  female   61        3.0        smoker        30.0     0.0                0   \n",
       "4  female   46        3.0        smoker        23.0     0.0                0   \n",
       "\n",
       "   prevalentHyp  diabetes  totChol  sysBP  diaBP    BMI  heartRate  glucose  \\\n",
       "0             0         0    195.0  106.0   70.0  26.97       80.0     77.0   \n",
       "1             0         0    250.0  121.0   81.0  28.73       95.0     76.0   \n",
       "2             0         0    245.0  127.5   80.0  25.34       75.0     70.0   \n",
       "3             1         0    225.0  150.0   95.0  28.58       65.0    103.0   \n",
       "4             0         0    285.0  130.0   84.0  23.10       85.0     85.0   \n",
       "\n",
       "   TenYearCHD  \n",
       "0           0  \n",
       "1           0  \n",
       "2           0  \n",
       "3           1  \n",
       "4           0  "
      ]
     },
     "execution_count": 3,
     "metadata": {},
     "output_type": "execute_result"
    }
   ],
   "source": [
    "df=pd.read_csv(\"C:\\\\Users\\\\Jenisa Correia\\\\Downloads\\\\heart_disease.csv\",header=0)#header=0 means first row is title\n",
    "df.head()"
   ]
  },
  {
   "cell_type": "code",
   "execution_count": 4,
   "metadata": {},
   "outputs": [
    {
     "data": {
      "text/html": [
       "<div>\n",
       "<style scoped>\n",
       "    .dataframe tbody tr th:only-of-type {\n",
       "        vertical-align: middle;\n",
       "    }\n",
       "\n",
       "    .dataframe tbody tr th {\n",
       "        vertical-align: top;\n",
       "    }\n",
       "\n",
       "    .dataframe thead th {\n",
       "        text-align: right;\n",
       "    }\n",
       "</style>\n",
       "<table border=\"1\" class=\"dataframe\">\n",
       "  <thead>\n",
       "    <tr style=\"text-align: right;\">\n",
       "      <th></th>\n",
       "      <th>sex</th>\n",
       "      <th>age</th>\n",
       "      <th>education</th>\n",
       "      <th>currentSmoker</th>\n",
       "      <th>cigsPerDay</th>\n",
       "      <th>BPMeds</th>\n",
       "      <th>prevalentStroke</th>\n",
       "      <th>prevalentHyp</th>\n",
       "      <th>diabetes</th>\n",
       "      <th>totChol</th>\n",
       "      <th>sysBP</th>\n",
       "      <th>diaBP</th>\n",
       "      <th>BMI</th>\n",
       "      <th>heartRate</th>\n",
       "      <th>glucose</th>\n",
       "      <th>TenYearCHD</th>\n",
       "    </tr>\n",
       "  </thead>\n",
       "  <tbody>\n",
       "    <tr>\n",
       "      <th>0</th>\n",
       "      <td>male</td>\n",
       "      <td>39</td>\n",
       "      <td>4.0</td>\n",
       "      <td>non-smoker</td>\n",
       "      <td>0.0</td>\n",
       "      <td>0.0</td>\n",
       "      <td>0</td>\n",
       "      <td>0</td>\n",
       "      <td>0</td>\n",
       "      <td>195.0</td>\n",
       "      <td>106.0</td>\n",
       "      <td>70.0</td>\n",
       "      <td>26.97</td>\n",
       "      <td>80.0</td>\n",
       "      <td>77.0</td>\n",
       "      <td>0</td>\n",
       "    </tr>\n",
       "    <tr>\n",
       "      <th>1</th>\n",
       "      <td>female</td>\n",
       "      <td>46</td>\n",
       "      <td>2.0</td>\n",
       "      <td>non-smoker</td>\n",
       "      <td>0.0</td>\n",
       "      <td>0.0</td>\n",
       "      <td>0</td>\n",
       "      <td>0</td>\n",
       "      <td>0</td>\n",
       "      <td>250.0</td>\n",
       "      <td>121.0</td>\n",
       "      <td>81.0</td>\n",
       "      <td>28.73</td>\n",
       "      <td>95.0</td>\n",
       "      <td>76.0</td>\n",
       "      <td>0</td>\n",
       "    </tr>\n",
       "    <tr>\n",
       "      <th>2</th>\n",
       "      <td>male</td>\n",
       "      <td>48</td>\n",
       "      <td>1.0</td>\n",
       "      <td>smoker</td>\n",
       "      <td>20.0</td>\n",
       "      <td>0.0</td>\n",
       "      <td>0</td>\n",
       "      <td>0</td>\n",
       "      <td>0</td>\n",
       "      <td>245.0</td>\n",
       "      <td>127.5</td>\n",
       "      <td>80.0</td>\n",
       "      <td>25.34</td>\n",
       "      <td>75.0</td>\n",
       "      <td>70.0</td>\n",
       "      <td>0</td>\n",
       "    </tr>\n",
       "    <tr>\n",
       "      <th>3</th>\n",
       "      <td>female</td>\n",
       "      <td>61</td>\n",
       "      <td>3.0</td>\n",
       "      <td>smoker</td>\n",
       "      <td>30.0</td>\n",
       "      <td>0.0</td>\n",
       "      <td>0</td>\n",
       "      <td>1</td>\n",
       "      <td>0</td>\n",
       "      <td>225.0</td>\n",
       "      <td>150.0</td>\n",
       "      <td>95.0</td>\n",
       "      <td>28.58</td>\n",
       "      <td>65.0</td>\n",
       "      <td>103.0</td>\n",
       "      <td>1</td>\n",
       "    </tr>\n",
       "    <tr>\n",
       "      <th>4</th>\n",
       "      <td>female</td>\n",
       "      <td>46</td>\n",
       "      <td>3.0</td>\n",
       "      <td>smoker</td>\n",
       "      <td>23.0</td>\n",
       "      <td>0.0</td>\n",
       "      <td>0</td>\n",
       "      <td>0</td>\n",
       "      <td>0</td>\n",
       "      <td>285.0</td>\n",
       "      <td>130.0</td>\n",
       "      <td>84.0</td>\n",
       "      <td>23.10</td>\n",
       "      <td>85.0</td>\n",
       "      <td>85.0</td>\n",
       "      <td>0</td>\n",
       "    </tr>\n",
       "    <tr>\n",
       "      <th>...</th>\n",
       "      <td>...</td>\n",
       "      <td>...</td>\n",
       "      <td>...</td>\n",
       "      <td>...</td>\n",
       "      <td>...</td>\n",
       "      <td>...</td>\n",
       "      <td>...</td>\n",
       "      <td>...</td>\n",
       "      <td>...</td>\n",
       "      <td>...</td>\n",
       "      <td>...</td>\n",
       "      <td>...</td>\n",
       "      <td>...</td>\n",
       "      <td>...</td>\n",
       "      <td>...</td>\n",
       "      <td>...</td>\n",
       "    </tr>\n",
       "    <tr>\n",
       "      <th>4233</th>\n",
       "      <td>male</td>\n",
       "      <td>50</td>\n",
       "      <td>1.0</td>\n",
       "      <td>smoker</td>\n",
       "      <td>1.0</td>\n",
       "      <td>0.0</td>\n",
       "      <td>0</td>\n",
       "      <td>1</td>\n",
       "      <td>0</td>\n",
       "      <td>313.0</td>\n",
       "      <td>179.0</td>\n",
       "      <td>92.0</td>\n",
       "      <td>25.97</td>\n",
       "      <td>66.0</td>\n",
       "      <td>86.0</td>\n",
       "      <td>1</td>\n",
       "    </tr>\n",
       "    <tr>\n",
       "      <th>4234</th>\n",
       "      <td>male</td>\n",
       "      <td>51</td>\n",
       "      <td>3.0</td>\n",
       "      <td>smoker</td>\n",
       "      <td>43.0</td>\n",
       "      <td>0.0</td>\n",
       "      <td>0</td>\n",
       "      <td>0</td>\n",
       "      <td>0</td>\n",
       "      <td>207.0</td>\n",
       "      <td>126.5</td>\n",
       "      <td>80.0</td>\n",
       "      <td>19.71</td>\n",
       "      <td>65.0</td>\n",
       "      <td>68.0</td>\n",
       "      <td>0</td>\n",
       "    </tr>\n",
       "    <tr>\n",
       "      <th>4235</th>\n",
       "      <td>female</td>\n",
       "      <td>48</td>\n",
       "      <td>2.0</td>\n",
       "      <td>smoker</td>\n",
       "      <td>20.0</td>\n",
       "      <td>NaN</td>\n",
       "      <td>0</td>\n",
       "      <td>0</td>\n",
       "      <td>0</td>\n",
       "      <td>248.0</td>\n",
       "      <td>131.0</td>\n",
       "      <td>72.0</td>\n",
       "      <td>22.00</td>\n",
       "      <td>84.0</td>\n",
       "      <td>86.0</td>\n",
       "      <td>0</td>\n",
       "    </tr>\n",
       "    <tr>\n",
       "      <th>4236</th>\n",
       "      <td>female</td>\n",
       "      <td>44</td>\n",
       "      <td>1.0</td>\n",
       "      <td>smoker</td>\n",
       "      <td>15.0</td>\n",
       "      <td>0.0</td>\n",
       "      <td>0</td>\n",
       "      <td>0</td>\n",
       "      <td>0</td>\n",
       "      <td>210.0</td>\n",
       "      <td>126.5</td>\n",
       "      <td>87.0</td>\n",
       "      <td>19.16</td>\n",
       "      <td>86.0</td>\n",
       "      <td>NaN</td>\n",
       "      <td>0</td>\n",
       "    </tr>\n",
       "    <tr>\n",
       "      <th>4237</th>\n",
       "      <td>female</td>\n",
       "      <td>52</td>\n",
       "      <td>2.0</td>\n",
       "      <td>non-smoker</td>\n",
       "      <td>0.0</td>\n",
       "      <td>0.0</td>\n",
       "      <td>0</td>\n",
       "      <td>0</td>\n",
       "      <td>0</td>\n",
       "      <td>269.0</td>\n",
       "      <td>133.5</td>\n",
       "      <td>83.0</td>\n",
       "      <td>21.47</td>\n",
       "      <td>80.0</td>\n",
       "      <td>107.0</td>\n",
       "      <td>0</td>\n",
       "    </tr>\n",
       "  </tbody>\n",
       "</table>\n",
       "<p>4238 rows × 16 columns</p>\n",
       "</div>"
      ],
      "text/plain": [
       "         sex  age  education currentSmoker  cigsPerDay  BPMeds  \\\n",
       "0       male   39        4.0    non-smoker         0.0     0.0   \n",
       "1     female   46        2.0    non-smoker         0.0     0.0   \n",
       "2       male   48        1.0        smoker        20.0     0.0   \n",
       "3     female   61        3.0        smoker        30.0     0.0   \n",
       "4     female   46        3.0        smoker        23.0     0.0   \n",
       "...      ...  ...        ...           ...         ...     ...   \n",
       "4233    male   50        1.0        smoker         1.0     0.0   \n",
       "4234    male   51        3.0        smoker        43.0     0.0   \n",
       "4235  female   48        2.0        smoker        20.0     NaN   \n",
       "4236  female   44        1.0        smoker        15.0     0.0   \n",
       "4237  female   52        2.0    non-smoker         0.0     0.0   \n",
       "\n",
       "      prevalentStroke  prevalentHyp  diabetes  totChol  sysBP  diaBP    BMI  \\\n",
       "0                   0             0         0    195.0  106.0   70.0  26.97   \n",
       "1                   0             0         0    250.0  121.0   81.0  28.73   \n",
       "2                   0             0         0    245.0  127.5   80.0  25.34   \n",
       "3                   0             1         0    225.0  150.0   95.0  28.58   \n",
       "4                   0             0         0    285.0  130.0   84.0  23.10   \n",
       "...               ...           ...       ...      ...    ...    ...    ...   \n",
       "4233                0             1         0    313.0  179.0   92.0  25.97   \n",
       "4234                0             0         0    207.0  126.5   80.0  19.71   \n",
       "4235                0             0         0    248.0  131.0   72.0  22.00   \n",
       "4236                0             0         0    210.0  126.5   87.0  19.16   \n",
       "4237                0             0         0    269.0  133.5   83.0  21.47   \n",
       "\n",
       "      heartRate  glucose  TenYearCHD  \n",
       "0          80.0     77.0           0  \n",
       "1          95.0     76.0           0  \n",
       "2          75.0     70.0           0  \n",
       "3          65.0    103.0           1  \n",
       "4          85.0     85.0           0  \n",
       "...         ...      ...         ...  \n",
       "4233       66.0     86.0           1  \n",
       "4234       65.0     68.0           0  \n",
       "4235       84.0     86.0           0  \n",
       "4236       86.0      NaN           0  \n",
       "4237       80.0    107.0           0  \n",
       "\n",
       "[4238 rows x 16 columns]"
      ]
     },
     "execution_count": 4,
     "metadata": {},
     "output_type": "execute_result"
    }
   ],
   "source": [
    "df"
   ]
  },
  {
   "cell_type": "code",
   "execution_count": 5,
   "metadata": {},
   "outputs": [
    {
     "data": {
      "text/html": [
       "<div>\n",
       "<style scoped>\n",
       "    .dataframe tbody tr th:only-of-type {\n",
       "        vertical-align: middle;\n",
       "    }\n",
       "\n",
       "    .dataframe tbody tr th {\n",
       "        vertical-align: top;\n",
       "    }\n",
       "\n",
       "    .dataframe thead th {\n",
       "        text-align: right;\n",
       "    }\n",
       "</style>\n",
       "<table border=\"1\" class=\"dataframe\">\n",
       "  <thead>\n",
       "    <tr style=\"text-align: right;\">\n",
       "      <th></th>\n",
       "      <th>age</th>\n",
       "      <th>education</th>\n",
       "      <th>cigsPerDay</th>\n",
       "      <th>BPMeds</th>\n",
       "      <th>prevalentStroke</th>\n",
       "      <th>prevalentHyp</th>\n",
       "      <th>diabetes</th>\n",
       "      <th>totChol</th>\n",
       "      <th>sysBP</th>\n",
       "      <th>diaBP</th>\n",
       "      <th>BMI</th>\n",
       "      <th>heartRate</th>\n",
       "      <th>glucose</th>\n",
       "      <th>TenYearCHD</th>\n",
       "    </tr>\n",
       "  </thead>\n",
       "  <tbody>\n",
       "    <tr>\n",
       "      <th>count</th>\n",
       "      <td>4238.000000</td>\n",
       "      <td>4133.000000</td>\n",
       "      <td>4209.000000</td>\n",
       "      <td>4185.000000</td>\n",
       "      <td>4238.000000</td>\n",
       "      <td>4238.000000</td>\n",
       "      <td>4238.000000</td>\n",
       "      <td>4188.000000</td>\n",
       "      <td>4238.000000</td>\n",
       "      <td>4238.000000</td>\n",
       "      <td>4219.000000</td>\n",
       "      <td>4237.000000</td>\n",
       "      <td>3850.000000</td>\n",
       "      <td>4238.000000</td>\n",
       "    </tr>\n",
       "    <tr>\n",
       "      <th>mean</th>\n",
       "      <td>49.584946</td>\n",
       "      <td>1.978950</td>\n",
       "      <td>9.003089</td>\n",
       "      <td>0.029630</td>\n",
       "      <td>0.005899</td>\n",
       "      <td>0.310524</td>\n",
       "      <td>0.025720</td>\n",
       "      <td>236.721585</td>\n",
       "      <td>132.352407</td>\n",
       "      <td>82.893464</td>\n",
       "      <td>25.802008</td>\n",
       "      <td>75.878924</td>\n",
       "      <td>81.966753</td>\n",
       "      <td>0.151958</td>\n",
       "    </tr>\n",
       "    <tr>\n",
       "      <th>std</th>\n",
       "      <td>8.572160</td>\n",
       "      <td>1.019791</td>\n",
       "      <td>11.920094</td>\n",
       "      <td>0.169584</td>\n",
       "      <td>0.076587</td>\n",
       "      <td>0.462763</td>\n",
       "      <td>0.158316</td>\n",
       "      <td>44.590334</td>\n",
       "      <td>22.038097</td>\n",
       "      <td>11.910850</td>\n",
       "      <td>4.080111</td>\n",
       "      <td>12.026596</td>\n",
       "      <td>23.959998</td>\n",
       "      <td>0.359023</td>\n",
       "    </tr>\n",
       "    <tr>\n",
       "      <th>min</th>\n",
       "      <td>32.000000</td>\n",
       "      <td>1.000000</td>\n",
       "      <td>0.000000</td>\n",
       "      <td>0.000000</td>\n",
       "      <td>0.000000</td>\n",
       "      <td>0.000000</td>\n",
       "      <td>0.000000</td>\n",
       "      <td>107.000000</td>\n",
       "      <td>83.500000</td>\n",
       "      <td>48.000000</td>\n",
       "      <td>15.540000</td>\n",
       "      <td>44.000000</td>\n",
       "      <td>40.000000</td>\n",
       "      <td>0.000000</td>\n",
       "    </tr>\n",
       "    <tr>\n",
       "      <th>25%</th>\n",
       "      <td>42.000000</td>\n",
       "      <td>1.000000</td>\n",
       "      <td>0.000000</td>\n",
       "      <td>0.000000</td>\n",
       "      <td>0.000000</td>\n",
       "      <td>0.000000</td>\n",
       "      <td>0.000000</td>\n",
       "      <td>206.000000</td>\n",
       "      <td>117.000000</td>\n",
       "      <td>75.000000</td>\n",
       "      <td>23.070000</td>\n",
       "      <td>68.000000</td>\n",
       "      <td>71.000000</td>\n",
       "      <td>0.000000</td>\n",
       "    </tr>\n",
       "    <tr>\n",
       "      <th>50%</th>\n",
       "      <td>49.000000</td>\n",
       "      <td>2.000000</td>\n",
       "      <td>0.000000</td>\n",
       "      <td>0.000000</td>\n",
       "      <td>0.000000</td>\n",
       "      <td>0.000000</td>\n",
       "      <td>0.000000</td>\n",
       "      <td>234.000000</td>\n",
       "      <td>128.000000</td>\n",
       "      <td>82.000000</td>\n",
       "      <td>25.400000</td>\n",
       "      <td>75.000000</td>\n",
       "      <td>78.000000</td>\n",
       "      <td>0.000000</td>\n",
       "    </tr>\n",
       "    <tr>\n",
       "      <th>75%</th>\n",
       "      <td>56.000000</td>\n",
       "      <td>3.000000</td>\n",
       "      <td>20.000000</td>\n",
       "      <td>0.000000</td>\n",
       "      <td>0.000000</td>\n",
       "      <td>1.000000</td>\n",
       "      <td>0.000000</td>\n",
       "      <td>263.000000</td>\n",
       "      <td>144.000000</td>\n",
       "      <td>89.875000</td>\n",
       "      <td>28.040000</td>\n",
       "      <td>83.000000</td>\n",
       "      <td>87.000000</td>\n",
       "      <td>0.000000</td>\n",
       "    </tr>\n",
       "    <tr>\n",
       "      <th>max</th>\n",
       "      <td>70.000000</td>\n",
       "      <td>4.000000</td>\n",
       "      <td>70.000000</td>\n",
       "      <td>1.000000</td>\n",
       "      <td>1.000000</td>\n",
       "      <td>1.000000</td>\n",
       "      <td>1.000000</td>\n",
       "      <td>696.000000</td>\n",
       "      <td>295.000000</td>\n",
       "      <td>142.500000</td>\n",
       "      <td>56.800000</td>\n",
       "      <td>143.000000</td>\n",
       "      <td>394.000000</td>\n",
       "      <td>1.000000</td>\n",
       "    </tr>\n",
       "  </tbody>\n",
       "</table>\n",
       "</div>"
      ],
      "text/plain": [
       "               age    education   cigsPerDay       BPMeds  prevalentStroke  \\\n",
       "count  4238.000000  4133.000000  4209.000000  4185.000000      4238.000000   \n",
       "mean     49.584946     1.978950     9.003089     0.029630         0.005899   \n",
       "std       8.572160     1.019791    11.920094     0.169584         0.076587   \n",
       "min      32.000000     1.000000     0.000000     0.000000         0.000000   \n",
       "25%      42.000000     1.000000     0.000000     0.000000         0.000000   \n",
       "50%      49.000000     2.000000     0.000000     0.000000         0.000000   \n",
       "75%      56.000000     3.000000    20.000000     0.000000         0.000000   \n",
       "max      70.000000     4.000000    70.000000     1.000000         1.000000   \n",
       "\n",
       "       prevalentHyp     diabetes      totChol        sysBP        diaBP  \\\n",
       "count   4238.000000  4238.000000  4188.000000  4238.000000  4238.000000   \n",
       "mean       0.310524     0.025720   236.721585   132.352407    82.893464   \n",
       "std        0.462763     0.158316    44.590334    22.038097    11.910850   \n",
       "min        0.000000     0.000000   107.000000    83.500000    48.000000   \n",
       "25%        0.000000     0.000000   206.000000   117.000000    75.000000   \n",
       "50%        0.000000     0.000000   234.000000   128.000000    82.000000   \n",
       "75%        1.000000     0.000000   263.000000   144.000000    89.875000   \n",
       "max        1.000000     1.000000   696.000000   295.000000   142.500000   \n",
       "\n",
       "               BMI    heartRate      glucose   TenYearCHD  \n",
       "count  4219.000000  4237.000000  3850.000000  4238.000000  \n",
       "mean     25.802008    75.878924    81.966753     0.151958  \n",
       "std       4.080111    12.026596    23.959998     0.359023  \n",
       "min      15.540000    44.000000    40.000000     0.000000  \n",
       "25%      23.070000    68.000000    71.000000     0.000000  \n",
       "50%      25.400000    75.000000    78.000000     0.000000  \n",
       "75%      28.040000    83.000000    87.000000     0.000000  \n",
       "max      56.800000   143.000000   394.000000     1.000000  "
      ]
     },
     "execution_count": 5,
     "metadata": {},
     "output_type": "execute_result"
    }
   ],
   "source": [
    "df.describe()# it gives stats info of only numeric data"
   ]
  },
  {
   "cell_type": "code",
   "execution_count": 6,
   "metadata": {},
   "outputs": [
    {
     "data": {
      "text/html": [
       "<div>\n",
       "<style scoped>\n",
       "    .dataframe tbody tr th:only-of-type {\n",
       "        vertical-align: middle;\n",
       "    }\n",
       "\n",
       "    .dataframe tbody tr th {\n",
       "        vertical-align: top;\n",
       "    }\n",
       "\n",
       "    .dataframe thead th {\n",
       "        text-align: right;\n",
       "    }\n",
       "</style>\n",
       "<table border=\"1\" class=\"dataframe\">\n",
       "  <thead>\n",
       "    <tr style=\"text-align: right;\">\n",
       "      <th></th>\n",
       "      <th>sex</th>\n",
       "      <th>currentSmoker</th>\n",
       "    </tr>\n",
       "  </thead>\n",
       "  <tbody>\n",
       "    <tr>\n",
       "      <th>count</th>\n",
       "      <td>4238</td>\n",
       "      <td>4238</td>\n",
       "    </tr>\n",
       "    <tr>\n",
       "      <th>unique</th>\n",
       "      <td>2</td>\n",
       "      <td>2</td>\n",
       "    </tr>\n",
       "    <tr>\n",
       "      <th>top</th>\n",
       "      <td>female</td>\n",
       "      <td>non-smoker</td>\n",
       "    </tr>\n",
       "    <tr>\n",
       "      <th>freq</th>\n",
       "      <td>2419</td>\n",
       "      <td>2144</td>\n",
       "    </tr>\n",
       "  </tbody>\n",
       "</table>\n",
       "</div>"
      ],
      "text/plain": [
       "           sex currentSmoker\n",
       "count     4238          4238\n",
       "unique       2             2\n",
       "top     female    non-smoker\n",
       "freq      2419          2144"
      ]
     },
     "execution_count": 6,
     "metadata": {},
     "output_type": "execute_result"
    }
   ],
   "source": [
    "df.describe(include=['O'])"
   ]
  },
  {
   "cell_type": "code",
   "execution_count": 88,
   "metadata": {},
   "outputs": [
    {
     "data": {
      "text/plain": [
       "Index(['sex', 'age', 'education', 'currentSmoker', 'cigsPerDay', 'BPMeds',\n",
       "       'prevalentStroke', 'prevalentHyp', 'diabetes', 'totChol', 'sysBP',\n",
       "       'diaBP', 'BMI', 'heartRate', 'glucose', 'TenYearCHD'],\n",
       "      dtype='object')"
      ]
     },
     "execution_count": 88,
     "metadata": {},
     "output_type": "execute_result"
    }
   ],
   "source": [
    "df.columns"
   ]
  },
  {
   "cell_type": "code",
   "execution_count": 89,
   "metadata": {},
   "outputs": [],
   "source": [
    "df.drop('education',axis=1,inplace=True) #dropping the unwanted column"
   ]
  },
  {
   "cell_type": "code",
   "execution_count": 90,
   "metadata": {},
   "outputs": [
    {
     "data": {
      "text/plain": [
       "Index(['sex', 'age', 'currentSmoker', 'cigsPerDay', 'BPMeds',\n",
       "       'prevalentStroke', 'prevalentHyp', 'diabetes', 'totChol', 'sysBP',\n",
       "       'diaBP', 'BMI', 'heartRate', 'glucose', 'TenYearCHD'],\n",
       "      dtype='object')"
      ]
     },
     "execution_count": 90,
     "metadata": {},
     "output_type": "execute_result"
    }
   ],
   "source": [
    "df.columns"
   ]
  },
  {
   "cell_type": "code",
   "execution_count": 91,
   "metadata": {},
   "outputs": [
    {
     "name": "stdout",
     "output_type": "stream",
     "text": [
      "<class 'pandas.core.frame.DataFrame'>\n",
      "RangeIndex: 4238 entries, 0 to 4237\n",
      "Data columns (total 15 columns):\n",
      " #   Column           Non-Null Count  Dtype  \n",
      "---  ------           --------------  -----  \n",
      " 0   sex              4238 non-null   object \n",
      " 1   age              4238 non-null   int64  \n",
      " 2   currentSmoker    4238 non-null   object \n",
      " 3   cigsPerDay       4209 non-null   float64\n",
      " 4   BPMeds           4185 non-null   float64\n",
      " 5   prevalentStroke  4238 non-null   int64  \n",
      " 6   prevalentHyp     4238 non-null   int64  \n",
      " 7   diabetes         4238 non-null   int64  \n",
      " 8   totChol          4188 non-null   float64\n",
      " 9   sysBP            4238 non-null   float64\n",
      " 10  diaBP            4238 non-null   float64\n",
      " 11  BMI              4219 non-null   float64\n",
      " 12  heartRate        4237 non-null   float64\n",
      " 13  glucose          3850 non-null   float64\n",
      " 14  TenYearCHD       4238 non-null   int64  \n",
      "dtypes: float64(8), int64(5), object(2)\n",
      "memory usage: 496.8+ KB\n"
     ]
    }
   ],
   "source": [
    "df.info() #it gives information of columns"
   ]
  },
  {
   "cell_type": "markdown",
   "metadata": {},
   "source": [
    "# Finding Null values"
   ]
  },
  {
   "cell_type": "code",
   "execution_count": 9,
   "metadata": {},
   "outputs": [
    {
     "data": {
      "text/plain": [
       "0"
      ]
     },
     "execution_count": 9,
     "metadata": {},
     "output_type": "execute_result"
    }
   ],
   "source": [
    "df['sex'].isnull().sum()"
   ]
  },
  {
   "cell_type": "code",
   "execution_count": 10,
   "metadata": {},
   "outputs": [
    {
     "data": {
      "text/plain": [
       "0"
      ]
     },
     "execution_count": 10,
     "metadata": {},
     "output_type": "execute_result"
    }
   ],
   "source": [
    "df['age'].isnull().sum()"
   ]
  },
  {
   "cell_type": "code",
   "execution_count": 11,
   "metadata": {},
   "outputs": [
    {
     "data": {
      "text/plain": [
       "0"
      ]
     },
     "execution_count": 11,
     "metadata": {},
     "output_type": "execute_result"
    }
   ],
   "source": [
    "df['currentSmoker'].isnull().sum()"
   ]
  },
  {
   "cell_type": "code",
   "execution_count": 92,
   "metadata": {},
   "outputs": [
    {
     "data": {
      "text/plain": [
       "29"
      ]
     },
     "execution_count": 92,
     "metadata": {},
     "output_type": "execute_result"
    }
   ],
   "source": [
    "df['cigsPerDay'].isnull().sum()"
   ]
  },
  {
   "cell_type": "code",
   "execution_count": 100,
   "metadata": {},
   "outputs": [],
   "source": [
    "df.fillna(value=df['cigsPerDay'].mean(), inplace=True)#Replacing null values with mean"
   ]
  },
  {
   "cell_type": "code",
   "execution_count": 101,
   "metadata": {},
   "outputs": [
    {
     "data": {
      "text/plain": [
       "0"
      ]
     },
     "execution_count": 101,
     "metadata": {},
     "output_type": "execute_result"
    }
   ],
   "source": [
    "df['cigsPerDay'].isnull().sum()"
   ]
  },
  {
   "cell_type": "code",
   "execution_count": 93,
   "metadata": {},
   "outputs": [
    {
     "data": {
      "text/plain": [
       "53"
      ]
     },
     "execution_count": 93,
     "metadata": {},
     "output_type": "execute_result"
    }
   ],
   "source": [
    "df['BPMeds'].isnull().sum()"
   ]
  },
  {
   "cell_type": "code",
   "execution_count": 98,
   "metadata": {},
   "outputs": [
    {
     "data": {
      "text/plain": [
       "0       0.0\n",
       "1       0.0\n",
       "2       0.0\n",
       "3       0.0\n",
       "4       0.0\n",
       "       ... \n",
       "4233    0.0\n",
       "4234    0.0\n",
       "4235    0.0\n",
       "4236    0.0\n",
       "4237    0.0\n",
       "Name: BPMeds, Length: 4238, dtype: float64"
      ]
     },
     "execution_count": 98,
     "metadata": {},
     "output_type": "execute_result"
    }
   ],
   "source": [
    "df['BPMeds']=df['BPMeds'].fillna(df['BPMeds'].mode()[0])#Replacing null values with mode since BPMeds was binary column.\n",
    "df['BPMeds']"
   ]
  },
  {
   "cell_type": "code",
   "execution_count": 99,
   "metadata": {},
   "outputs": [
    {
     "data": {
      "text/plain": [
       "0"
      ]
     },
     "execution_count": 99,
     "metadata": {},
     "output_type": "execute_result"
    }
   ],
   "source": [
    "df['BPMeds'].isnull().sum()"
   ]
  },
  {
   "cell_type": "code",
   "execution_count": 18,
   "metadata": {},
   "outputs": [
    {
     "data": {
      "text/plain": [
       "0"
      ]
     },
     "execution_count": 18,
     "metadata": {},
     "output_type": "execute_result"
    }
   ],
   "source": [
    "df['prevalentStroke'].isnull().sum()"
   ]
  },
  {
   "cell_type": "code",
   "execution_count": 19,
   "metadata": {},
   "outputs": [
    {
     "data": {
      "text/plain": [
       "0"
      ]
     },
     "execution_count": 19,
     "metadata": {},
     "output_type": "execute_result"
    }
   ],
   "source": [
    "df['prevalentHyp'].isnull().sum()"
   ]
  },
  {
   "cell_type": "code",
   "execution_count": 20,
   "metadata": {},
   "outputs": [
    {
     "data": {
      "text/plain": [
       "0"
      ]
     },
     "execution_count": 20,
     "metadata": {},
     "output_type": "execute_result"
    }
   ],
   "source": [
    "df['diabetes'].isnull().sum()"
   ]
  },
  {
   "cell_type": "code",
   "execution_count": 94,
   "metadata": {},
   "outputs": [
    {
     "data": {
      "text/plain": [
       "50"
      ]
     },
     "execution_count": 94,
     "metadata": {},
     "output_type": "execute_result"
    }
   ],
   "source": [
    "df['totChol'].isnull().sum()"
   ]
  },
  {
   "cell_type": "code",
   "execution_count": 102,
   "metadata": {},
   "outputs": [],
   "source": [
    "df.fillna(value=df['totChol'].mean(), inplace=True)#Replacing null values with mean"
   ]
  },
  {
   "cell_type": "code",
   "execution_count": 103,
   "metadata": {},
   "outputs": [
    {
     "data": {
      "text/plain": [
       "0"
      ]
     },
     "execution_count": 103,
     "metadata": {},
     "output_type": "execute_result"
    }
   ],
   "source": [
    "df['totChol'].isnull().sum()"
   ]
  },
  {
   "cell_type": "code",
   "execution_count": 55,
   "metadata": {},
   "outputs": [
    {
     "data": {
      "text/plain": [
       "0"
      ]
     },
     "execution_count": 55,
     "metadata": {},
     "output_type": "execute_result"
    }
   ],
   "source": [
    "df['sysBP'].isnull().sum()"
   ]
  },
  {
   "cell_type": "code",
   "execution_count": 56,
   "metadata": {},
   "outputs": [
    {
     "data": {
      "text/plain": [
       "0"
      ]
     },
     "execution_count": 56,
     "metadata": {},
     "output_type": "execute_result"
    }
   ],
   "source": [
    "df['diaBP'].isnull().sum()"
   ]
  },
  {
   "cell_type": "code",
   "execution_count": 97,
   "metadata": {},
   "outputs": [
    {
     "data": {
      "text/plain": [
       "19"
      ]
     },
     "execution_count": 97,
     "metadata": {},
     "output_type": "execute_result"
    }
   ],
   "source": [
    "df['BMI'].isnull().sum()"
   ]
  },
  {
   "cell_type": "code",
   "execution_count": 104,
   "metadata": {},
   "outputs": [],
   "source": [
    "df.fillna(value=df['BMI'].mean(), inplace=True)#Replacing null values with mean"
   ]
  },
  {
   "cell_type": "code",
   "execution_count": 105,
   "metadata": {},
   "outputs": [
    {
     "data": {
      "text/plain": [
       "0"
      ]
     },
     "execution_count": 105,
     "metadata": {},
     "output_type": "execute_result"
    }
   ],
   "source": [
    "df['BMI'].isnull().sum()"
   ]
  },
  {
   "cell_type": "code",
   "execution_count": 95,
   "metadata": {},
   "outputs": [
    {
     "data": {
      "text/plain": [
       "1"
      ]
     },
     "execution_count": 95,
     "metadata": {},
     "output_type": "execute_result"
    }
   ],
   "source": [
    "df['heartRate'].isnull().sum()"
   ]
  },
  {
   "cell_type": "code",
   "execution_count": 106,
   "metadata": {},
   "outputs": [],
   "source": [
    "df.fillna(value=df['heartRate'].mean(), inplace=True)#Replacing null values with mean"
   ]
  },
  {
   "cell_type": "code",
   "execution_count": 107,
   "metadata": {},
   "outputs": [
    {
     "data": {
      "text/plain": [
       "0"
      ]
     },
     "execution_count": 107,
     "metadata": {},
     "output_type": "execute_result"
    }
   ],
   "source": [
    "df['heartRate'].isnull().sum()"
   ]
  },
  {
   "cell_type": "code",
   "execution_count": 96,
   "metadata": {},
   "outputs": [
    {
     "data": {
      "text/plain": [
       "388"
      ]
     },
     "execution_count": 96,
     "metadata": {},
     "output_type": "execute_result"
    }
   ],
   "source": [
    "df['glucose'].isnull().sum()"
   ]
  },
  {
   "cell_type": "code",
   "execution_count": 108,
   "metadata": {},
   "outputs": [],
   "source": [
    "df.fillna(value=df['glucose'].mean(), inplace=True)#Replacing null values with mean"
   ]
  },
  {
   "cell_type": "code",
   "execution_count": 109,
   "metadata": {},
   "outputs": [
    {
     "data": {
      "text/plain": [
       "0"
      ]
     },
     "execution_count": 109,
     "metadata": {},
     "output_type": "execute_result"
    }
   ],
   "source": [
    "df['glucose'].isnull().sum()"
   ]
  },
  {
   "cell_type": "code",
   "execution_count": 144,
   "metadata": {},
   "outputs": [
    {
     "data": {
      "text/plain": [
       "0"
      ]
     },
     "execution_count": 144,
     "metadata": {},
     "output_type": "execute_result"
    }
   ],
   "source": [
    "df['TenYearCHD'].isnull().sum()"
   ]
  },
  {
   "cell_type": "code",
   "execution_count": 110,
   "metadata": {},
   "outputs": [
    {
     "data": {
      "text/html": [
       "<div>\n",
       "<style scoped>\n",
       "    .dataframe tbody tr th:only-of-type {\n",
       "        vertical-align: middle;\n",
       "    }\n",
       "\n",
       "    .dataframe tbody tr th {\n",
       "        vertical-align: top;\n",
       "    }\n",
       "\n",
       "    .dataframe thead th {\n",
       "        text-align: right;\n",
       "    }\n",
       "</style>\n",
       "<table border=\"1\" class=\"dataframe\">\n",
       "  <thead>\n",
       "    <tr style=\"text-align: right;\">\n",
       "      <th></th>\n",
       "      <th>sex</th>\n",
       "      <th>age</th>\n",
       "      <th>currentSmoker</th>\n",
       "      <th>cigsPerDay</th>\n",
       "      <th>BPMeds</th>\n",
       "      <th>prevalentStroke</th>\n",
       "      <th>prevalentHyp</th>\n",
       "      <th>diabetes</th>\n",
       "      <th>totChol</th>\n",
       "      <th>sysBP</th>\n",
       "      <th>diaBP</th>\n",
       "      <th>BMI</th>\n",
       "      <th>heartRate</th>\n",
       "      <th>glucose</th>\n",
       "      <th>TenYearCHD</th>\n",
       "    </tr>\n",
       "  </thead>\n",
       "  <tbody>\n",
       "    <tr>\n",
       "      <th>0</th>\n",
       "      <td>male</td>\n",
       "      <td>39</td>\n",
       "      <td>non-smoker</td>\n",
       "      <td>0.0</td>\n",
       "      <td>0.0</td>\n",
       "      <td>0</td>\n",
       "      <td>0</td>\n",
       "      <td>0</td>\n",
       "      <td>195.0</td>\n",
       "      <td>106.0</td>\n",
       "      <td>70.0</td>\n",
       "      <td>26.97</td>\n",
       "      <td>80.0</td>\n",
       "      <td>77.000000</td>\n",
       "      <td>0</td>\n",
       "    </tr>\n",
       "    <tr>\n",
       "      <th>1</th>\n",
       "      <td>female</td>\n",
       "      <td>46</td>\n",
       "      <td>non-smoker</td>\n",
       "      <td>0.0</td>\n",
       "      <td>0.0</td>\n",
       "      <td>0</td>\n",
       "      <td>0</td>\n",
       "      <td>0</td>\n",
       "      <td>250.0</td>\n",
       "      <td>121.0</td>\n",
       "      <td>81.0</td>\n",
       "      <td>28.73</td>\n",
       "      <td>95.0</td>\n",
       "      <td>76.000000</td>\n",
       "      <td>0</td>\n",
       "    </tr>\n",
       "    <tr>\n",
       "      <th>2</th>\n",
       "      <td>male</td>\n",
       "      <td>48</td>\n",
       "      <td>smoker</td>\n",
       "      <td>20.0</td>\n",
       "      <td>0.0</td>\n",
       "      <td>0</td>\n",
       "      <td>0</td>\n",
       "      <td>0</td>\n",
       "      <td>245.0</td>\n",
       "      <td>127.5</td>\n",
       "      <td>80.0</td>\n",
       "      <td>25.34</td>\n",
       "      <td>75.0</td>\n",
       "      <td>70.000000</td>\n",
       "      <td>0</td>\n",
       "    </tr>\n",
       "    <tr>\n",
       "      <th>3</th>\n",
       "      <td>female</td>\n",
       "      <td>61</td>\n",
       "      <td>smoker</td>\n",
       "      <td>30.0</td>\n",
       "      <td>0.0</td>\n",
       "      <td>0</td>\n",
       "      <td>1</td>\n",
       "      <td>0</td>\n",
       "      <td>225.0</td>\n",
       "      <td>150.0</td>\n",
       "      <td>95.0</td>\n",
       "      <td>28.58</td>\n",
       "      <td>65.0</td>\n",
       "      <td>103.000000</td>\n",
       "      <td>1</td>\n",
       "    </tr>\n",
       "    <tr>\n",
       "      <th>4</th>\n",
       "      <td>female</td>\n",
       "      <td>46</td>\n",
       "      <td>smoker</td>\n",
       "      <td>23.0</td>\n",
       "      <td>0.0</td>\n",
       "      <td>0</td>\n",
       "      <td>0</td>\n",
       "      <td>0</td>\n",
       "      <td>285.0</td>\n",
       "      <td>130.0</td>\n",
       "      <td>84.0</td>\n",
       "      <td>23.10</td>\n",
       "      <td>85.0</td>\n",
       "      <td>85.000000</td>\n",
       "      <td>0</td>\n",
       "    </tr>\n",
       "    <tr>\n",
       "      <th>...</th>\n",
       "      <td>...</td>\n",
       "      <td>...</td>\n",
       "      <td>...</td>\n",
       "      <td>...</td>\n",
       "      <td>...</td>\n",
       "      <td>...</td>\n",
       "      <td>...</td>\n",
       "      <td>...</td>\n",
       "      <td>...</td>\n",
       "      <td>...</td>\n",
       "      <td>...</td>\n",
       "      <td>...</td>\n",
       "      <td>...</td>\n",
       "      <td>...</td>\n",
       "      <td>...</td>\n",
       "    </tr>\n",
       "    <tr>\n",
       "      <th>4233</th>\n",
       "      <td>male</td>\n",
       "      <td>50</td>\n",
       "      <td>smoker</td>\n",
       "      <td>1.0</td>\n",
       "      <td>0.0</td>\n",
       "      <td>0</td>\n",
       "      <td>1</td>\n",
       "      <td>0</td>\n",
       "      <td>313.0</td>\n",
       "      <td>179.0</td>\n",
       "      <td>92.0</td>\n",
       "      <td>25.97</td>\n",
       "      <td>66.0</td>\n",
       "      <td>86.000000</td>\n",
       "      <td>1</td>\n",
       "    </tr>\n",
       "    <tr>\n",
       "      <th>4234</th>\n",
       "      <td>male</td>\n",
       "      <td>51</td>\n",
       "      <td>smoker</td>\n",
       "      <td>43.0</td>\n",
       "      <td>0.0</td>\n",
       "      <td>0</td>\n",
       "      <td>0</td>\n",
       "      <td>0</td>\n",
       "      <td>207.0</td>\n",
       "      <td>126.5</td>\n",
       "      <td>80.0</td>\n",
       "      <td>19.71</td>\n",
       "      <td>65.0</td>\n",
       "      <td>68.000000</td>\n",
       "      <td>0</td>\n",
       "    </tr>\n",
       "    <tr>\n",
       "      <th>4235</th>\n",
       "      <td>female</td>\n",
       "      <td>48</td>\n",
       "      <td>smoker</td>\n",
       "      <td>20.0</td>\n",
       "      <td>0.0</td>\n",
       "      <td>0</td>\n",
       "      <td>0</td>\n",
       "      <td>0</td>\n",
       "      <td>248.0</td>\n",
       "      <td>131.0</td>\n",
       "      <td>72.0</td>\n",
       "      <td>22.00</td>\n",
       "      <td>84.0</td>\n",
       "      <td>86.000000</td>\n",
       "      <td>0</td>\n",
       "    </tr>\n",
       "    <tr>\n",
       "      <th>4236</th>\n",
       "      <td>female</td>\n",
       "      <td>44</td>\n",
       "      <td>smoker</td>\n",
       "      <td>15.0</td>\n",
       "      <td>0.0</td>\n",
       "      <td>0</td>\n",
       "      <td>0</td>\n",
       "      <td>0</td>\n",
       "      <td>210.0</td>\n",
       "      <td>126.5</td>\n",
       "      <td>87.0</td>\n",
       "      <td>19.16</td>\n",
       "      <td>86.0</td>\n",
       "      <td>9.003089</td>\n",
       "      <td>0</td>\n",
       "    </tr>\n",
       "    <tr>\n",
       "      <th>4237</th>\n",
       "      <td>female</td>\n",
       "      <td>52</td>\n",
       "      <td>non-smoker</td>\n",
       "      <td>0.0</td>\n",
       "      <td>0.0</td>\n",
       "      <td>0</td>\n",
       "      <td>0</td>\n",
       "      <td>0</td>\n",
       "      <td>269.0</td>\n",
       "      <td>133.5</td>\n",
       "      <td>83.0</td>\n",
       "      <td>21.47</td>\n",
       "      <td>80.0</td>\n",
       "      <td>107.000000</td>\n",
       "      <td>0</td>\n",
       "    </tr>\n",
       "  </tbody>\n",
       "</table>\n",
       "<p>4238 rows × 15 columns</p>\n",
       "</div>"
      ],
      "text/plain": [
       "         sex  age currentSmoker  cigsPerDay  BPMeds  prevalentStroke  \\\n",
       "0       male   39    non-smoker         0.0     0.0                0   \n",
       "1     female   46    non-smoker         0.0     0.0                0   \n",
       "2       male   48        smoker        20.0     0.0                0   \n",
       "3     female   61        smoker        30.0     0.0                0   \n",
       "4     female   46        smoker        23.0     0.0                0   \n",
       "...      ...  ...           ...         ...     ...              ...   \n",
       "4233    male   50        smoker         1.0     0.0                0   \n",
       "4234    male   51        smoker        43.0     0.0                0   \n",
       "4235  female   48        smoker        20.0     0.0                0   \n",
       "4236  female   44        smoker        15.0     0.0                0   \n",
       "4237  female   52    non-smoker         0.0     0.0                0   \n",
       "\n",
       "      prevalentHyp  diabetes  totChol  sysBP  diaBP    BMI  heartRate  \\\n",
       "0                0         0    195.0  106.0   70.0  26.97       80.0   \n",
       "1                0         0    250.0  121.0   81.0  28.73       95.0   \n",
       "2                0         0    245.0  127.5   80.0  25.34       75.0   \n",
       "3                1         0    225.0  150.0   95.0  28.58       65.0   \n",
       "4                0         0    285.0  130.0   84.0  23.10       85.0   \n",
       "...            ...       ...      ...    ...    ...    ...        ...   \n",
       "4233             1         0    313.0  179.0   92.0  25.97       66.0   \n",
       "4234             0         0    207.0  126.5   80.0  19.71       65.0   \n",
       "4235             0         0    248.0  131.0   72.0  22.00       84.0   \n",
       "4236             0         0    210.0  126.5   87.0  19.16       86.0   \n",
       "4237             0         0    269.0  133.5   83.0  21.47       80.0   \n",
       "\n",
       "         glucose  TenYearCHD  \n",
       "0      77.000000           0  \n",
       "1      76.000000           0  \n",
       "2      70.000000           0  \n",
       "3     103.000000           1  \n",
       "4      85.000000           0  \n",
       "...          ...         ...  \n",
       "4233   86.000000           1  \n",
       "4234   68.000000           0  \n",
       "4235   86.000000           0  \n",
       "4236    9.003089           0  \n",
       "4237  107.000000           0  \n",
       "\n",
       "[4238 rows x 15 columns]"
      ]
     },
     "execution_count": 110,
     "metadata": {},
     "output_type": "execute_result"
    }
   ],
   "source": [
    "df #dataset after replacing missing values"
   ]
  },
  {
   "cell_type": "markdown",
   "metadata": {},
   "source": [
    "#Assinging numerical values to sex column and currentSmoker column"
   ]
  },
  {
   "cell_type": "code",
   "execution_count": 111,
   "metadata": {},
   "outputs": [],
   "source": [
    "for i,data in df.iterrows():\n",
    "    if data['sex']=='male':\n",
    "        df.at[i,'sex']='1'\n",
    "    if data['sex']=='female':\n",
    "        df.at[i,'sex']='0'"
   ]
  },
  {
   "cell_type": "code",
   "execution_count": 112,
   "metadata": {},
   "outputs": [],
   "source": [
    "for i,data in df.iterrows():\n",
    "    if data['currentSmoker']=='smoker':\n",
    "        df.at[i,'currentSmoker']='1'\n",
    "    if data['currentSmoker']=='non-smoker':\n",
    "        df.at[i,'currentSmoker']='0'"
   ]
  },
  {
   "cell_type": "code",
   "execution_count": 113,
   "metadata": {},
   "outputs": [
    {
     "data": {
      "text/html": [
       "<div>\n",
       "<style scoped>\n",
       "    .dataframe tbody tr th:only-of-type {\n",
       "        vertical-align: middle;\n",
       "    }\n",
       "\n",
       "    .dataframe tbody tr th {\n",
       "        vertical-align: top;\n",
       "    }\n",
       "\n",
       "    .dataframe thead th {\n",
       "        text-align: right;\n",
       "    }\n",
       "</style>\n",
       "<table border=\"1\" class=\"dataframe\">\n",
       "  <thead>\n",
       "    <tr style=\"text-align: right;\">\n",
       "      <th></th>\n",
       "      <th>sex</th>\n",
       "      <th>age</th>\n",
       "      <th>currentSmoker</th>\n",
       "      <th>cigsPerDay</th>\n",
       "      <th>BPMeds</th>\n",
       "      <th>prevalentStroke</th>\n",
       "      <th>prevalentHyp</th>\n",
       "      <th>diabetes</th>\n",
       "      <th>totChol</th>\n",
       "      <th>sysBP</th>\n",
       "      <th>diaBP</th>\n",
       "      <th>BMI</th>\n",
       "      <th>heartRate</th>\n",
       "      <th>glucose</th>\n",
       "      <th>TenYearCHD</th>\n",
       "    </tr>\n",
       "  </thead>\n",
       "  <tbody>\n",
       "    <tr>\n",
       "      <th>0</th>\n",
       "      <td>1</td>\n",
       "      <td>39</td>\n",
       "      <td>0</td>\n",
       "      <td>0.0</td>\n",
       "      <td>0.0</td>\n",
       "      <td>0</td>\n",
       "      <td>0</td>\n",
       "      <td>0</td>\n",
       "      <td>195.0</td>\n",
       "      <td>106.0</td>\n",
       "      <td>70.0</td>\n",
       "      <td>26.97</td>\n",
       "      <td>80.0</td>\n",
       "      <td>77.000000</td>\n",
       "      <td>0</td>\n",
       "    </tr>\n",
       "    <tr>\n",
       "      <th>1</th>\n",
       "      <td>0</td>\n",
       "      <td>46</td>\n",
       "      <td>0</td>\n",
       "      <td>0.0</td>\n",
       "      <td>0.0</td>\n",
       "      <td>0</td>\n",
       "      <td>0</td>\n",
       "      <td>0</td>\n",
       "      <td>250.0</td>\n",
       "      <td>121.0</td>\n",
       "      <td>81.0</td>\n",
       "      <td>28.73</td>\n",
       "      <td>95.0</td>\n",
       "      <td>76.000000</td>\n",
       "      <td>0</td>\n",
       "    </tr>\n",
       "    <tr>\n",
       "      <th>2</th>\n",
       "      <td>1</td>\n",
       "      <td>48</td>\n",
       "      <td>1</td>\n",
       "      <td>20.0</td>\n",
       "      <td>0.0</td>\n",
       "      <td>0</td>\n",
       "      <td>0</td>\n",
       "      <td>0</td>\n",
       "      <td>245.0</td>\n",
       "      <td>127.5</td>\n",
       "      <td>80.0</td>\n",
       "      <td>25.34</td>\n",
       "      <td>75.0</td>\n",
       "      <td>70.000000</td>\n",
       "      <td>0</td>\n",
       "    </tr>\n",
       "    <tr>\n",
       "      <th>3</th>\n",
       "      <td>0</td>\n",
       "      <td>61</td>\n",
       "      <td>1</td>\n",
       "      <td>30.0</td>\n",
       "      <td>0.0</td>\n",
       "      <td>0</td>\n",
       "      <td>1</td>\n",
       "      <td>0</td>\n",
       "      <td>225.0</td>\n",
       "      <td>150.0</td>\n",
       "      <td>95.0</td>\n",
       "      <td>28.58</td>\n",
       "      <td>65.0</td>\n",
       "      <td>103.000000</td>\n",
       "      <td>1</td>\n",
       "    </tr>\n",
       "    <tr>\n",
       "      <th>4</th>\n",
       "      <td>0</td>\n",
       "      <td>46</td>\n",
       "      <td>1</td>\n",
       "      <td>23.0</td>\n",
       "      <td>0.0</td>\n",
       "      <td>0</td>\n",
       "      <td>0</td>\n",
       "      <td>0</td>\n",
       "      <td>285.0</td>\n",
       "      <td>130.0</td>\n",
       "      <td>84.0</td>\n",
       "      <td>23.10</td>\n",
       "      <td>85.0</td>\n",
       "      <td>85.000000</td>\n",
       "      <td>0</td>\n",
       "    </tr>\n",
       "    <tr>\n",
       "      <th>...</th>\n",
       "      <td>...</td>\n",
       "      <td>...</td>\n",
       "      <td>...</td>\n",
       "      <td>...</td>\n",
       "      <td>...</td>\n",
       "      <td>...</td>\n",
       "      <td>...</td>\n",
       "      <td>...</td>\n",
       "      <td>...</td>\n",
       "      <td>...</td>\n",
       "      <td>...</td>\n",
       "      <td>...</td>\n",
       "      <td>...</td>\n",
       "      <td>...</td>\n",
       "      <td>...</td>\n",
       "    </tr>\n",
       "    <tr>\n",
       "      <th>4233</th>\n",
       "      <td>1</td>\n",
       "      <td>50</td>\n",
       "      <td>1</td>\n",
       "      <td>1.0</td>\n",
       "      <td>0.0</td>\n",
       "      <td>0</td>\n",
       "      <td>1</td>\n",
       "      <td>0</td>\n",
       "      <td>313.0</td>\n",
       "      <td>179.0</td>\n",
       "      <td>92.0</td>\n",
       "      <td>25.97</td>\n",
       "      <td>66.0</td>\n",
       "      <td>86.000000</td>\n",
       "      <td>1</td>\n",
       "    </tr>\n",
       "    <tr>\n",
       "      <th>4234</th>\n",
       "      <td>1</td>\n",
       "      <td>51</td>\n",
       "      <td>1</td>\n",
       "      <td>43.0</td>\n",
       "      <td>0.0</td>\n",
       "      <td>0</td>\n",
       "      <td>0</td>\n",
       "      <td>0</td>\n",
       "      <td>207.0</td>\n",
       "      <td>126.5</td>\n",
       "      <td>80.0</td>\n",
       "      <td>19.71</td>\n",
       "      <td>65.0</td>\n",
       "      <td>68.000000</td>\n",
       "      <td>0</td>\n",
       "    </tr>\n",
       "    <tr>\n",
       "      <th>4235</th>\n",
       "      <td>0</td>\n",
       "      <td>48</td>\n",
       "      <td>1</td>\n",
       "      <td>20.0</td>\n",
       "      <td>0.0</td>\n",
       "      <td>0</td>\n",
       "      <td>0</td>\n",
       "      <td>0</td>\n",
       "      <td>248.0</td>\n",
       "      <td>131.0</td>\n",
       "      <td>72.0</td>\n",
       "      <td>22.00</td>\n",
       "      <td>84.0</td>\n",
       "      <td>86.000000</td>\n",
       "      <td>0</td>\n",
       "    </tr>\n",
       "    <tr>\n",
       "      <th>4236</th>\n",
       "      <td>0</td>\n",
       "      <td>44</td>\n",
       "      <td>1</td>\n",
       "      <td>15.0</td>\n",
       "      <td>0.0</td>\n",
       "      <td>0</td>\n",
       "      <td>0</td>\n",
       "      <td>0</td>\n",
       "      <td>210.0</td>\n",
       "      <td>126.5</td>\n",
       "      <td>87.0</td>\n",
       "      <td>19.16</td>\n",
       "      <td>86.0</td>\n",
       "      <td>9.003089</td>\n",
       "      <td>0</td>\n",
       "    </tr>\n",
       "    <tr>\n",
       "      <th>4237</th>\n",
       "      <td>0</td>\n",
       "      <td>52</td>\n",
       "      <td>0</td>\n",
       "      <td>0.0</td>\n",
       "      <td>0.0</td>\n",
       "      <td>0</td>\n",
       "      <td>0</td>\n",
       "      <td>0</td>\n",
       "      <td>269.0</td>\n",
       "      <td>133.5</td>\n",
       "      <td>83.0</td>\n",
       "      <td>21.47</td>\n",
       "      <td>80.0</td>\n",
       "      <td>107.000000</td>\n",
       "      <td>0</td>\n",
       "    </tr>\n",
       "  </tbody>\n",
       "</table>\n",
       "<p>4238 rows × 15 columns</p>\n",
       "</div>"
      ],
      "text/plain": [
       "     sex  age currentSmoker  cigsPerDay  BPMeds  prevalentStroke  \\\n",
       "0      1   39             0         0.0     0.0                0   \n",
       "1      0   46             0         0.0     0.0                0   \n",
       "2      1   48             1        20.0     0.0                0   \n",
       "3      0   61             1        30.0     0.0                0   \n",
       "4      0   46             1        23.0     0.0                0   \n",
       "...   ..  ...           ...         ...     ...              ...   \n",
       "4233   1   50             1         1.0     0.0                0   \n",
       "4234   1   51             1        43.0     0.0                0   \n",
       "4235   0   48             1        20.0     0.0                0   \n",
       "4236   0   44             1        15.0     0.0                0   \n",
       "4237   0   52             0         0.0     0.0                0   \n",
       "\n",
       "      prevalentHyp  diabetes  totChol  sysBP  diaBP    BMI  heartRate  \\\n",
       "0                0         0    195.0  106.0   70.0  26.97       80.0   \n",
       "1                0         0    250.0  121.0   81.0  28.73       95.0   \n",
       "2                0         0    245.0  127.5   80.0  25.34       75.0   \n",
       "3                1         0    225.0  150.0   95.0  28.58       65.0   \n",
       "4                0         0    285.0  130.0   84.0  23.10       85.0   \n",
       "...            ...       ...      ...    ...    ...    ...        ...   \n",
       "4233             1         0    313.0  179.0   92.0  25.97       66.0   \n",
       "4234             0         0    207.0  126.5   80.0  19.71       65.0   \n",
       "4235             0         0    248.0  131.0   72.0  22.00       84.0   \n",
       "4236             0         0    210.0  126.5   87.0  19.16       86.0   \n",
       "4237             0         0    269.0  133.5   83.0  21.47       80.0   \n",
       "\n",
       "         glucose  TenYearCHD  \n",
       "0      77.000000           0  \n",
       "1      76.000000           0  \n",
       "2      70.000000           0  \n",
       "3     103.000000           1  \n",
       "4      85.000000           0  \n",
       "...          ...         ...  \n",
       "4233   86.000000           1  \n",
       "4234   68.000000           0  \n",
       "4235   86.000000           0  \n",
       "4236    9.003089           0  \n",
       "4237  107.000000           0  \n",
       "\n",
       "[4238 rows x 15 columns]"
      ]
     },
     "execution_count": 113,
     "metadata": {},
     "output_type": "execute_result"
    }
   ],
   "source": [
    "df "
   ]
  },
  {
   "cell_type": "markdown",
   "metadata": {},
   "source": [
    "# Detecting Outliers"
   ]
  },
  {
   "cell_type": "code",
   "execution_count": 114,
   "metadata": {},
   "outputs": [
    {
     "name": "stderr",
     "output_type": "stream",
     "text": [
      "C:\\ProgramData\\Anaconda3\\lib\\site-packages\\seaborn\\_decorators.py:36: FutureWarning: Pass the following variable as a keyword arg: x. From version 0.12, the only valid positional argument will be `data`, and passing other arguments without an explicit keyword will result in an error or misinterpretation.\n",
      "  warnings.warn(\n"
     ]
    },
    {
     "data": {
      "text/plain": [
       "<AxesSubplot:xlabel='age'>"
      ]
     },
     "execution_count": 114,
     "metadata": {},
     "output_type": "execute_result"
    },
    {
     "data": {
      "image/png": "[encoded data removed]",
      "text/plain": [
       "<Figure size 432x288 with 1 Axes>"
      ]
     },
     "metadata": {
      "needs_background": "light"
     },
     "output_type": "display_data"
    }
   ],
   "source": [
    "sns.boxplot(df['age']) #no outlier detected"
   ]
  },
  {
   "cell_type": "markdown",
   "metadata": {},
   "source": [
    "#Age column does not have any outlier"
   ]
  },
  {
   "cell_type": "code",
   "execution_count": 115,
   "metadata": {},
   "outputs": [
    {
     "name": "stderr",
     "output_type": "stream",
     "text": [
      "C:\\ProgramData\\Anaconda3\\lib\\site-packages\\seaborn\\_decorators.py:36: FutureWarning: Pass the following variable as a keyword arg: x. From version 0.12, the only valid positional argument will be `data`, and passing other arguments without an explicit keyword will result in an error or misinterpretation.\n",
      "  warnings.warn(\n"
     ]
    },
    {
     "data": {
      "text/plain": [
       "<AxesSubplot:xlabel='cigsPerDay'>"
      ]
     },
     "execution_count": 115,
     "metadata": {},
     "output_type": "execute_result"
    },
    {
     "data": {
      "image/png": "[encoded data removed]",
      "text/plain": [
       "<Figure size 432x288 with 1 Axes>"
      ]
     },
     "metadata": {
      "needs_background": "light"
     },
     "output_type": "display_data"
    }
   ],
   "source": [
    "sns.boxplot(df['cigsPerDay']) #outlier detcted"
   ]
  },
  {
   "cell_type": "markdown",
   "metadata": {},
   "source": [
    "#Here cigsPerDay have outliers so using statistical methods i.e InterQuartileRange we remove outliers."
   ]
  },
  {
   "cell_type": "code",
   "execution_count": 116,
   "metadata": {},
   "outputs": [
    {
     "name": "stdout",
     "output_type": "stream",
     "text": [
      "Number of Outliers Detected in cigsPerDay: 12\n"
     ]
    }
   ],
   "source": [
    "Q1 = df.cigsPerDay.quantile(0.25)\n",
    "Q3 = df.cigsPerDay.quantile(0.75)\n",
    "IQR=Q3-Q1\n",
    "lower=Q1-1.5*IQR\n",
    "upper=Q3+1.5*IQR\n",
    "df2 = df[(df['cigsPerDay']<lower) | (df['cigsPerDay']>upper)]\n",
    "print(\"Number of Outliers Detected in cigsPerDay:\",df2.shape[0])\n"
   ]
  },
  {
   "cell_type": "code",
   "execution_count": 117,
   "metadata": {},
   "outputs": [
    {
     "name": "stdout",
     "output_type": "stream",
     "text": [
      "Number of Outliers Detected in cigsPerDay: 180\n"
     ]
    }
   ],
   "source": [
    "max_val = df['cigsPerDay'].quantile(0.95) # df.cigsPerDay.quantile(0.95)\n",
    "min_val = df['cigsPerDay'].quantile(0.05) # df.cigsPerDay.quantile(0.05)\n",
    "df3 = df[(df['cigsPerDay']<min_val) | (df['cigsPerDay']>max_val)]\n",
    "print(\"Number of Outliers Detected in cigsPerDay:\",df3.shape[0])"
   ]
  },
  {
   "cell_type": "markdown",
   "metadata": {},
   "source": [
    "#since IQR strategy gives less outliers we go for IQR strategy and replace it wih upper and lower"
   ]
  },
  {
   "cell_type": "code",
   "execution_count": 118,
   "metadata": {},
   "outputs": [],
   "source": [
    "for i,data in df.iterrows():\n",
    "    if data['cigsPerDay']<lower:\n",
    "        df.at[i,'cigsPerDay']=lower # random no in proper range\n",
    "    elif data['cigsPerDay']>upper:\n",
    "        df.at[i,'cigsPerDay']=upper # random no in proper range"
   ]
  },
  {
   "cell_type": "code",
   "execution_count": 119,
   "metadata": {},
   "outputs": [
    {
     "name": "stderr",
     "output_type": "stream",
     "text": [
      "C:\\ProgramData\\Anaconda3\\lib\\site-packages\\seaborn\\_decorators.py:36: FutureWarning: Pass the following variable as a keyword arg: x. From version 0.12, the only valid positional argument will be `data`, and passing other arguments without an explicit keyword will result in an error or misinterpretation.\n",
      "  warnings.warn(\n"
     ]
    },
    {
     "data": {
      "text/plain": [
       "<AxesSubplot:xlabel='cigsPerDay'>"
      ]
     },
     "execution_count": 119,
     "metadata": {},
     "output_type": "execute_result"
    },
    {
     "data": {
      "image/png": "[encoded data removed]",
      "text/plain": [
       "<Figure size 432x288 with 1 Axes>"
      ]
     },
     "metadata": {
      "needs_background": "light"
     },
     "output_type": "display_data"
    }
   ],
   "source": [
    "sns.boxplot(df['cigsPerDay'])"
   ]
  },
  {
   "cell_type": "code",
   "execution_count": 120,
   "metadata": {},
   "outputs": [
    {
     "name": "stderr",
     "output_type": "stream",
     "text": [
      "C:\\ProgramData\\Anaconda3\\lib\\site-packages\\seaborn\\_decorators.py:36: FutureWarning: Pass the following variable as a keyword arg: x. From version 0.12, the only valid positional argument will be `data`, and passing other arguments without an explicit keyword will result in an error or misinterpretation.\n",
      "  warnings.warn(\n"
     ]
    },
    {
     "data": {
      "text/plain": [
       "<AxesSubplot:xlabel='totChol'>"
      ]
     },
     "execution_count": 120,
     "metadata": {},
     "output_type": "execute_result"
    },
    {
     "data": {
      "image/png": "[encoded data removed]",
      "text/plain": [
       "<Figure size 432x288 with 1 Axes>"
      ]
     },
     "metadata": {
      "needs_background": "light"
     },
     "output_type": "display_data"
    }
   ],
   "source": [
    "sns.boxplot(df['totChol']) #outlier detected"
   ]
  },
  {
   "cell_type": "markdown",
   "metadata": {},
   "source": [
    "#Here totChol have outliers so using statistical methods i.e InterQuartileRange we remove outliers."
   ]
  },
  {
   "cell_type": "code",
   "execution_count": 121,
   "metadata": {},
   "outputs": [
    {
     "name": "stdout",
     "output_type": "stream",
     "text": [
      "Number of Outliers Detected in totChol: 106\n"
     ]
    }
   ],
   "source": [
    "Q1 = df.totChol.quantile(0.25)\n",
    "Q3 = df.totChol.quantile(0.75)\n",
    "IQR=Q3-Q1\n",
    "lower=Q1-1.5*IQR\n",
    "upper=Q3+1.5*IQR\n",
    "df2 = df[(df['totChol']<lower) | (df['totChol']>upper)]\n",
    "print(\"Number of Outliers Detected in totChol:\",df2.shape[0])\n"
   ]
  },
  {
   "cell_type": "code",
   "execution_count": 122,
   "metadata": {},
   "outputs": [
    {
     "name": "stdout",
     "output_type": "stream",
     "text": [
      "Number of Outliers Detected in totChol: 397\n"
     ]
    }
   ],
   "source": [
    "max_val = df['totChol'].quantile(0.95)  # df.totChol.quantile(0.95)\n",
    "min_val = df['totChol'].quantile(0.05)  # df.totChol.quantile(0.05)\n",
    "df3 = df[(df['totChol']<min_val) | (df['totChol']>max_val)]\n",
    "print(\"Number of Outliers Detected in totChol:\",df3.shape[0])"
   ]
  },
  {
   "cell_type": "markdown",
   "metadata": {},
   "source": [
    "#since IQR strategy gives less outliers we go for IQR strategy and replace it wih upper and lower"
   ]
  },
  {
   "cell_type": "code",
   "execution_count": 123,
   "metadata": {},
   "outputs": [],
   "source": [
    "for i,data in df.iterrows():\n",
    "    if data['totChol']<lower:\n",
    "        df.at[i,'totChol']=lower # random no in proper range\n",
    "    elif data['totChol']>upper:\n",
    "        df.at[i,'totChol']=upper # random no in proper range"
   ]
  },
  {
   "cell_type": "code",
   "execution_count": 124,
   "metadata": {},
   "outputs": [
    {
     "name": "stderr",
     "output_type": "stream",
     "text": [
      "C:\\ProgramData\\Anaconda3\\lib\\site-packages\\seaborn\\_decorators.py:36: FutureWarning: Pass the following variable as a keyword arg: x. From version 0.12, the only valid positional argument will be `data`, and passing other arguments without an explicit keyword will result in an error or misinterpretation.\n",
      "  warnings.warn(\n"
     ]
    },
    {
     "data": {
      "text/plain": [
       "<AxesSubplot:xlabel='totChol'>"
      ]
     },
     "execution_count": 124,
     "metadata": {},
     "output_type": "execute_result"
    },
    {
     "data": {
      "image/png": "[encoded data removed]",
      "text/plain": [
       "<Figure size 432x288 with 1 Axes>"
      ]
     },
     "metadata": {
      "needs_background": "light"
     },
     "output_type": "display_data"
    }
   ],
   "source": [
    "sns.boxplot(df['totChol'])"
   ]
  },
  {
   "cell_type": "code",
   "execution_count": 125,
   "metadata": {},
   "outputs": [
    {
     "name": "stderr",
     "output_type": "stream",
     "text": [
      "C:\\ProgramData\\Anaconda3\\lib\\site-packages\\seaborn\\_decorators.py:36: FutureWarning: Pass the following variable as a keyword arg: x. From version 0.12, the only valid positional argument will be `data`, and passing other arguments without an explicit keyword will result in an error or misinterpretation.\n",
      "  warnings.warn(\n"
     ]
    },
    {
     "data": {
      "text/plain": [
       "<AxesSubplot:xlabel='sysBP'>"
      ]
     },
     "execution_count": 125,
     "metadata": {},
     "output_type": "execute_result"
    },
    {
     "data": {
      "image/png": "[encoded data removed]",
      "text/plain": [
       "<Figure size 432x288 with 1 Axes>"
      ]
     },
     "metadata": {
      "needs_background": "light"
     },
     "output_type": "display_data"
    }
   ],
   "source": [
    "sns.boxplot(df['sysBP']) #outlier detected"
   ]
  },
  {
   "cell_type": "markdown",
   "metadata": {},
   "source": [
    "#Here sysBP have outliers so using statistical methods i.e InterQuartileRange we remove outliers."
   ]
  },
  {
   "cell_type": "code",
   "execution_count": 126,
   "metadata": {},
   "outputs": [
    {
     "name": "stdout",
     "output_type": "stream",
     "text": [
      "Number of Outliers Detected in sysBP: 126\n"
     ]
    }
   ],
   "source": [
    "Q1 = df.sysBP.quantile(0.25)\n",
    "Q3 = df.sysBP.quantile(0.75)\n",
    "IQR=Q3-Q1\n",
    "lower=Q1-1.5*IQR\n",
    "upper=Q3+1.5*IQR\n",
    "df2 = df[(df['sysBP']<lower) | (df['sysBP']>upper)]\n",
    "print(\"Number of Outliers Detected in sysBP:\",df2.shape[0])\n"
   ]
  },
  {
   "cell_type": "code",
   "execution_count": 127,
   "metadata": {},
   "outputs": [
    {
     "name": "stdout",
     "output_type": "stream",
     "text": [
      "Number of Outliers Detected in sysBP: 407\n"
     ]
    }
   ],
   "source": [
    "max_val = df['sysBP'].quantile(0.95)  # df.sysBP.quantile(0.95)\n",
    "min_val = df['sysBP'].quantile(0.05)  # df.sysBP.quantile(0.05)\n",
    "df3 = df[(df['sysBP']<min_val) | (df['sysBP']>max_val)]\n",
    "print(\"Number of Outliers Detected in sysBP:\",df3.shape[0])"
   ]
  },
  {
   "cell_type": "markdown",
   "metadata": {},
   "source": [
    "#since IQR strategy gives less outliers we go for IQR strategy and replace it wih upper and lower"
   ]
  },
  {
   "cell_type": "code",
   "execution_count": 128,
   "metadata": {},
   "outputs": [],
   "source": [
    "for i,data in df.iterrows():\n",
    "    if data['sysBP']<lower:\n",
    "        df.at[i,'sysBP']=lower # random no in proper range\n",
    "    elif data['sysBP']>upper:\n",
    "        df.at[i,'sysBP']=upper # random no in proper range"
   ]
  },
  {
   "cell_type": "code",
   "execution_count": 129,
   "metadata": {},
   "outputs": [
    {
     "name": "stderr",
     "output_type": "stream",
     "text": [
      "C:\\ProgramData\\Anaconda3\\lib\\site-packages\\seaborn\\_decorators.py:36: FutureWarning: Pass the following variable as a keyword arg: x. From version 0.12, the only valid positional argument will be `data`, and passing other arguments without an explicit keyword will result in an error or misinterpretation.\n",
      "  warnings.warn(\n"
     ]
    },
    {
     "data": {
      "text/plain": [
       "<AxesSubplot:xlabel='sysBP'>"
      ]
     },
     "execution_count": 129,
     "metadata": {},
     "output_type": "execute_result"
    },
    {
     "data": {
      "image/png": "[encoded data removed]",
      "text/plain": [
       "<Figure size 432x288 with 1 Axes>"
      ]
     },
     "metadata": {
      "needs_background": "light"
     },
     "output_type": "display_data"
    }
   ],
   "source": [
    "sns.boxplot(df['sysBP'])"
   ]
  },
  {
   "cell_type": "code",
   "execution_count": 130,
   "metadata": {},
   "outputs": [
    {
     "name": "stderr",
     "output_type": "stream",
     "text": [
      "C:\\ProgramData\\Anaconda3\\lib\\site-packages\\seaborn\\_decorators.py:36: FutureWarning: Pass the following variable as a keyword arg: x. From version 0.12, the only valid positional argument will be `data`, and passing other arguments without an explicit keyword will result in an error or misinterpretation.\n",
      "  warnings.warn(\n"
     ]
    },
    {
     "data": {
      "text/plain": [
       "<AxesSubplot:xlabel='diaBP'>"
      ]
     },
     "execution_count": 130,
     "metadata": {},
     "output_type": "execute_result"
    },
    {
     "data": {
      "image/png": "[encoded data removed]",
      "text/plain": [
       "<Figure size 432x288 with 1 Axes>"
      ]
     },
     "metadata": {
      "needs_background": "light"
     },
     "output_type": "display_data"
    }
   ],
   "source": [
    "sns.boxplot(df['diaBP']) #outlier detected"
   ]
  },
  {
   "cell_type": "markdown",
   "metadata": {},
   "source": [
    "#Here diaBP have outliers so using statistical methods i.e InterQuartileRange we remove outliers."
   ]
  },
  {
   "cell_type": "code",
   "execution_count": 131,
   "metadata": {},
   "outputs": [
    {
     "name": "stdout",
     "output_type": "stream",
     "text": [
      "Number of Outliers detected in diaBP: 126\n"
     ]
    }
   ],
   "source": [
    "Q1 = df.diaBP.quantile(0.25)\n",
    "Q3 = df.diaBP.quantile(0.75)\n",
    "IQR = Q3-Q1\n",
    "lower=Q1-1.5*IQR\n",
    "upper=Q3+1.5*IQR\n",
    "df1 = df[(df['diaBP']<lower) | (df['diaBP']>upper)]\n",
    "print(\"Number of Outliers detected in diaBP:\",df2.shape[0])"
   ]
  },
  {
   "cell_type": "code",
   "execution_count": 132,
   "metadata": {},
   "outputs": [
    {
     "name": "stdout",
     "output_type": "stream",
     "text": [
      "Number of Outliers detected in diaBP: 418\n"
     ]
    }
   ],
   "source": [
    "max_val=df['diaBP'].quantile(0.95)  # df.diaBP.quantile(0.95)\n",
    "min_val=df['diaBP'].quantile(0.05)  # df.diaBP.quantile(0.05)\n",
    "df3 = df[(df['diaBP']<min_val) | (df['diaBP']>max_val)]\n",
    "print(\"Number of Outliers detected in diaBP:\",df3.shape[0])"
   ]
  },
  {
   "cell_type": "markdown",
   "metadata": {},
   "source": [
    "#since IQR strategy gives less outliers we go for IQR strategy and replace it wih upper and lower"
   ]
  },
  {
   "cell_type": "code",
   "execution_count": 133,
   "metadata": {},
   "outputs": [],
   "source": [
    "for i,data in df.iterrows():\n",
    "    if data['diaBP']<lower:\n",
    "        df.at[i,'diaBP']=lower # random no in proper range\n",
    "    elif data['diaBP']>upper:\n",
    "        df.at[i,'diaBP']=upper # random no in proper range\n"
   ]
  },
  {
   "cell_type": "code",
   "execution_count": 134,
   "metadata": {},
   "outputs": [
    {
     "name": "stderr",
     "output_type": "stream",
     "text": [
      "C:\\ProgramData\\Anaconda3\\lib\\site-packages\\seaborn\\_decorators.py:36: FutureWarning: Pass the following variable as a keyword arg: x. From version 0.12, the only valid positional argument will be `data`, and passing other arguments without an explicit keyword will result in an error or misinterpretation.\n",
      "  warnings.warn(\n"
     ]
    },
    {
     "data": {
      "text/plain": [
       "<AxesSubplot:xlabel='diaBP'>"
      ]
     },
     "execution_count": 134,
     "metadata": {},
     "output_type": "execute_result"
    },
    {
     "data": {
      "image/png": "[encoded data removed]",
      "text/plain": [
       "<Figure size 432x288 with 1 Axes>"
      ]
     },
     "metadata": {
      "needs_background": "light"
     },
     "output_type": "display_data"
    }
   ],
   "source": [
    "sns.boxplot(df['diaBP'])"
   ]
  },
  {
   "cell_type": "code",
   "execution_count": 135,
   "metadata": {},
   "outputs": [
    {
     "name": "stderr",
     "output_type": "stream",
     "text": [
      "C:\\ProgramData\\Anaconda3\\lib\\site-packages\\seaborn\\_decorators.py:36: FutureWarning: Pass the following variable as a keyword arg: x. From version 0.12, the only valid positional argument will be `data`, and passing other arguments without an explicit keyword will result in an error or misinterpretation.\n",
      "  warnings.warn(\n"
     ]
    },
    {
     "data": {
      "text/plain": [
       "<AxesSubplot:xlabel='BMI'>"
      ]
     },
     "execution_count": 135,
     "metadata": {},
     "output_type": "execute_result"
    },
    {
     "data": {
      "image/png": "[encoded data removed]",
      "text/plain": [
       "<Figure size 432x288 with 1 Axes>"
      ]
     },
     "metadata": {
      "needs_background": "light"
     },
     "output_type": "display_data"
    }
   ],
   "source": [
    "sns.boxplot(df['BMI']) #otlier detected"
   ]
  },
  {
   "cell_type": "markdown",
   "metadata": {},
   "source": [
    "#Here BMI have outliers so using statistical methods i.e InterQuartileRange we remove outliers."
   ]
  },
  {
   "cell_type": "code",
   "execution_count": 136,
   "metadata": {},
   "outputs": [
    {
     "name": "stdout",
     "output_type": "stream",
     "text": [
      "Number of Outliers detected in BMI: 116\n"
     ]
    }
   ],
   "source": [
    "Q1 = df.BMI.quantile(0.25)\n",
    "Q3 = df.BMI.quantile(0.75)\n",
    "IQR=Q3-Q1\n",
    "lower=Q1-1.5*IQR\n",
    "upper=Q3+1.5*IQR\n",
    "df2 = df[(df['BMI']<lower) | (df['BMI']>upper)]\n",
    "print(\"Number of Outliers detected in BMI:\",df2.shape[0])"
   ]
  },
  {
   "cell_type": "code",
   "execution_count": 137,
   "metadata": {},
   "outputs": [
    {
     "name": "stdout",
     "output_type": "stream",
     "text": [
      "Number of Outliers detected in BMI: 424\n"
     ]
    }
   ],
   "source": [
    "max_val=df['BMI'].quantile(0.95)  # df.BMI.quantile(0.95)\n",
    "min_val=df['BMI'].quantile(0.05)  # df.BMI.quantile(0.05)\n",
    "df3 = df[(df['BMI']<min_val) | (df['BMI']>max_val)]\n",
    "print(\"Number of Outliers detected in BMI:\",df3.shape[0])"
   ]
  },
  {
   "cell_type": "markdown",
   "metadata": {},
   "source": [
    "#since IQR strategy gives less outliers we go for IQR strategy and replace it wih upper and lower"
   ]
  },
  {
   "cell_type": "code",
   "execution_count": 138,
   "metadata": {},
   "outputs": [],
   "source": [
    "for i,data in df.iterrows():\n",
    "    if data['BMI']<lower:\n",
    "        df.at[i,'BMI']=lower # random no in proper range\n",
    "    elif data['BMI']>upper:\n",
    "        df.at[i,'BMI']=upper # random no in proper range\n",
    "        "
   ]
  },
  {
   "cell_type": "code",
   "execution_count": 139,
   "metadata": {},
   "outputs": [
    {
     "name": "stderr",
     "output_type": "stream",
     "text": [
      "C:\\ProgramData\\Anaconda3\\lib\\site-packages\\seaborn\\_decorators.py:36: FutureWarning: Pass the following variable as a keyword arg: x. From version 0.12, the only valid positional argument will be `data`, and passing other arguments without an explicit keyword will result in an error or misinterpretation.\n",
      "  warnings.warn(\n"
     ]
    },
    {
     "data": {
      "text/plain": [
       "<AxesSubplot:xlabel='BMI'>"
      ]
     },
     "execution_count": 139,
     "metadata": {},
     "output_type": "execute_result"
    },
    {
     "data": {
      "image/png": "[encoded data removed]",
      "text/plain": [
       "<Figure size 432x288 with 1 Axes>"
      ]
     },
     "metadata": {
      "needs_background": "light"
     },
     "output_type": "display_data"
    }
   ],
   "source": [
    "sns.boxplot(df['BMI'])"
   ]
  },
  {
   "cell_type": "code",
   "execution_count": 140,
   "metadata": {},
   "outputs": [
    {
     "name": "stderr",
     "output_type": "stream",
     "text": [
      "C:\\ProgramData\\Anaconda3\\lib\\site-packages\\seaborn\\_decorators.py:36: FutureWarning: Pass the following variable as a keyword arg: x. From version 0.12, the only valid positional argument will be `data`, and passing other arguments without an explicit keyword will result in an error or misinterpretation.\n",
      "  warnings.warn(\n"
     ]
    },
    {
     "data": {
      "text/plain": [
       "<AxesSubplot:xlabel='heartRate'>"
      ]
     },
     "execution_count": 140,
     "metadata": {},
     "output_type": "execute_result"
    },
    {
     "data": {
      "image/png": "[encoded data removed]",
      "text/plain": [
       "<Figure size 432x288 with 1 Axes>"
      ]
     },
     "metadata": {
      "needs_background": "light"
     },
     "output_type": "display_data"
    }
   ],
   "source": [
    "sns.boxplot(df['heartRate']) #outlier detected"
   ]
  },
  {
   "cell_type": "markdown",
   "metadata": {},
   "source": [
    "#Here heartRate have outliers so using statistical methods i.e InterQuartileRange we remove outliers."
   ]
  },
  {
   "cell_type": "code",
   "execution_count": 141,
   "metadata": {},
   "outputs": [
    {
     "name": "stdout",
     "output_type": "stream",
     "text": [
      "Number of Outliers detected in heartRate: 77\n"
     ]
    }
   ],
   "source": [
    "Q1 = df.heartRate.quantile(0.25)\n",
    "Q3 = df.heartRate.quantile(0.75)\n",
    "IQR=Q3-Q1\n",
    "lower=Q1-1.5*IQR\n",
    "upper=Q3+1.5*IQR\n",
    "df2 = df[(df['heartRate']<lower) | (df['heartRate']>upper)]\n",
    "print(\"Number of Outliers detected in heartRate:\",df2.shape[0])"
   ]
  },
  {
   "cell_type": "code",
   "execution_count": 142,
   "metadata": {},
   "outputs": [
    {
     "name": "stdout",
     "output_type": "stream",
     "text": [
      "Number of Outliers detected in heartRate: 411\n"
     ]
    }
   ],
   "source": [
    "max_val=df['heartRate'].quantile(0.95)  # df.heartRate.quantile(0.95)\n",
    "min_val=df['heartRate'].quantile(0.05)  # df.heartRate.quantile(0.05)\n",
    "df3=df[(df['heartRate']<min_val) | (df['heartRate']>max_val)]\n",
    "print(\"Number of Outliers detected in heartRate:\",df3.shape[0])"
   ]
  },
  {
   "cell_type": "markdown",
   "metadata": {},
   "source": [
    "#since IQR strategy gives less outliers we go for IQR strategy and replace it wih upper and lower"
   ]
  },
  {
   "cell_type": "code",
   "execution_count": 143,
   "metadata": {},
   "outputs": [],
   "source": [
    "for i,data in df.iterrows():\n",
    "    if data['heartRate']<lower:\n",
    "        df.at[i,'heartRate']=lower # random no in proper range\n",
    "    elif data['heartRate']>upper:\n",
    "        df.at[i,'heartRate']=upper # random no in proper range\n",
    "        "
   ]
  },
  {
   "cell_type": "code",
   "execution_count": 144,
   "metadata": {},
   "outputs": [
    {
     "name": "stderr",
     "output_type": "stream",
     "text": [
      "C:\\ProgramData\\Anaconda3\\lib\\site-packages\\seaborn\\_decorators.py:36: FutureWarning: Pass the following variable as a keyword arg: x. From version 0.12, the only valid positional argument will be `data`, and passing other arguments without an explicit keyword will result in an error or misinterpretation.\n",
      "  warnings.warn(\n"
     ]
    },
    {
     "data": {
      "text/plain": [
       "<AxesSubplot:xlabel='heartRate'>"
      ]
     },
     "execution_count": 144,
     "metadata": {},
     "output_type": "execute_result"
    },
    {
     "data": {
      "image/png": "[encoded data removed]",
      "text/plain": [
       "<Figure size 432x288 with 1 Axes>"
      ]
     },
     "metadata": {
      "needs_background": "light"
     },
     "output_type": "display_data"
    }
   ],
   "source": [
    "sns.boxplot(df['heartRate'])"
   ]
  },
  {
   "cell_type": "code",
   "execution_count": 145,
   "metadata": {},
   "outputs": [
    {
     "name": "stderr",
     "output_type": "stream",
     "text": [
      "C:\\ProgramData\\Anaconda3\\lib\\site-packages\\seaborn\\_decorators.py:36: FutureWarning: Pass the following variable as a keyword arg: x. From version 0.12, the only valid positional argument will be `data`, and passing other arguments without an explicit keyword will result in an error or misinterpretation.\n",
      "  warnings.warn(\n"
     ]
    },
    {
     "data": {
      "text/plain": [
       "<AxesSubplot:xlabel='glucose'>"
      ]
     },
     "execution_count": 145,
     "metadata": {},
     "output_type": "execute_result"
    },
    {
     "data": {
      "image/png": "[encoded data removed]",
      "text/plain": [
       "<Figure size 432x288 with 1 Axes>"
      ]
     },
     "metadata": {
      "needs_background": "light"
     },
     "output_type": "display_data"
    }
   ],
   "source": [
    "sns.boxplot(df['glucose']) #outlier detected"
   ]
  },
  {
   "cell_type": "markdown",
   "metadata": {},
   "source": [
    "#Here glucose have outliers so using statistical methods i.e InterQuartileRange we remove outliers."
   ]
  },
  {
   "cell_type": "code",
   "execution_count": 146,
   "metadata": {},
   "outputs": [
    {
     "name": "stdout",
     "output_type": "stream",
     "text": [
      "Number of Outliers detected in glucose: 571\n"
     ]
    }
   ],
   "source": [
    "Q1 = df.glucose.quantile(0.25)\n",
    "Q3 = df.glucose.quantile(0.75)\n",
    "IQR=Q3-Q1\n",
    "lower=Q1-1.5*IQR\n",
    "upper=Q3+1.5*IQR\n",
    "df2 = df[(df['glucose']<lower) | (df['glucose']>upper)]\n",
    "print(\"Number of Outliers detected in glucose:\",df2.shape[0])"
   ]
  },
  {
   "cell_type": "code",
   "execution_count": 147,
   "metadata": {},
   "outputs": [
    {
     "name": "stdout",
     "output_type": "stream",
     "text": [
      "Number of Outliers detected in glucose: 207\n"
     ]
    }
   ],
   "source": [
    "max_val=df['glucose'].quantile(0.95)  # df.glucose.quantile(0.95)\n",
    "min_val=df['glucose'].quantile(0.05)  # df.glucose.quantile(0.05)\n",
    "df3=df[(df['glucose']<min_val) | (df['glucose']>max_val)]\n",
    "print(\"Number of Outliers detected in glucose:\",df3.shape[0])"
   ]
  },
  {
   "cell_type": "markdown",
   "metadata": {},
   "source": [
    "#since IQR strategy gives less outliers we go for min_max strategy and replace it wih upper and lower"
   ]
  },
  {
   "cell_type": "code",
   "execution_count": 148,
   "metadata": {},
   "outputs": [],
   "source": [
    "for i,data in df.iterrows():\n",
    "    if data['glucose']<lower:\n",
    "        df.at[i,'glucose']=lower # random no in proper range\n",
    "    elif data['glucose']>upper:\n",
    "        df.at[i,'glucose']=upper # random no in proper range"
   ]
  },
  {
   "cell_type": "code",
   "execution_count": 149,
   "metadata": {},
   "outputs": [
    {
     "name": "stderr",
     "output_type": "stream",
     "text": [
      "C:\\ProgramData\\Anaconda3\\lib\\site-packages\\seaborn\\_decorators.py:36: FutureWarning: Pass the following variable as a keyword arg: x. From version 0.12, the only valid positional argument will be `data`, and passing other arguments without an explicit keyword will result in an error or misinterpretation.\n",
      "  warnings.warn(\n"
     ]
    },
    {
     "data": {
      "text/plain": [
       "<AxesSubplot:xlabel='glucose'>"
      ]
     },
     "execution_count": 149,
     "metadata": {},
     "output_type": "execute_result"
    },
    {
     "data": {
      "image/png": "[encoded data removed]",
      "text/plain": [
       "<Figure size 432x288 with 1 Axes>"
      ]
     },
     "metadata": {
      "needs_background": "light"
     },
     "output_type": "display_data"
    }
   ],
   "source": [
    "sns.boxplot(df['glucose'])"
   ]
  },
  {
   "cell_type": "code",
   "execution_count": 167,
   "metadata": {},
   "outputs": [
    {
     "data": {
      "text/html": [
       "<div>\n",
       "<style scoped>\n",
       "    .dataframe tbody tr th:only-of-type {\n",
       "        vertical-align: middle;\n",
       "    }\n",
       "\n",
       "    .dataframe tbody tr th {\n",
       "        vertical-align: top;\n",
       "    }\n",
       "\n",
       "    .dataframe thead th {\n",
       "        text-align: right;\n",
       "    }\n",
       "</style>\n",
       "<table border=\"1\" class=\"dataframe\">\n",
       "  <thead>\n",
       "    <tr style=\"text-align: right;\">\n",
       "      <th></th>\n",
       "      <th>sex</th>\n",
       "      <th>age</th>\n",
       "      <th>currentSmoker</th>\n",
       "      <th>cigsPerDay</th>\n",
       "      <th>BPMeds</th>\n",
       "      <th>prevalentStroke</th>\n",
       "      <th>prevalentHyp</th>\n",
       "      <th>diabetes</th>\n",
       "      <th>totChol</th>\n",
       "      <th>sysBP</th>\n",
       "      <th>diaBP</th>\n",
       "      <th>BMI</th>\n",
       "      <th>heartRate</th>\n",
       "      <th>glucose</th>\n",
       "      <th>TenYearCHD</th>\n",
       "    </tr>\n",
       "  </thead>\n",
       "  <tbody>\n",
       "    <tr>\n",
       "      <th>0</th>\n",
       "      <td>1</td>\n",
       "      <td>39</td>\n",
       "      <td>0</td>\n",
       "      <td>0.0</td>\n",
       "      <td>0.0</td>\n",
       "      <td>0</td>\n",
       "      <td>0</td>\n",
       "      <td>0</td>\n",
       "      <td>195.0</td>\n",
       "      <td>106.0</td>\n",
       "      <td>70.0</td>\n",
       "      <td>26.97</td>\n",
       "      <td>80.0</td>\n",
       "      <td>77.0</td>\n",
       "      <td>0</td>\n",
       "    </tr>\n",
       "    <tr>\n",
       "      <th>1</th>\n",
       "      <td>0</td>\n",
       "      <td>46</td>\n",
       "      <td>0</td>\n",
       "      <td>0.0</td>\n",
       "      <td>0.0</td>\n",
       "      <td>0</td>\n",
       "      <td>0</td>\n",
       "      <td>0</td>\n",
       "      <td>250.0</td>\n",
       "      <td>121.0</td>\n",
       "      <td>81.0</td>\n",
       "      <td>28.73</td>\n",
       "      <td>95.0</td>\n",
       "      <td>76.0</td>\n",
       "      <td>0</td>\n",
       "    </tr>\n",
       "    <tr>\n",
       "      <th>2</th>\n",
       "      <td>1</td>\n",
       "      <td>48</td>\n",
       "      <td>1</td>\n",
       "      <td>20.0</td>\n",
       "      <td>0.0</td>\n",
       "      <td>0</td>\n",
       "      <td>0</td>\n",
       "      <td>0</td>\n",
       "      <td>245.0</td>\n",
       "      <td>127.5</td>\n",
       "      <td>80.0</td>\n",
       "      <td>25.34</td>\n",
       "      <td>75.0</td>\n",
       "      <td>70.0</td>\n",
       "      <td>0</td>\n",
       "    </tr>\n",
       "    <tr>\n",
       "      <th>3</th>\n",
       "      <td>0</td>\n",
       "      <td>61</td>\n",
       "      <td>1</td>\n",
       "      <td>30.0</td>\n",
       "      <td>0.0</td>\n",
       "      <td>0</td>\n",
       "      <td>1</td>\n",
       "      <td>0</td>\n",
       "      <td>225.0</td>\n",
       "      <td>150.0</td>\n",
       "      <td>95.0</td>\n",
       "      <td>28.58</td>\n",
       "      <td>65.0</td>\n",
       "      <td>103.0</td>\n",
       "      <td>1</td>\n",
       "    </tr>\n",
       "    <tr>\n",
       "      <th>4</th>\n",
       "      <td>0</td>\n",
       "      <td>46</td>\n",
       "      <td>1</td>\n",
       "      <td>23.0</td>\n",
       "      <td>0.0</td>\n",
       "      <td>0</td>\n",
       "      <td>0</td>\n",
       "      <td>0</td>\n",
       "      <td>285.0</td>\n",
       "      <td>130.0</td>\n",
       "      <td>84.0</td>\n",
       "      <td>23.10</td>\n",
       "      <td>85.0</td>\n",
       "      <td>85.0</td>\n",
       "      <td>0</td>\n",
       "    </tr>\n",
       "    <tr>\n",
       "      <th>...</th>\n",
       "      <td>...</td>\n",
       "      <td>...</td>\n",
       "      <td>...</td>\n",
       "      <td>...</td>\n",
       "      <td>...</td>\n",
       "      <td>...</td>\n",
       "      <td>...</td>\n",
       "      <td>...</td>\n",
       "      <td>...</td>\n",
       "      <td>...</td>\n",
       "      <td>...</td>\n",
       "      <td>...</td>\n",
       "      <td>...</td>\n",
       "      <td>...</td>\n",
       "      <td>...</td>\n",
       "    </tr>\n",
       "    <tr>\n",
       "      <th>4233</th>\n",
       "      <td>1</td>\n",
       "      <td>50</td>\n",
       "      <td>1</td>\n",
       "      <td>1.0</td>\n",
       "      <td>0.0</td>\n",
       "      <td>0</td>\n",
       "      <td>1</td>\n",
       "      <td>0</td>\n",
       "      <td>313.0</td>\n",
       "      <td>179.0</td>\n",
       "      <td>92.0</td>\n",
       "      <td>25.97</td>\n",
       "      <td>66.0</td>\n",
       "      <td>86.0</td>\n",
       "      <td>1</td>\n",
       "    </tr>\n",
       "    <tr>\n",
       "      <th>4234</th>\n",
       "      <td>1</td>\n",
       "      <td>51</td>\n",
       "      <td>1</td>\n",
       "      <td>43.0</td>\n",
       "      <td>0.0</td>\n",
       "      <td>0</td>\n",
       "      <td>0</td>\n",
       "      <td>0</td>\n",
       "      <td>207.0</td>\n",
       "      <td>126.5</td>\n",
       "      <td>80.0</td>\n",
       "      <td>19.71</td>\n",
       "      <td>65.0</td>\n",
       "      <td>68.0</td>\n",
       "      <td>0</td>\n",
       "    </tr>\n",
       "    <tr>\n",
       "      <th>4235</th>\n",
       "      <td>0</td>\n",
       "      <td>48</td>\n",
       "      <td>1</td>\n",
       "      <td>20.0</td>\n",
       "      <td>0.0</td>\n",
       "      <td>0</td>\n",
       "      <td>0</td>\n",
       "      <td>0</td>\n",
       "      <td>248.0</td>\n",
       "      <td>131.0</td>\n",
       "      <td>72.0</td>\n",
       "      <td>22.00</td>\n",
       "      <td>84.0</td>\n",
       "      <td>86.0</td>\n",
       "      <td>0</td>\n",
       "    </tr>\n",
       "    <tr>\n",
       "      <th>4236</th>\n",
       "      <td>0</td>\n",
       "      <td>44</td>\n",
       "      <td>1</td>\n",
       "      <td>15.0</td>\n",
       "      <td>0.0</td>\n",
       "      <td>0</td>\n",
       "      <td>0</td>\n",
       "      <td>0</td>\n",
       "      <td>210.0</td>\n",
       "      <td>126.5</td>\n",
       "      <td>87.0</td>\n",
       "      <td>19.16</td>\n",
       "      <td>86.0</td>\n",
       "      <td>42.5</td>\n",
       "      <td>0</td>\n",
       "    </tr>\n",
       "    <tr>\n",
       "      <th>4237</th>\n",
       "      <td>0</td>\n",
       "      <td>52</td>\n",
       "      <td>0</td>\n",
       "      <td>0.0</td>\n",
       "      <td>0.0</td>\n",
       "      <td>0</td>\n",
       "      <td>0</td>\n",
       "      <td>0</td>\n",
       "      <td>269.0</td>\n",
       "      <td>133.5</td>\n",
       "      <td>83.0</td>\n",
       "      <td>21.47</td>\n",
       "      <td>80.0</td>\n",
       "      <td>107.0</td>\n",
       "      <td>0</td>\n",
       "    </tr>\n",
       "  </tbody>\n",
       "</table>\n",
       "<p>4238 rows × 15 columns</p>\n",
       "</div>"
      ],
      "text/plain": [
       "     sex  age currentSmoker  cigsPerDay  BPMeds  prevalentStroke  \\\n",
       "0      1   39             0         0.0     0.0                0   \n",
       "1      0   46             0         0.0     0.0                0   \n",
       "2      1   48             1        20.0     0.0                0   \n",
       "3      0   61             1        30.0     0.0                0   \n",
       "4      0   46             1        23.0     0.0                0   \n",
       "...   ..  ...           ...         ...     ...              ...   \n",
       "4233   1   50             1         1.0     0.0                0   \n",
       "4234   1   51             1        43.0     0.0                0   \n",
       "4235   0   48             1        20.0     0.0                0   \n",
       "4236   0   44             1        15.0     0.0                0   \n",
       "4237   0   52             0         0.0     0.0                0   \n",
       "\n",
       "      prevalentHyp  diabetes  totChol  sysBP  diaBP    BMI  heartRate  \\\n",
       "0                0         0    195.0  106.0   70.0  26.97       80.0   \n",
       "1                0         0    250.0  121.0   81.0  28.73       95.0   \n",
       "2                0         0    245.0  127.5   80.0  25.34       75.0   \n",
       "3                1         0    225.0  150.0   95.0  28.58       65.0   \n",
       "4                0         0    285.0  130.0   84.0  23.10       85.0   \n",
       "...            ...       ...      ...    ...    ...    ...        ...   \n",
       "4233             1         0    313.0  179.0   92.0  25.97       66.0   \n",
       "4234             0         0    207.0  126.5   80.0  19.71       65.0   \n",
       "4235             0         0    248.0  131.0   72.0  22.00       84.0   \n",
       "4236             0         0    210.0  126.5   87.0  19.16       86.0   \n",
       "4237             0         0    269.0  133.5   83.0  21.47       80.0   \n",
       "\n",
       "      glucose  TenYearCHD  \n",
       "0        77.0           0  \n",
       "1        76.0           0  \n",
       "2        70.0           0  \n",
       "3       103.0           1  \n",
       "4        85.0           0  \n",
       "...       ...         ...  \n",
       "4233     86.0           1  \n",
       "4234     68.0           0  \n",
       "4235     86.0           0  \n",
       "4236     42.5           0  \n",
       "4237    107.0           0  \n",
       "\n",
       "[4238 rows x 15 columns]"
      ]
     },
     "execution_count": 167,
     "metadata": {},
     "output_type": "execute_result"
    }
   ],
   "source": [
    "df"
   ]
  },
  {
   "cell_type": "markdown",
   "metadata": {},
   "source": [
    "# Plotting Of Graphs"
   ]
  },
  {
   "cell_type": "code",
   "execution_count": 168,
   "metadata": {},
   "outputs": [
    {
     "data": {
      "text/plain": [
       "0    2419\n",
       "1    1819\n",
       "Name: sex, dtype: int64"
      ]
     },
     "execution_count": 168,
     "metadata": {},
     "output_type": "execute_result"
    }
   ],
   "source": [
    "df[\"sex\"].value_counts() #it gives counts of unique values in descending order"
   ]
  },
  {
   "cell_type": "code",
   "execution_count": 169,
   "metadata": {},
   "outputs": [
    {
     "data": {
      "text/html": [
       "<div>\n",
       "<style scoped>\n",
       "    .dataframe tbody tr th:only-of-type {\n",
       "        vertical-align: middle;\n",
       "    }\n",
       "\n",
       "    .dataframe tbody tr th {\n",
       "        vertical-align: top;\n",
       "    }\n",
       "\n",
       "    .dataframe thead th {\n",
       "        text-align: right;\n",
       "    }\n",
       "</style>\n",
       "<table border=\"1\" class=\"dataframe\">\n",
       "  <thead>\n",
       "    <tr style=\"text-align: right;\">\n",
       "      <th></th>\n",
       "      <th>TenYearCHD</th>\n",
       "    </tr>\n",
       "    <tr>\n",
       "      <th>sex</th>\n",
       "      <th></th>\n",
       "    </tr>\n",
       "  </thead>\n",
       "  <tbody>\n",
       "    <tr>\n",
       "      <th>0</th>\n",
       "      <td>0.124432</td>\n",
       "    </tr>\n",
       "    <tr>\n",
       "      <th>1</th>\n",
       "      <td>0.188565</td>\n",
       "    </tr>\n",
       "  </tbody>\n",
       "</table>\n",
       "</div>"
      ],
      "text/plain": [
       "     TenYearCHD\n",
       "sex            \n",
       "0      0.124432\n",
       "1      0.188565"
      ]
     },
     "execution_count": 169,
     "metadata": {},
     "output_type": "execute_result"
    }
   ],
   "source": [
    "df[[\"sex\",\"TenYearCHD\"]].groupby([\"sex\"]).mean() "
   ]
  },
  {
   "cell_type": "code",
   "execution_count": 170,
   "metadata": {},
   "outputs": [
    {
     "data": {
      "text/plain": [
       "<AxesSubplot:xlabel='sex'>"
      ]
     },
     "execution_count": 170,
     "metadata": {},
     "output_type": "execute_result"
    },
    {
     "data": {
      "image/png": "[encoded data removed]",
      "text/plain": [
       "<Figure size 432x288 with 1 Axes>"
      ]
     },
     "metadata": {
      "needs_background": "light"
     },
     "output_type": "display_data"
    }
   ],
   "source": [
    "df[[\"sex\",\"TenYearCHD\"]].groupby([\"sex\"]).mean().plot(kind='bar')"
   ]
  },
  {
   "cell_type": "markdown",
   "metadata": {},
   "source": [
    "#Here male are more as compared to female"
   ]
  },
  {
   "cell_type": "code",
   "execution_count": 171,
   "metadata": {},
   "outputs": [
    {
     "data": {
      "text/html": [
       "<div>\n",
       "<style scoped>\n",
       "    .dataframe tbody tr th:only-of-type {\n",
       "        vertical-align: middle;\n",
       "    }\n",
       "\n",
       "    .dataframe tbody tr th {\n",
       "        vertical-align: top;\n",
       "    }\n",
       "\n",
       "    .dataframe thead th {\n",
       "        text-align: right;\n",
       "    }\n",
       "</style>\n",
       "<table border=\"1\" class=\"dataframe\">\n",
       "  <thead>\n",
       "    <tr style=\"text-align: right;\">\n",
       "      <th></th>\n",
       "      <th>TenYearCHD</th>\n",
       "    </tr>\n",
       "    <tr>\n",
       "      <th>currentSmoker</th>\n",
       "      <th></th>\n",
       "    </tr>\n",
       "  </thead>\n",
       "  <tbody>\n",
       "    <tr>\n",
       "      <th>0</th>\n",
       "      <td>0.145056</td>\n",
       "    </tr>\n",
       "    <tr>\n",
       "      <th>1</th>\n",
       "      <td>0.159026</td>\n",
       "    </tr>\n",
       "  </tbody>\n",
       "</table>\n",
       "</div>"
      ],
      "text/plain": [
       "               TenYearCHD\n",
       "currentSmoker            \n",
       "0                0.145056\n",
       "1                0.159026"
      ]
     },
     "execution_count": 171,
     "metadata": {},
     "output_type": "execute_result"
    }
   ],
   "source": [
    "df[[\"currentSmoker\",\"TenYearCHD\"]].groupby([\"currentSmoker\"]).mean()"
   ]
  },
  {
   "cell_type": "code",
   "execution_count": 172,
   "metadata": {},
   "outputs": [
    {
     "data": {
      "text/plain": [
       "0    2144\n",
       "1    2094\n",
       "Name: currentSmoker, dtype: int64"
      ]
     },
     "execution_count": 172,
     "metadata": {},
     "output_type": "execute_result"
    }
   ],
   "source": [
    "df[\"currentSmoker\"].value_counts() #it gives counts of unique values in descending order"
   ]
  },
  {
   "cell_type": "code",
   "execution_count": 173,
   "metadata": {},
   "outputs": [
    {
     "data": {
      "text/html": [
       "<div>\n",
       "<style scoped>\n",
       "    .dataframe tbody tr th:only-of-type {\n",
       "        vertical-align: middle;\n",
       "    }\n",
       "\n",
       "    .dataframe tbody tr th {\n",
       "        vertical-align: top;\n",
       "    }\n",
       "\n",
       "    .dataframe thead th {\n",
       "        text-align: right;\n",
       "    }\n",
       "</style>\n",
       "<table border=\"1\" class=\"dataframe\">\n",
       "  <thead>\n",
       "    <tr style=\"text-align: right;\">\n",
       "      <th></th>\n",
       "      <th>TenYearCHD</th>\n",
       "    </tr>\n",
       "    <tr>\n",
       "      <th>currentSmoker</th>\n",
       "      <th></th>\n",
       "    </tr>\n",
       "  </thead>\n",
       "  <tbody>\n",
       "    <tr>\n",
       "      <th>0</th>\n",
       "      <td>0.145056</td>\n",
       "    </tr>\n",
       "    <tr>\n",
       "      <th>1</th>\n",
       "      <td>0.159026</td>\n",
       "    </tr>\n",
       "  </tbody>\n",
       "</table>\n",
       "</div>"
      ],
      "text/plain": [
       "               TenYearCHD\n",
       "currentSmoker            \n",
       "0                0.145056\n",
       "1                0.159026"
      ]
     },
     "execution_count": 173,
     "metadata": {},
     "output_type": "execute_result"
    }
   ],
   "source": [
    "df[[\"currentSmoker\",\"TenYearCHD\"]].groupby([\"currentSmoker\"]).mean()"
   ]
  },
  {
   "cell_type": "code",
   "execution_count": 174,
   "metadata": {},
   "outputs": [
    {
     "data": {
      "text/plain": [
       "<AxesSubplot:xlabel='currentSmoker'>"
      ]
     },
     "execution_count": 174,
     "metadata": {},
     "output_type": "execute_result"
    },
    {
     "data": {
      "image/png": "[encoded data removed]",
      "text/plain": [
       "<Figure size 432x288 with 1 Axes>"
      ]
     },
     "metadata": {
      "needs_background": "light"
     },
     "output_type": "display_data"
    }
   ],
   "source": [
    "df[[\"currentSmoker\",\"TenYearCHD\"]].groupby([\"currentSmoker\"]).mean().plot(kind='bar')"
   ]
  },
  {
   "cell_type": "markdown",
   "metadata": {},
   "source": [
    "#non smoker are less as compared to smoker"
   ]
  },
  {
   "cell_type": "code",
   "execution_count": 175,
   "metadata": {},
   "outputs": [
    {
     "data": {
      "text/plain": [
       "<AxesSubplot:xlabel='currentSmoker,sex'>"
      ]
     },
     "execution_count": 175,
     "metadata": {},
     "output_type": "execute_result"
    },
    {
     "data": {
      "image/png": "[encoded data removed]",
      "text/plain": [
       "<Figure size 432x288 with 1 Axes>"
      ]
     },
     "metadata": {
      "needs_background": "light"
     },
     "output_type": "display_data"
    }
   ],
   "source": [
    "df[[\"currentSmoker\",\"sex\",\"TenYearCHD\"]].groupby([\"currentSmoker\",\"sex\"]).mean().plot(kind='bar')"
   ]
  },
  {
   "cell_type": "markdown",
   "metadata": {},
   "source": [
    "#from the above graph we conclude that male who smokes more are going to have chronic heart disease in future"
   ]
  },
  {
   "cell_type": "code",
   "execution_count": 176,
   "metadata": {},
   "outputs": [
    {
     "data": {
      "text/html": [
       "<div>\n",
       "<style scoped>\n",
       "    .dataframe tbody tr th:only-of-type {\n",
       "        vertical-align: middle;\n",
       "    }\n",
       "\n",
       "    .dataframe tbody tr th {\n",
       "        vertical-align: top;\n",
       "    }\n",
       "\n",
       "    .dataframe thead th {\n",
       "        text-align: right;\n",
       "    }\n",
       "</style>\n",
       "<table border=\"1\" class=\"dataframe\">\n",
       "  <thead>\n",
       "    <tr style=\"text-align: right;\">\n",
       "      <th></th>\n",
       "      <th>TenYearCHD</th>\n",
       "    </tr>\n",
       "    <tr>\n",
       "      <th>diabetes</th>\n",
       "      <th></th>\n",
       "    </tr>\n",
       "  </thead>\n",
       "  <tbody>\n",
       "    <tr>\n",
       "      <th>0</th>\n",
       "      <td>0.146282</td>\n",
       "    </tr>\n",
       "    <tr>\n",
       "      <th>1</th>\n",
       "      <td>0.366972</td>\n",
       "    </tr>\n",
       "  </tbody>\n",
       "</table>\n",
       "</div>"
      ],
      "text/plain": [
       "          TenYearCHD\n",
       "diabetes            \n",
       "0           0.146282\n",
       "1           0.366972"
      ]
     },
     "execution_count": 176,
     "metadata": {},
     "output_type": "execute_result"
    }
   ],
   "source": [
    "df[[\"diabetes\",\"TenYearCHD\"]].groupby([\"diabetes\"]).mean()"
   ]
  },
  {
   "cell_type": "code",
   "execution_count": 177,
   "metadata": {},
   "outputs": [
    {
     "data": {
      "text/plain": [
       "<AxesSubplot:xlabel='diabetes'>"
      ]
     },
     "execution_count": 177,
     "metadata": {},
     "output_type": "execute_result"
    },
    {
     "data": {
      "image/png": "[encoded data removed]",
      "text/plain": [
       "<Figure size 432x288 with 1 Axes>"
      ]
     },
     "metadata": {
      "needs_background": "light"
     },
     "output_type": "display_data"
    }
   ],
   "source": [
    "df[[\"diabetes\",\"TenYearCHD\"]].groupby([\"diabetes\"]).mean().plot(kind='bar')"
   ]
  },
  {
   "cell_type": "markdown",
   "metadata": {},
   "source": [
    "#from the above graph we conclude that the person having diabetes have more chances of having heart disease"
   ]
  },
  {
   "cell_type": "code",
   "execution_count": 178,
   "metadata": {},
   "outputs": [
    {
     "data": {
      "text/plain": [
       "<AxesSubplot:xlabel='diabetes,sex'>"
      ]
     },
     "execution_count": 178,
     "metadata": {},
     "output_type": "execute_result"
    },
    {
     "data": {
      "image/png": "[encoded data removed]",
      "text/plain": [
       "<Figure size 432x288 with 1 Axes>"
      ]
     },
     "metadata": {
      "needs_background": "light"
     },
     "output_type": "display_data"
    }
   ],
   "source": [
    "df[[\"diabetes\",\"sex\",\"TenYearCHD\"]].groupby([\"diabetes\",\"sex\"]).mean().plot(kind='bar')"
   ]
  },
  {
   "cell_type": "markdown",
   "metadata": {},
   "source": [
    "#from the above graph we conclude that males having diabetes are more likely to have heart disease"
   ]
  },
  {
   "cell_type": "code",
   "execution_count": 179,
   "metadata": {},
   "outputs": [
    {
     "data": {
      "text/plain": [
       "0    4129\n",
       "1     109\n",
       "Name: diabetes, dtype: int64"
      ]
     },
     "execution_count": 179,
     "metadata": {},
     "output_type": "execute_result"
    }
   ],
   "source": [
    "df[\"diabetes\"].value_counts()\n"
   ]
  },
  {
   "cell_type": "code",
   "execution_count": 180,
   "metadata": {},
   "outputs": [
    {
     "data": {
      "text/html": [
       "<div>\n",
       "<style scoped>\n",
       "    .dataframe tbody tr th:only-of-type {\n",
       "        vertical-align: middle;\n",
       "    }\n",
       "\n",
       "    .dataframe tbody tr th {\n",
       "        vertical-align: top;\n",
       "    }\n",
       "\n",
       "    .dataframe thead th {\n",
       "        text-align: right;\n",
       "    }\n",
       "</style>\n",
       "<table border=\"1\" class=\"dataframe\">\n",
       "  <thead>\n",
       "    <tr style=\"text-align: right;\">\n",
       "      <th></th>\n",
       "      <th>diabetes</th>\n",
       "    </tr>\n",
       "    <tr>\n",
       "      <th>TenYearCHD</th>\n",
       "      <th></th>\n",
       "    </tr>\n",
       "  </thead>\n",
       "  <tbody>\n",
       "    <tr>\n",
       "      <th>1</th>\n",
       "      <td>0.062112</td>\n",
       "    </tr>\n",
       "    <tr>\n",
       "      <th>0</th>\n",
       "      <td>0.019199</td>\n",
       "    </tr>\n",
       "  </tbody>\n",
       "</table>\n",
       "</div>"
      ],
      "text/plain": [
       "            diabetes\n",
       "TenYearCHD          \n",
       "1           0.062112\n",
       "0           0.019199"
      ]
     },
     "execution_count": 180,
     "metadata": {},
     "output_type": "execute_result"
    }
   ],
   "source": [
    "df[['diabetes','TenYearCHD']].groupby(['TenYearCHD']).mean().sort_values(by='TenYearCHD',ascending=False)"
   ]
  },
  {
   "cell_type": "code",
   "execution_count": 181,
   "metadata": {},
   "outputs": [
    {
     "data": {
      "text/plain": [
       "<AxesSubplot:xlabel='TenYearCHD'>"
      ]
     },
     "execution_count": 181,
     "metadata": {},
     "output_type": "execute_result"
    },
    {
     "data": {
      "image/png": "[encoded data removed]",
      "text/plain": [
       "<Figure size 432x288 with 1 Axes>"
      ]
     },
     "metadata": {
      "needs_background": "light"
     },
     "output_type": "display_data"
    }
   ],
   "source": [
    "df[['diabetes','TenYearCHD']].groupby(['TenYearCHD']).mean().sort_values(by='TenYearCHD',ascending=False).plot(kind='bar')"
   ]
  },
  {
   "cell_type": "code",
   "execution_count": 182,
   "metadata": {},
   "outputs": [
    {
     "data": {
      "text/plain": [
       "0         (75.0, 83.0]\n",
       "1        (83.0, 105.5]\n",
       "2         (68.0, 75.0]\n",
       "3       (45.499, 68.0]\n",
       "4        (83.0, 105.5]\n",
       "             ...      \n",
       "4233    (45.499, 68.0]\n",
       "4234    (45.499, 68.0]\n",
       "4235     (83.0, 105.5]\n",
       "4236     (83.0, 105.5]\n",
       "4237      (75.0, 83.0]\n",
       "Name: CategoricalheartRate, Length: 4238, dtype: category\n",
       "Categories (4, interval[float64]): [(45.499, 68.0] < (68.0, 75.0] < (75.0, 83.0] < (83.0, 105.5]]"
      ]
     },
     "execution_count": 182,
     "metadata": {},
     "output_type": "execute_result"
    }
   ],
   "source": [
    "df[\"CategoricalheartRate\"]=pd.qcut(df['heartRate'],4) #qcut is used to define the no. of quantiles and pandas figures out how to divide the data.\n",
    "df[\"CategoricalheartRate\"]"
   ]
  },
  {
   "cell_type": "code",
   "execution_count": 183,
   "metadata": {},
   "outputs": [
    {
     "data": {
      "text/html": [
       "<div>\n",
       "<style scoped>\n",
       "    .dataframe tbody tr th:only-of-type {\n",
       "        vertical-align: middle;\n",
       "    }\n",
       "\n",
       "    .dataframe tbody tr th {\n",
       "        vertical-align: top;\n",
       "    }\n",
       "\n",
       "    .dataframe thead th {\n",
       "        text-align: right;\n",
       "    }\n",
       "</style>\n",
       "<table border=\"1\" class=\"dataframe\">\n",
       "  <thead>\n",
       "    <tr style=\"text-align: right;\">\n",
       "      <th></th>\n",
       "      <th>TenYearCHD</th>\n",
       "    </tr>\n",
       "    <tr>\n",
       "      <th>CategoricalheartRate</th>\n",
       "      <th></th>\n",
       "    </tr>\n",
       "  </thead>\n",
       "  <tbody>\n",
       "    <tr>\n",
       "      <th>(83.0, 105.5]</th>\n",
       "      <td>0.162586</td>\n",
       "    </tr>\n",
       "    <tr>\n",
       "      <th>(75.0, 83.0]</th>\n",
       "      <td>0.154653</td>\n",
       "    </tr>\n",
       "    <tr>\n",
       "      <th>(45.499, 68.0]</th>\n",
       "      <td>0.153520</td>\n",
       "    </tr>\n",
       "    <tr>\n",
       "      <th>(68.0, 75.0]</th>\n",
       "      <td>0.140392</td>\n",
       "    </tr>\n",
       "  </tbody>\n",
       "</table>\n",
       "</div>"
      ],
      "text/plain": [
       "                      TenYearCHD\n",
       "CategoricalheartRate            \n",
       "(83.0, 105.5]           0.162586\n",
       "(75.0, 83.0]            0.154653\n",
       "(45.499, 68.0]          0.153520\n",
       "(68.0, 75.0]            0.140392"
      ]
     },
     "execution_count": 183,
     "metadata": {},
     "output_type": "execute_result"
    }
   ],
   "source": [
    "df[['CategoricalheartRate','TenYearCHD']].groupby(['CategoricalheartRate']).mean().sort_values(by='TenYearCHD',ascending=False)"
   ]
  },
  {
   "cell_type": "code",
   "execution_count": 184,
   "metadata": {},
   "outputs": [
    {
     "data": {
      "text/plain": [
       "<AxesSubplot:xlabel='CategoricalheartRate'>"
      ]
     },
     "execution_count": 184,
     "metadata": {},
     "output_type": "execute_result"
    },
    {
     "data": {
      "image/png": "[encoded data removed]",
      "text/plain": [
       "<Figure size 432x288 with 1 Axes>"
      ]
     },
     "metadata": {
      "needs_background": "light"
     },
     "output_type": "display_data"
    }
   ],
   "source": [
    "df[['CategoricalheartRate','TenYearCHD']].groupby(['CategoricalheartRate']).mean().sort_values(by='TenYearCHD',ascending=False).plot(kind='bar',grid='True')"
   ]
  },
  {
   "cell_type": "markdown",
   "metadata": {},
   "source": [
    "#from the above graph we conclude that the person having heartrate between 83.0-105.5 have high chances of having heart disease"
   ]
  },
  {
   "cell_type": "code",
   "execution_count": 185,
   "metadata": {},
   "outputs": [
    {
     "data": {
      "text/plain": [
       "8.572159925118507"
      ]
     },
     "execution_count": 185,
     "metadata": {},
     "output_type": "execute_result"
    }
   ],
   "source": [
    "std_age=df['age'].std()\n",
    "std_age"
   ]
  },
  {
   "cell_type": "code",
   "execution_count": 186,
   "metadata": {},
   "outputs": [
    {
     "data": {
      "text/plain": [
       "49.58494572911751"
      ]
     },
     "execution_count": 186,
     "metadata": {},
     "output_type": "execute_result"
    }
   ],
   "source": [
    "avg_age=df['age'].mean()\n",
    "avg_age"
   ]
  },
  {
   "cell_type": "code",
   "execution_count": 187,
   "metadata": {},
   "outputs": [
    {
     "data": {
      "text/plain": [
       "0       (31.999, 41.0]\n",
       "1         (41.0, 46.0]\n",
       "2         (46.0, 52.0]\n",
       "3         (58.0, 70.0]\n",
       "4         (41.0, 46.0]\n",
       "             ...      \n",
       "4233      (46.0, 52.0]\n",
       "4234      (46.0, 52.0]\n",
       "4235      (46.0, 52.0]\n",
       "4236      (41.0, 46.0]\n",
       "4237      (46.0, 52.0]\n",
       "Name: Categoricalage, Length: 4238, dtype: category\n",
       "Categories (5, interval[float64]): [(31.999, 41.0] < (41.0, 46.0] < (46.0, 52.0] < (52.0, 58.0] < (58.0, 70.0]]"
      ]
     },
     "execution_count": 187,
     "metadata": {},
     "output_type": "execute_result"
    }
   ],
   "source": [
    "df[\"Categoricalage\"]=pd.qcut(df['age'],5)#\n",
    "df[\"Categoricalage\"]"
   ]
  },
  {
   "cell_type": "code",
   "execution_count": 188,
   "metadata": {},
   "outputs": [
    {
     "data": {
      "text/html": [
       "<div>\n",
       "<style scoped>\n",
       "    .dataframe tbody tr th:only-of-type {\n",
       "        vertical-align: middle;\n",
       "    }\n",
       "\n",
       "    .dataframe tbody tr th {\n",
       "        vertical-align: top;\n",
       "    }\n",
       "\n",
       "    .dataframe thead th {\n",
       "        text-align: right;\n",
       "    }\n",
       "</style>\n",
       "<table border=\"1\" class=\"dataframe\">\n",
       "  <thead>\n",
       "    <tr style=\"text-align: right;\">\n",
       "      <th></th>\n",
       "      <th>TenYearCHD</th>\n",
       "    </tr>\n",
       "    <tr>\n",
       "      <th>Categoricalage</th>\n",
       "      <th></th>\n",
       "    </tr>\n",
       "  </thead>\n",
       "  <tbody>\n",
       "    <tr>\n",
       "      <th>(58.0, 70.0]</th>\n",
       "      <td>0.273177</td>\n",
       "    </tr>\n",
       "    <tr>\n",
       "      <th>(52.0, 58.0]</th>\n",
       "      <td>0.191271</td>\n",
       "    </tr>\n",
       "    <tr>\n",
       "      <th>(46.0, 52.0]</th>\n",
       "      <td>0.172531</td>\n",
       "    </tr>\n",
       "    <tr>\n",
       "      <th>(41.0, 46.0]</th>\n",
       "      <td>0.085984</td>\n",
       "    </tr>\n",
       "    <tr>\n",
       "      <th>(31.999, 41.0]</th>\n",
       "      <td>0.053261</td>\n",
       "    </tr>\n",
       "  </tbody>\n",
       "</table>\n",
       "</div>"
      ],
      "text/plain": [
       "                TenYearCHD\n",
       "Categoricalage            \n",
       "(58.0, 70.0]      0.273177\n",
       "(52.0, 58.0]      0.191271\n",
       "(46.0, 52.0]      0.172531\n",
       "(41.0, 46.0]      0.085984\n",
       "(31.999, 41.0]    0.053261"
      ]
     },
     "execution_count": 188,
     "metadata": {},
     "output_type": "execute_result"
    }
   ],
   "source": [
    "df[['Categoricalage','TenYearCHD']].groupby(['Categoricalage']).mean().sort_values(by='TenYearCHD',ascending=False)"
   ]
  },
  {
   "cell_type": "code",
   "execution_count": 189,
   "metadata": {},
   "outputs": [
    {
     "data": {
      "text/plain": [
       "<AxesSubplot:xlabel='Categoricalage'>"
      ]
     },
     "execution_count": 189,
     "metadata": {},
     "output_type": "execute_result"
    },
    {
     "data": {
      "image/png": "[encoded data removed]",
      "text/plain": [
       "<Figure size 432x288 with 1 Axes>"
      ]
     },
     "metadata": {
      "needs_background": "light"
     },
     "output_type": "display_data"
    }
   ],
   "source": [
    "df[['Categoricalage','TenYearCHD']].groupby(['Categoricalage']).mean().sort_values(by='TenYearCHD',ascending=False).plot(kind='bar')"
   ]
  },
  {
   "cell_type": "markdown",
   "metadata": {},
   "source": [
    "#from above graph we conclude that age group between 58-70 can have heart disease"
   ]
  },
  {
   "cell_type": "code",
   "execution_count": 190,
   "metadata": {},
   "outputs": [
    {
     "data": {
      "text/plain": [
       "0    4213\n",
       "1      25\n",
       "Name: prevalentStroke, dtype: int64"
      ]
     },
     "execution_count": 190,
     "metadata": {},
     "output_type": "execute_result"
    }
   ],
   "source": [
    "df[\"prevalentStroke\"].value_counts()"
   ]
  },
  {
   "cell_type": "code",
   "execution_count": 191,
   "metadata": {},
   "outputs": [
    {
     "data": {
      "text/html": [
       "<div>\n",
       "<style scoped>\n",
       "    .dataframe tbody tr th:only-of-type {\n",
       "        vertical-align: middle;\n",
       "    }\n",
       "\n",
       "    .dataframe tbody tr th {\n",
       "        vertical-align: top;\n",
       "    }\n",
       "\n",
       "    .dataframe thead th {\n",
       "        text-align: right;\n",
       "    }\n",
       "</style>\n",
       "<table border=\"1\" class=\"dataframe\">\n",
       "  <thead>\n",
       "    <tr style=\"text-align: right;\">\n",
       "      <th></th>\n",
       "      <th>prevalentStroke</th>\n",
       "    </tr>\n",
       "    <tr>\n",
       "      <th>TenYearCHD</th>\n",
       "      <th></th>\n",
       "    </tr>\n",
       "  </thead>\n",
       "  <tbody>\n",
       "    <tr>\n",
       "      <th>1</th>\n",
       "      <td>0.017081</td>\n",
       "    </tr>\n",
       "    <tr>\n",
       "      <th>0</th>\n",
       "      <td>0.003895</td>\n",
       "    </tr>\n",
       "  </tbody>\n",
       "</table>\n",
       "</div>"
      ],
      "text/plain": [
       "            prevalentStroke\n",
       "TenYearCHD                 \n",
       "1                  0.017081\n",
       "0                  0.003895"
      ]
     },
     "execution_count": 191,
     "metadata": {},
     "output_type": "execute_result"
    }
   ],
   "source": [
    "df[['prevalentStroke','TenYearCHD']].groupby(['TenYearCHD']).mean().sort_values(by='TenYearCHD',ascending=False)"
   ]
  },
  {
   "cell_type": "code",
   "execution_count": 192,
   "metadata": {},
   "outputs": [
    {
     "data": {
      "text/plain": [
       "<AxesSubplot:xlabel='TenYearCHD'>"
      ]
     },
     "execution_count": 192,
     "metadata": {},
     "output_type": "execute_result"
    },
    {
     "data": {
      "image/png": "[encoded data removed]",
      "text/plain": [
       "<Figure size 432x288 with 1 Axes>"
      ]
     },
     "metadata": {
      "needs_background": "light"
     },
     "output_type": "display_data"
    }
   ],
   "source": [
    "df[['prevalentStroke','TenYearCHD']].groupby(['TenYearCHD']).mean().sort_values(by='TenYearCHD',ascending=False).plot(kind='bar')"
   ]
  },
  {
   "cell_type": "markdown",
   "metadata": {},
   "source": [
    "#from the above graph we conclude that person having prevalent stroke may have heart disease"
   ]
  },
  {
   "cell_type": "code",
   "execution_count": 193,
   "metadata": {},
   "outputs": [
    {
     "data": {
      "text/plain": [
       "0    2922\n",
       "1    1316\n",
       "Name: prevalentHyp, dtype: int64"
      ]
     },
     "execution_count": 193,
     "metadata": {},
     "output_type": "execute_result"
    }
   ],
   "source": [
    "df[\"prevalentHyp\"].value_counts()"
   ]
  },
  {
   "cell_type": "code",
   "execution_count": 194,
   "metadata": {},
   "outputs": [
    {
     "data": {
      "text/plain": [
       "<AxesSubplot:>"
      ]
     },
     "execution_count": 194,
     "metadata": {},
     "output_type": "execute_result"
    },
    {
     "data": {
      "image/png": "[encoded data removed]",
      "text/plain": [
       "<Figure size 432x288 with 1 Axes>"
      ]
     },
     "metadata": {
      "needs_background": "light"
     },
     "output_type": "display_data"
    }
   ],
   "source": [
    "df[\"prevalentHyp\"].value_counts().plot(kind='bar')"
   ]
  },
  {
   "cell_type": "code",
   "execution_count": 195,
   "metadata": {},
   "outputs": [
    {
     "data": {
      "text/html": [
       "<div>\n",
       "<style scoped>\n",
       "    .dataframe tbody tr th:only-of-type {\n",
       "        vertical-align: middle;\n",
       "    }\n",
       "\n",
       "    .dataframe tbody tr th {\n",
       "        vertical-align: top;\n",
       "    }\n",
       "\n",
       "    .dataframe thead th {\n",
       "        text-align: right;\n",
       "    }\n",
       "</style>\n",
       "<table border=\"1\" class=\"dataframe\">\n",
       "  <thead>\n",
       "    <tr style=\"text-align: right;\">\n",
       "      <th></th>\n",
       "      <th>prevalentHyp</th>\n",
       "    </tr>\n",
       "    <tr>\n",
       "      <th>TenYearCHD</th>\n",
       "      <th></th>\n",
       "    </tr>\n",
       "  </thead>\n",
       "  <tbody>\n",
       "    <tr>\n",
       "      <th>1</th>\n",
       "      <td>0.504658</td>\n",
       "    </tr>\n",
       "    <tr>\n",
       "      <th>0</th>\n",
       "      <td>0.275737</td>\n",
       "    </tr>\n",
       "  </tbody>\n",
       "</table>\n",
       "</div>"
      ],
      "text/plain": [
       "            prevalentHyp\n",
       "TenYearCHD              \n",
       "1               0.504658\n",
       "0               0.275737"
      ]
     },
     "execution_count": 195,
     "metadata": {},
     "output_type": "execute_result"
    }
   ],
   "source": [
    "df[['prevalentHyp','TenYearCHD']].groupby(['TenYearCHD']).mean().sort_values(by='TenYearCHD',ascending=False)"
   ]
  },
  {
   "cell_type": "code",
   "execution_count": 196,
   "metadata": {},
   "outputs": [
    {
     "data": {
      "text/plain": [
       "<AxesSubplot:xlabel='TenYearCHD'>"
      ]
     },
     "execution_count": 196,
     "metadata": {},
     "output_type": "execute_result"
    },
    {
     "data": {
      "image/png": "[encoded data removed]",
      "text/plain": [
       "<Figure size 432x288 with 1 Axes>"
      ]
     },
     "metadata": {
      "needs_background": "light"
     },
     "output_type": "display_data"
    }
   ],
   "source": [
    "df[['prevalentHyp','TenYearCHD']].groupby(['TenYearCHD']).mean().sort_values(by='TenYearCHD',ascending=False).plot(kind='bar')"
   ]
  },
  {
   "cell_type": "code",
   "execution_count": 197,
   "metadata": {},
   "outputs": [
    {
     "data": {
      "text/plain": [
       "240.0    85\n",
       "220.0    70\n",
       "260.0    62\n",
       "210.0    61\n",
       "232.0    59\n",
       "         ..\n",
       "129.0     1\n",
       "133.0     1\n",
       "338.0     1\n",
       "336.0     1\n",
       "331.0     1\n",
       "Name: totChol, Length: 210, dtype: int64"
      ]
     },
     "execution_count": 197,
     "metadata": {},
     "output_type": "execute_result"
    }
   ],
   "source": [
    "df[\"totChol\"].value_counts()"
   ]
  },
  {
   "cell_type": "code",
   "execution_count": 198,
   "metadata": {},
   "outputs": [
    {
     "data": {
      "text/plain": [
       "0       (119.499, 198.0]\n",
       "1         (243.0, 271.0]\n",
       "2         (243.0, 271.0]\n",
       "3         (222.0, 243.0]\n",
       "4         (271.0, 347.5]\n",
       "              ...       \n",
       "4233      (271.0, 347.5]\n",
       "4234      (198.0, 222.0]\n",
       "4235      (243.0, 271.0]\n",
       "4236      (198.0, 222.0]\n",
       "4237      (243.0, 271.0]\n",
       "Name: CategoricaltotChol, Length: 4238, dtype: category\n",
       "Categories (5, interval[float64]): [(119.499, 198.0] < (198.0, 222.0] < (222.0, 243.0] < (243.0, 271.0] < (271.0, 347.5]]"
      ]
     },
     "execution_count": 198,
     "metadata": {},
     "output_type": "execute_result"
    }
   ],
   "source": [
    "df[\"CategoricaltotChol\"]=pd.qcut(df['totChol'],5)\n",
    "df[\"CategoricaltotChol\"]"
   ]
  },
  {
   "cell_type": "code",
   "execution_count": 199,
   "metadata": {},
   "outputs": [
    {
     "data": {
      "text/html": [
       "<div>\n",
       "<style scoped>\n",
       "    .dataframe tbody tr th:only-of-type {\n",
       "        vertical-align: middle;\n",
       "    }\n",
       "\n",
       "    .dataframe tbody tr th {\n",
       "        vertical-align: top;\n",
       "    }\n",
       "\n",
       "    .dataframe thead th {\n",
       "        text-align: right;\n",
       "    }\n",
       "</style>\n",
       "<table border=\"1\" class=\"dataframe\">\n",
       "  <thead>\n",
       "    <tr style=\"text-align: right;\">\n",
       "      <th></th>\n",
       "      <th>TenYearCHD</th>\n",
       "    </tr>\n",
       "    <tr>\n",
       "      <th>CategoricaltotChol</th>\n",
       "      <th></th>\n",
       "    </tr>\n",
       "  </thead>\n",
       "  <tbody>\n",
       "    <tr>\n",
       "      <th>(271.0, 347.5]</th>\n",
       "      <td>0.193004</td>\n",
       "    </tr>\n",
       "    <tr>\n",
       "      <th>(243.0, 271.0]</th>\n",
       "      <td>0.167630</td>\n",
       "    </tr>\n",
       "    <tr>\n",
       "      <th>(198.0, 222.0]</th>\n",
       "      <td>0.153757</td>\n",
       "    </tr>\n",
       "    <tr>\n",
       "      <th>(222.0, 243.0]</th>\n",
       "      <td>0.137848</td>\n",
       "    </tr>\n",
       "    <tr>\n",
       "      <th>(119.499, 198.0]</th>\n",
       "      <td>0.107981</td>\n",
       "    </tr>\n",
       "  </tbody>\n",
       "</table>\n",
       "</div>"
      ],
      "text/plain": [
       "                    TenYearCHD\n",
       "CategoricaltotChol            \n",
       "(271.0, 347.5]        0.193004\n",
       "(243.0, 271.0]        0.167630\n",
       "(198.0, 222.0]        0.153757\n",
       "(222.0, 243.0]        0.137848\n",
       "(119.499, 198.0]      0.107981"
      ]
     },
     "execution_count": 199,
     "metadata": {},
     "output_type": "execute_result"
    }
   ],
   "source": [
    "df[['CategoricaltotChol','TenYearCHD']].groupby(['CategoricaltotChol']).mean().sort_values(by='TenYearCHD',ascending=False)"
   ]
  },
  {
   "cell_type": "code",
   "execution_count": 200,
   "metadata": {},
   "outputs": [
    {
     "data": {
      "text/plain": [
       "<AxesSubplot:xlabel='CategoricaltotChol'>"
      ]
     },
     "execution_count": 200,
     "metadata": {},
     "output_type": "execute_result"
    },
    {
     "data": {
      "image/png": "[encoded data removed]",
      "text/plain": [
       "<Figure size 432x288 with 1 Axes>"
      ]
     },
     "metadata": {
      "needs_background": "light"
     },
     "output_type": "display_data"
    }
   ],
   "source": [
    "df[['CategoricaltotChol','TenYearCHD']].groupby(['CategoricaltotChol']).mean().sort_values(by='TenYearCHD',ascending=False).plot(kind='bar')"
   ]
  },
  {
   "cell_type": "markdown",
   "metadata": {},
   "source": [
    "#from the above graph we conclude that total cholestrol between 271-347 may have heart disease in future"
   ]
  },
  {
   "cell_type": "code",
   "execution_count": 201,
   "metadata": {},
   "outputs": [
    {
     "data": {
      "text/plain": [
       "0       (83.499, 114.0]\n",
       "1        (114.0, 124.0]\n",
       "2        (124.0, 133.0]\n",
       "3        (148.0, 184.5]\n",
       "4        (124.0, 133.0]\n",
       "             ...       \n",
       "4233     (148.0, 184.5]\n",
       "4234     (124.0, 133.0]\n",
       "4235     (124.0, 133.0]\n",
       "4236     (124.0, 133.0]\n",
       "4237     (133.0, 148.0]\n",
       "Name: CategoricalsysBP, Length: 4238, dtype: category\n",
       "Categories (5, interval[float64]): [(83.499, 114.0] < (114.0, 124.0] < (124.0, 133.0] < (133.0, 148.0] < (148.0, 184.5]]"
      ]
     },
     "execution_count": 201,
     "metadata": {},
     "output_type": "execute_result"
    }
   ],
   "source": [
    "df[\"CategoricalsysBP\"]=pd.qcut(df['sysBP'],5)\n",
    "df[\"CategoricalsysBP\"]"
   ]
  },
  {
   "cell_type": "code",
   "execution_count": 202,
   "metadata": {},
   "outputs": [
    {
     "data": {
      "text/html": [
       "<div>\n",
       "<style scoped>\n",
       "    .dataframe tbody tr th:only-of-type {\n",
       "        vertical-align: middle;\n",
       "    }\n",
       "\n",
       "    .dataframe tbody tr th {\n",
       "        vertical-align: top;\n",
       "    }\n",
       "\n",
       "    .dataframe thead th {\n",
       "        text-align: right;\n",
       "    }\n",
       "</style>\n",
       "<table border=\"1\" class=\"dataframe\">\n",
       "  <thead>\n",
       "    <tr style=\"text-align: right;\">\n",
       "      <th></th>\n",
       "      <th>TenYearCHD</th>\n",
       "    </tr>\n",
       "    <tr>\n",
       "      <th>CategoricalsysBP</th>\n",
       "      <th></th>\n",
       "    </tr>\n",
       "  </thead>\n",
       "  <tbody>\n",
       "    <tr>\n",
       "      <th>(148.0, 184.5]</th>\n",
       "      <td>0.280488</td>\n",
       "    </tr>\n",
       "    <tr>\n",
       "      <th>(133.0, 148.0]</th>\n",
       "      <td>0.177438</td>\n",
       "    </tr>\n",
       "    <tr>\n",
       "      <th>(124.0, 133.0]</th>\n",
       "      <td>0.130381</td>\n",
       "    </tr>\n",
       "    <tr>\n",
       "      <th>(114.0, 124.0]</th>\n",
       "      <td>0.099553</td>\n",
       "    </tr>\n",
       "    <tr>\n",
       "      <th>(83.499, 114.0]</th>\n",
       "      <td>0.079070</td>\n",
       "    </tr>\n",
       "  </tbody>\n",
       "</table>\n",
       "</div>"
      ],
      "text/plain": [
       "                  TenYearCHD\n",
       "CategoricalsysBP            \n",
       "(148.0, 184.5]      0.280488\n",
       "(133.0, 148.0]      0.177438\n",
       "(124.0, 133.0]      0.130381\n",
       "(114.0, 124.0]      0.099553\n",
       "(83.499, 114.0]     0.079070"
      ]
     },
     "execution_count": 202,
     "metadata": {},
     "output_type": "execute_result"
    }
   ],
   "source": [
    "df[['CategoricalsysBP','TenYearCHD']].groupby(['CategoricalsysBP']).mean().sort_values(by='TenYearCHD',ascending=False)"
   ]
  },
  {
   "cell_type": "code",
   "execution_count": 203,
   "metadata": {},
   "outputs": [
    {
     "data": {
      "text/plain": [
       "<AxesSubplot:xlabel='CategoricalsysBP'>"
      ]
     },
     "execution_count": 203,
     "metadata": {},
     "output_type": "execute_result"
    },
    {
     "data": {
      "image/png": "[encoded data removed]",
      "text/plain": [
       "<Figure size 432x288 with 1 Axes>"
      ]
     },
     "metadata": {
      "needs_background": "light"
     },
     "output_type": "display_data"
    }
   ],
   "source": [
    "df[['CategoricalsysBP','TenYearCHD']].groupby(['CategoricalsysBP']).mean().sort_values(by='TenYearCHD',ascending=False).plot(kind='bar')"
   ]
  },
  {
   "cell_type": "markdown",
   "metadata": {},
   "source": [
    "#from the above graph we conclude that systolicBP in range 148-184.5 have high chances of having heart disease"
   ]
  },
  {
   "cell_type": "code",
   "execution_count": 204,
   "metadata": {},
   "outputs": [
    {
     "data": {
      "text/plain": [
       "0       (52.687000000000005, 75.0]\n",
       "1                     (75.0, 82.0]\n",
       "2                     (75.0, 82.0]\n",
       "3                (89.875, 112.188]\n",
       "4                   (82.0, 89.875]\n",
       "                   ...            \n",
       "4233             (89.875, 112.188]\n",
       "4234                  (75.0, 82.0]\n",
       "4235    (52.687000000000005, 75.0]\n",
       "4236                (82.0, 89.875]\n",
       "4237                (82.0, 89.875]\n",
       "Name: CategoricaldiaBP, Length: 4238, dtype: category\n",
       "Categories (4, interval[float64]): [(52.687000000000005, 75.0] < (75.0, 82.0] < (82.0, 89.875] < (89.875, 112.188]]"
      ]
     },
     "execution_count": 204,
     "metadata": {},
     "output_type": "execute_result"
    }
   ],
   "source": [
    "df[\"CategoricaldiaBP\"]=pd.qcut(df['diaBP'],4)\n",
    "df[\"CategoricaldiaBP\"]"
   ]
  },
  {
   "cell_type": "code",
   "execution_count": 205,
   "metadata": {},
   "outputs": [
    {
     "data": {
      "text/html": [
       "<div>\n",
       "<style scoped>\n",
       "    .dataframe tbody tr th:only-of-type {\n",
       "        vertical-align: middle;\n",
       "    }\n",
       "\n",
       "    .dataframe tbody tr th {\n",
       "        vertical-align: top;\n",
       "    }\n",
       "\n",
       "    .dataframe thead th {\n",
       "        text-align: right;\n",
       "    }\n",
       "</style>\n",
       "<table border=\"1\" class=\"dataframe\">\n",
       "  <thead>\n",
       "    <tr style=\"text-align: right;\">\n",
       "      <th></th>\n",
       "      <th>TenYearCHD</th>\n",
       "    </tr>\n",
       "    <tr>\n",
       "      <th>CategoricaldiaBP</th>\n",
       "      <th></th>\n",
       "    </tr>\n",
       "  </thead>\n",
       "  <tbody>\n",
       "    <tr>\n",
       "      <th>(52.687000000000005, 75.0]</th>\n",
       "      <td>0.110155</td>\n",
       "    </tr>\n",
       "    <tr>\n",
       "      <th>(75.0, 82.0]</th>\n",
       "      <td>0.121156</td>\n",
       "    </tr>\n",
       "    <tr>\n",
       "      <th>(82.0, 89.875]</th>\n",
       "      <td>0.138918</td>\n",
       "    </tr>\n",
       "    <tr>\n",
       "      <th>(89.875, 112.188]</th>\n",
       "      <td>0.240566</td>\n",
       "    </tr>\n",
       "  </tbody>\n",
       "</table>\n",
       "</div>"
      ],
      "text/plain": [
       "                            TenYearCHD\n",
       "CategoricaldiaBP                      \n",
       "(52.687000000000005, 75.0]    0.110155\n",
       "(75.0, 82.0]                  0.121156\n",
       "(82.0, 89.875]                0.138918\n",
       "(89.875, 112.188]             0.240566"
      ]
     },
     "execution_count": 205,
     "metadata": {},
     "output_type": "execute_result"
    }
   ],
   "source": [
    "df[['CategoricaldiaBP','TenYearCHD']].groupby(['CategoricaldiaBP']).mean().sort_values(by='TenYearCHD',ascending='False')"
   ]
  },
  {
   "cell_type": "code",
   "execution_count": 206,
   "metadata": {},
   "outputs": [
    {
     "data": {
      "text/plain": [
       "<AxesSubplot:xlabel='CategoricaldiaBP'>"
      ]
     },
     "execution_count": 206,
     "metadata": {},
     "output_type": "execute_result"
    },
    {
     "data": {
      "image/png": "[encoded data removed]",
      "text/plain": [
       "<Figure size 432x288 with 1 Axes>"
      ]
     },
     "metadata": {
      "needs_background": "light"
     },
     "output_type": "display_data"
    }
   ],
   "source": [
    "df[['CategoricaldiaBP','TenYearCHD']].groupby(['CategoricaldiaBP']).mean().sort_values(by='TenYearCHD',ascending='False').plot(kind='bar')"
   ]
  },
  {
   "cell_type": "markdown",
   "metadata": {},
   "source": [
    "#from the above graph we conclude that diastolicBP in range 89.875-112.188 have high chances of having heart disease"
   ]
  },
  {
   "cell_type": "code",
   "execution_count": 207,
   "metadata": {},
   "outputs": [
    {
     "data": {
      "text/plain": [
       "0         (68.0, 77.0]\n",
       "1         (68.0, 77.0]\n",
       "2         (68.0, 77.0]\n",
       "3        (85.0, 110.5]\n",
       "4         (77.0, 85.0]\n",
       "             ...      \n",
       "4233     (85.0, 110.5]\n",
       "4234    (42.499, 68.0]\n",
       "4235     (85.0, 110.5]\n",
       "4236    (42.499, 68.0]\n",
       "4237     (85.0, 110.5]\n",
       "Name: Categoricalglucose, Length: 4238, dtype: category\n",
       "Categories (4, interval[float64]): [(42.499, 68.0] < (68.0, 77.0] < (77.0, 85.0] < (85.0, 110.5]]"
      ]
     },
     "execution_count": 207,
     "metadata": {},
     "output_type": "execute_result"
    }
   ],
   "source": [
    "df[\"Categoricalglucose\"]=pd.qcut(df['glucose'],4)\n",
    "df[\"Categoricalglucose\"]"
   ]
  },
  {
   "cell_type": "code",
   "execution_count": 208,
   "metadata": {},
   "outputs": [
    {
     "data": {
      "text/html": [
       "<div>\n",
       "<style scoped>\n",
       "    .dataframe tbody tr th:only-of-type {\n",
       "        vertical-align: middle;\n",
       "    }\n",
       "\n",
       "    .dataframe tbody tr th {\n",
       "        vertical-align: top;\n",
       "    }\n",
       "\n",
       "    .dataframe thead th {\n",
       "        text-align: right;\n",
       "    }\n",
       "</style>\n",
       "<table border=\"1\" class=\"dataframe\">\n",
       "  <thead>\n",
       "    <tr style=\"text-align: right;\">\n",
       "      <th></th>\n",
       "      <th>TenYearCHD</th>\n",
       "    </tr>\n",
       "    <tr>\n",
       "      <th>Categoricalglucose</th>\n",
       "      <th></th>\n",
       "    </tr>\n",
       "  </thead>\n",
       "  <tbody>\n",
       "    <tr>\n",
       "      <th>(77.0, 85.0]</th>\n",
       "      <td>0.131915</td>\n",
       "    </tr>\n",
       "    <tr>\n",
       "      <th>(42.499, 68.0]</th>\n",
       "      <td>0.132834</td>\n",
       "    </tr>\n",
       "    <tr>\n",
       "      <th>(68.0, 77.0]</th>\n",
       "      <td>0.151055</td>\n",
       "    </tr>\n",
       "    <tr>\n",
       "      <th>(85.0, 110.5]</th>\n",
       "      <td>0.190613</td>\n",
       "    </tr>\n",
       "  </tbody>\n",
       "</table>\n",
       "</div>"
      ],
      "text/plain": [
       "                    TenYearCHD\n",
       "Categoricalglucose            \n",
       "(77.0, 85.0]          0.131915\n",
       "(42.499, 68.0]        0.132834\n",
       "(68.0, 77.0]          0.151055\n",
       "(85.0, 110.5]         0.190613"
      ]
     },
     "execution_count": 208,
     "metadata": {},
     "output_type": "execute_result"
    }
   ],
   "source": [
    "df[['Categoricalglucose','TenYearCHD']].groupby(['Categoricalglucose']).mean().sort_values(by='TenYearCHD',ascending='False')"
   ]
  },
  {
   "cell_type": "code",
   "execution_count": 209,
   "metadata": {},
   "outputs": [
    {
     "data": {
      "text/plain": [
       "<AxesSubplot:xlabel='Categoricalglucose'>"
      ]
     },
     "execution_count": 209,
     "metadata": {},
     "output_type": "execute_result"
    },
    {
     "data": {
      "image/png": "[encoded data removed]",
      "text/plain": [
       "<Figure size 432x288 with 1 Axes>"
      ]
     },
     "metadata": {
      "needs_background": "light"
     },
     "output_type": "display_data"
    }
   ],
   "source": [
    "df[['Categoricalglucose','TenYearCHD']].groupby(['Categoricalglucose']).mean().sort_values(by='TenYearCHD',ascending='False').plot(kind='bar')"
   ]
  },
  {
   "cell_type": "code",
   "execution_count": 210,
   "metadata": {},
   "outputs": [
    {
     "data": {
      "text/plain": [
       "0       (-0.001, 20.0]\n",
       "1       (-0.001, 20.0]\n",
       "2       (-0.001, 20.0]\n",
       "3         (20.0, 50.0]\n",
       "4         (20.0, 50.0]\n",
       "             ...      \n",
       "4233    (-0.001, 20.0]\n",
       "4234      (20.0, 50.0]\n",
       "4235    (-0.001, 20.0]\n",
       "4236    (-0.001, 20.0]\n",
       "4237    (-0.001, 20.0]\n",
       "Name: CategoricalcigsPerDay, Length: 4238, dtype: category\n",
       "Categories (2, interval[float64]): [(-0.001, 20.0] < (20.0, 50.0]]"
      ]
     },
     "execution_count": 210,
     "metadata": {},
     "output_type": "execute_result"
    }
   ],
   "source": [
    "df[\"CategoricalcigsPerDay\"]=pd.qcut(df['cigsPerDay'],4,duplicates='drop')\n",
    "df[\"CategoricalcigsPerDay\"]"
   ]
  },
  {
   "cell_type": "code",
   "execution_count": 211,
   "metadata": {},
   "outputs": [
    {
     "data": {
      "text/html": [
       "<div>\n",
       "<style scoped>\n",
       "    .dataframe tbody tr th:only-of-type {\n",
       "        vertical-align: middle;\n",
       "    }\n",
       "\n",
       "    .dataframe tbody tr th {\n",
       "        vertical-align: top;\n",
       "    }\n",
       "\n",
       "    .dataframe thead th {\n",
       "        text-align: right;\n",
       "    }\n",
       "</style>\n",
       "<table border=\"1\" class=\"dataframe\">\n",
       "  <thead>\n",
       "    <tr style=\"text-align: right;\">\n",
       "      <th></th>\n",
       "      <th>TenYearCHD</th>\n",
       "    </tr>\n",
       "    <tr>\n",
       "      <th>CategoricalcigsPerDay</th>\n",
       "      <th></th>\n",
       "    </tr>\n",
       "  </thead>\n",
       "  <tbody>\n",
       "    <tr>\n",
       "      <th>(-0.001, 20.0]</th>\n",
       "      <td>0.144747</td>\n",
       "    </tr>\n",
       "    <tr>\n",
       "      <th>(20.0, 50.0]</th>\n",
       "      <td>0.211329</td>\n",
       "    </tr>\n",
       "  </tbody>\n",
       "</table>\n",
       "</div>"
      ],
      "text/plain": [
       "                       TenYearCHD\n",
       "CategoricalcigsPerDay            \n",
       "(-0.001, 20.0]           0.144747\n",
       "(20.0, 50.0]             0.211329"
      ]
     },
     "execution_count": 211,
     "metadata": {},
     "output_type": "execute_result"
    }
   ],
   "source": [
    "df[['CategoricalcigsPerDay','TenYearCHD']].groupby(['CategoricalcigsPerDay']).mean().sort_values(by='TenYearCHD',ascending='False')"
   ]
  },
  {
   "cell_type": "code",
   "execution_count": 212,
   "metadata": {},
   "outputs": [
    {
     "data": {
      "text/plain": [
       "0.0    4114\n",
       "1.0     124\n",
       "Name: BPMeds, dtype: int64"
      ]
     },
     "execution_count": 212,
     "metadata": {},
     "output_type": "execute_result"
    }
   ],
   "source": [
    "df[\"BPMeds\"].value_counts()"
   ]
  },
  {
   "cell_type": "code",
   "execution_count": 213,
   "metadata": {},
   "outputs": [
    {
     "data": {
      "text/html": [
       "<div>\n",
       "<style scoped>\n",
       "    .dataframe tbody tr th:only-of-type {\n",
       "        vertical-align: middle;\n",
       "    }\n",
       "\n",
       "    .dataframe tbody tr th {\n",
       "        vertical-align: top;\n",
       "    }\n",
       "\n",
       "    .dataframe thead th {\n",
       "        text-align: right;\n",
       "    }\n",
       "</style>\n",
       "<table border=\"1\" class=\"dataframe\">\n",
       "  <thead>\n",
       "    <tr style=\"text-align: right;\">\n",
       "      <th></th>\n",
       "      <th>BPMeds</th>\n",
       "    </tr>\n",
       "    <tr>\n",
       "      <th>TenYearCHD</th>\n",
       "      <th></th>\n",
       "    </tr>\n",
       "  </thead>\n",
       "  <tbody>\n",
       "    <tr>\n",
       "      <th>1</th>\n",
       "      <td>0.063665</td>\n",
       "    </tr>\n",
       "    <tr>\n",
       "      <th>0</th>\n",
       "      <td>0.023094</td>\n",
       "    </tr>\n",
       "  </tbody>\n",
       "</table>\n",
       "</div>"
      ],
      "text/plain": [
       "              BPMeds\n",
       "TenYearCHD          \n",
       "1           0.063665\n",
       "0           0.023094"
      ]
     },
     "execution_count": 213,
     "metadata": {},
     "output_type": "execute_result"
    }
   ],
   "source": [
    "df[['BPMeds','TenYearCHD']].groupby(['TenYearCHD']).mean().sort_values(by='TenYearCHD',ascending=False)"
   ]
  },
  {
   "cell_type": "code",
   "execution_count": 214,
   "metadata": {},
   "outputs": [
    {
     "data": {
      "text/plain": [
       "<AxesSubplot:xlabel='TenYearCHD'>"
      ]
     },
     "execution_count": 214,
     "metadata": {},
     "output_type": "execute_result"
    },
    {
     "data": {
      "image/png": "[encoded data removed]",
      "text/plain": [
       "<Figure size 432x288 with 1 Axes>"
      ]
     },
     "metadata": {
      "needs_background": "light"
     },
     "output_type": "display_data"
    }
   ],
   "source": [
    "df[['BPMeds','TenYearCHD']].groupby(['TenYearCHD']).mean().sort_values(by='TenYearCHD',ascending=False).plot(kind='bar')"
   ]
  },
  {
   "cell_type": "code",
   "execution_count": 215,
   "metadata": {},
   "outputs": [
    {
     "data": {
      "text/plain": [
       "<AxesSubplot:xlabel='CategoricalcigsPerDay'>"
      ]
     },
     "execution_count": 215,
     "metadata": {},
     "output_type": "execute_result"
    },
    {
     "data": {
      "image/png": "[encoded data removed]",
      "text/plain": [
       "<Figure size 432x288 with 1 Axes>"
      ]
     },
     "metadata": {
      "needs_background": "light"
     },
     "output_type": "display_data"
    }
   ],
   "source": [
    "df[['CategoricalcigsPerDay','TenYearCHD']].groupby(['CategoricalcigsPerDay']).mean().sort_values(by='TenYearCHD',ascending='False').plot(kind='bar')"
   ]
  },
  {
   "cell_type": "code",
   "execution_count": 216,
   "metadata": {},
   "outputs": [
    {
     "data": {
      "text/html": [
       "<div>\n",
       "<style scoped>\n",
       "    .dataframe tbody tr th:only-of-type {\n",
       "        vertical-align: middle;\n",
       "    }\n",
       "\n",
       "    .dataframe tbody tr th {\n",
       "        vertical-align: top;\n",
       "    }\n",
       "\n",
       "    .dataframe thead th {\n",
       "        text-align: right;\n",
       "    }\n",
       "</style>\n",
       "<table border=\"1\" class=\"dataframe\">\n",
       "  <thead>\n",
       "    <tr style=\"text-align: right;\">\n",
       "      <th></th>\n",
       "      <th>sex</th>\n",
       "      <th>age</th>\n",
       "      <th>currentSmoker</th>\n",
       "      <th>cigsPerDay</th>\n",
       "      <th>BPMeds</th>\n",
       "      <th>prevalentStroke</th>\n",
       "      <th>prevalentHyp</th>\n",
       "      <th>diabetes</th>\n",
       "      <th>totChol</th>\n",
       "      <th>sysBP</th>\n",
       "      <th>...</th>\n",
       "      <th>heartRate</th>\n",
       "      <th>glucose</th>\n",
       "      <th>TenYearCHD</th>\n",
       "      <th>CategoricalheartRate</th>\n",
       "      <th>Categoricalage</th>\n",
       "      <th>CategoricaltotChol</th>\n",
       "      <th>CategoricalsysBP</th>\n",
       "      <th>CategoricaldiaBP</th>\n",
       "      <th>Categoricalglucose</th>\n",
       "      <th>CategoricalcigsPerDay</th>\n",
       "    </tr>\n",
       "  </thead>\n",
       "  <tbody>\n",
       "    <tr>\n",
       "      <th>0</th>\n",
       "      <td>1</td>\n",
       "      <td>39</td>\n",
       "      <td>0</td>\n",
       "      <td>0.0</td>\n",
       "      <td>0.0</td>\n",
       "      <td>0</td>\n",
       "      <td>0</td>\n",
       "      <td>0</td>\n",
       "      <td>195.0</td>\n",
       "      <td>106.0</td>\n",
       "      <td>...</td>\n",
       "      <td>80.0</td>\n",
       "      <td>77.0</td>\n",
       "      <td>0</td>\n",
       "      <td>(75.0, 83.0]</td>\n",
       "      <td>(31.999, 41.0]</td>\n",
       "      <td>(119.499, 198.0]</td>\n",
       "      <td>(83.499, 114.0]</td>\n",
       "      <td>(52.687000000000005, 75.0]</td>\n",
       "      <td>(68.0, 77.0]</td>\n",
       "      <td>(-0.001, 20.0]</td>\n",
       "    </tr>\n",
       "    <tr>\n",
       "      <th>1</th>\n",
       "      <td>0</td>\n",
       "      <td>46</td>\n",
       "      <td>0</td>\n",
       "      <td>0.0</td>\n",
       "      <td>0.0</td>\n",
       "      <td>0</td>\n",
       "      <td>0</td>\n",
       "      <td>0</td>\n",
       "      <td>250.0</td>\n",
       "      <td>121.0</td>\n",
       "      <td>...</td>\n",
       "      <td>95.0</td>\n",
       "      <td>76.0</td>\n",
       "      <td>0</td>\n",
       "      <td>(83.0, 105.5]</td>\n",
       "      <td>(41.0, 46.0]</td>\n",
       "      <td>(243.0, 271.0]</td>\n",
       "      <td>(114.0, 124.0]</td>\n",
       "      <td>(75.0, 82.0]</td>\n",
       "      <td>(68.0, 77.0]</td>\n",
       "      <td>(-0.001, 20.0]</td>\n",
       "    </tr>\n",
       "    <tr>\n",
       "      <th>2</th>\n",
       "      <td>1</td>\n",
       "      <td>48</td>\n",
       "      <td>1</td>\n",
       "      <td>20.0</td>\n",
       "      <td>0.0</td>\n",
       "      <td>0</td>\n",
       "      <td>0</td>\n",
       "      <td>0</td>\n",
       "      <td>245.0</td>\n",
       "      <td>127.5</td>\n",
       "      <td>...</td>\n",
       "      <td>75.0</td>\n",
       "      <td>70.0</td>\n",
       "      <td>0</td>\n",
       "      <td>(68.0, 75.0]</td>\n",
       "      <td>(46.0, 52.0]</td>\n",
       "      <td>(243.0, 271.0]</td>\n",
       "      <td>(124.0, 133.0]</td>\n",
       "      <td>(75.0, 82.0]</td>\n",
       "      <td>(68.0, 77.0]</td>\n",
       "      <td>(-0.001, 20.0]</td>\n",
       "    </tr>\n",
       "    <tr>\n",
       "      <th>3</th>\n",
       "      <td>0</td>\n",
       "      <td>61</td>\n",
       "      <td>1</td>\n",
       "      <td>30.0</td>\n",
       "      <td>0.0</td>\n",
       "      <td>0</td>\n",
       "      <td>1</td>\n",
       "      <td>0</td>\n",
       "      <td>225.0</td>\n",
       "      <td>150.0</td>\n",
       "      <td>...</td>\n",
       "      <td>65.0</td>\n",
       "      <td>103.0</td>\n",
       "      <td>1</td>\n",
       "      <td>(45.499, 68.0]</td>\n",
       "      <td>(58.0, 70.0]</td>\n",
       "      <td>(222.0, 243.0]</td>\n",
       "      <td>(148.0, 184.5]</td>\n",
       "      <td>(89.875, 112.188]</td>\n",
       "      <td>(85.0, 110.5]</td>\n",
       "      <td>(20.0, 50.0]</td>\n",
       "    </tr>\n",
       "    <tr>\n",
       "      <th>4</th>\n",
       "      <td>0</td>\n",
       "      <td>46</td>\n",
       "      <td>1</td>\n",
       "      <td>23.0</td>\n",
       "      <td>0.0</td>\n",
       "      <td>0</td>\n",
       "      <td>0</td>\n",
       "      <td>0</td>\n",
       "      <td>285.0</td>\n",
       "      <td>130.0</td>\n",
       "      <td>...</td>\n",
       "      <td>85.0</td>\n",
       "      <td>85.0</td>\n",
       "      <td>0</td>\n",
       "      <td>(83.0, 105.5]</td>\n",
       "      <td>(41.0, 46.0]</td>\n",
       "      <td>(271.0, 347.5]</td>\n",
       "      <td>(124.0, 133.0]</td>\n",
       "      <td>(82.0, 89.875]</td>\n",
       "      <td>(77.0, 85.0]</td>\n",
       "      <td>(20.0, 50.0]</td>\n",
       "    </tr>\n",
       "  </tbody>\n",
       "</table>\n",
       "<p>5 rows × 22 columns</p>\n",
       "</div>"
      ],
      "text/plain": [
       "  sex  age currentSmoker  cigsPerDay  BPMeds  prevalentStroke  prevalentHyp  \\\n",
       "0   1   39             0         0.0     0.0                0             0   \n",
       "1   0   46             0         0.0     0.0                0             0   \n",
       "2   1   48             1        20.0     0.0                0             0   \n",
       "3   0   61             1        30.0     0.0                0             1   \n",
       "4   0   46             1        23.0     0.0                0             0   \n",
       "\n",
       "   diabetes  totChol  sysBP  ...  heartRate  glucose  TenYearCHD  \\\n",
       "0         0    195.0  106.0  ...       80.0     77.0           0   \n",
       "1         0    250.0  121.0  ...       95.0     76.0           0   \n",
       "2         0    245.0  127.5  ...       75.0     70.0           0   \n",
       "3         0    225.0  150.0  ...       65.0    103.0           1   \n",
       "4         0    285.0  130.0  ...       85.0     85.0           0   \n",
       "\n",
       "   CategoricalheartRate  Categoricalage CategoricaltotChol CategoricalsysBP  \\\n",
       "0          (75.0, 83.0]  (31.999, 41.0]   (119.499, 198.0]  (83.499, 114.0]   \n",
       "1         (83.0, 105.5]    (41.0, 46.0]     (243.0, 271.0]   (114.0, 124.0]   \n",
       "2          (68.0, 75.0]    (46.0, 52.0]     (243.0, 271.0]   (124.0, 133.0]   \n",
       "3        (45.499, 68.0]    (58.0, 70.0]     (222.0, 243.0]   (148.0, 184.5]   \n",
       "4         (83.0, 105.5]    (41.0, 46.0]     (271.0, 347.5]   (124.0, 133.0]   \n",
       "\n",
       "             CategoricaldiaBP Categoricalglucose CategoricalcigsPerDay  \n",
       "0  (52.687000000000005, 75.0]       (68.0, 77.0]        (-0.001, 20.0]  \n",
       "1                (75.0, 82.0]       (68.0, 77.0]        (-0.001, 20.0]  \n",
       "2                (75.0, 82.0]       (68.0, 77.0]        (-0.001, 20.0]  \n",
       "3           (89.875, 112.188]      (85.0, 110.5]          (20.0, 50.0]  \n",
       "4              (82.0, 89.875]       (77.0, 85.0]          (20.0, 50.0]  \n",
       "\n",
       "[5 rows x 22 columns]"
      ]
     },
     "execution_count": 216,
     "metadata": {},
     "output_type": "execute_result"
    }
   ],
   "source": [
    "df.head()"
   ]
  },
  {
   "cell_type": "code",
   "execution_count": 217,
   "metadata": {},
   "outputs": [],
   "source": [
    "df[\"CategoricalcigsPerDay\"]=df[\"CategoricalcigsPerDay\"].astype('category')\n",
    "df[\"CategoricalcigsPerDay_encode\"]=df[\"CategoricalcigsPerDay\"].cat.codes\n",
    "df[\"CategoricalheartRate\"]=df[\"CategoricalheartRate\"].astype('category')\n",
    "df[\"CategoricalheartRate_encode\"]=df[\"CategoricalheartRate\"].cat.codes\n",
    "df[\"Categoricalage\"]=df[\"Categoricalage\"].astype('category')\n",
    "df[\"Categoricalage_encode\"]=df[\"Categoricalage\"].cat.codes\n",
    "df[\"sex\"]=df[\"sex\"].astype('category')\n",
    "df[\"sex_encode\"]=df[\"sex\"].cat.codes\n",
    "df[\"CategoricaltotChol\"]=df[\"CategoricaltotChol\"].astype('category')\n",
    "df[\"CategoricaltotChol_encode\"]=df[\"CategoricaltotChol\"].cat.codes\n",
    "df[\"CategoricalsysBP\"]=df[\"CategoricalsysBP\"].astype('category')\n",
    "df[\"CategoricalsysBP_encode\"]=df[\"CategoricalsysBP\"].cat.codes\n",
    "df[\"CategoricaldiaBP\"]=df[\"CategoricaldiaBP\"].astype('category')\n",
    "df[\"CategoricaldiaBP_encode\"]=df[\"CategoricaldiaBP\"].cat.codes\n",
    "df[\"Categoricalglucose\"]=df[\"Categoricalglucose\"].astype('category')\n",
    "df[\"Categoricalglucose_encode\"]=df[\"Categoricalglucose\"].cat.codes\n",
    "df[\"BPMeds\"]=df[\"BPMeds\"].astype('category')\n",
    "df[\"BPMeds_encode\"]=df[\"BPMeds\"].cat.codes\n",
    "df[\"currentSmoker\"]=df[\"currentSmoker\"].astype('category')\n",
    "df[\"currentSmoker_encode\"]=df[\"currentSmoker\"].cat.codes"
   ]
  },
  {
   "cell_type": "code",
   "execution_count": 218,
   "metadata": {},
   "outputs": [
    {
     "data": {
      "text/plain": [
       "Index(['sex', 'age', 'currentSmoker', 'cigsPerDay', 'BPMeds',\n",
       "       'prevalentStroke', 'prevalentHyp', 'diabetes', 'totChol', 'sysBP',\n",
       "       'diaBP', 'BMI', 'heartRate', 'glucose', 'TenYearCHD',\n",
       "       'CategoricalheartRate', 'Categoricalage', 'CategoricaltotChol',\n",
       "       'CategoricalsysBP', 'CategoricaldiaBP', 'Categoricalglucose',\n",
       "       'CategoricalcigsPerDay', 'CategoricalcigsPerDay_encode',\n",
       "       'CategoricalheartRate_encode', 'Categoricalage_encode', 'sex_encode',\n",
       "       'CategoricaltotChol_encode', 'CategoricalsysBP_encode',\n",
       "       'CategoricaldiaBP_encode', 'Categoricalglucose_encode', 'BPMeds_encode',\n",
       "       'currentSmoker_encode'],\n",
       "      dtype='object')"
      ]
     },
     "execution_count": 218,
     "metadata": {},
     "output_type": "execute_result"
    }
   ],
   "source": [
    "df.columns"
   ]
  },
  {
   "cell_type": "code",
   "execution_count": 219,
   "metadata": {},
   "outputs": [],
   "source": [
    "drop_elements=['sex','age','BPMeds','currentSmoker','cigsPerDay','totChol','sysBP','diaBP','BMI','heartRate','glucose','CategoricalcigsPerDay', 'CategoricalheartRate', 'Categoricalage',\n",
    "       'CategoricaltotChol', 'CategoricalsysBP', 'CategoricaldiaBP',\n",
    "       'Categoricalglucose']#here we drop the unnecessary columns.\n",
    "df_cleanedheart=df.drop(drop_elements,axis=1)"
   ]
  },
  {
   "cell_type": "code",
   "execution_count": 220,
   "metadata": {},
   "outputs": [
    {
     "data": {
      "text/html": [
       "<div>\n",
       "<style scoped>\n",
       "    .dataframe tbody tr th:only-of-type {\n",
       "        vertical-align: middle;\n",
       "    }\n",
       "\n",
       "    .dataframe tbody tr th {\n",
       "        vertical-align: top;\n",
       "    }\n",
       "\n",
       "    .dataframe thead th {\n",
       "        text-align: right;\n",
       "    }\n",
       "</style>\n",
       "<table border=\"1\" class=\"dataframe\">\n",
       "  <thead>\n",
       "    <tr style=\"text-align: right;\">\n",
       "      <th></th>\n",
       "      <th>prevalentStroke</th>\n",
       "      <th>prevalentHyp</th>\n",
       "      <th>diabetes</th>\n",
       "      <th>TenYearCHD</th>\n",
       "      <th>CategoricalcigsPerDay_encode</th>\n",
       "      <th>CategoricalheartRate_encode</th>\n",
       "      <th>Categoricalage_encode</th>\n",
       "      <th>sex_encode</th>\n",
       "      <th>CategoricaltotChol_encode</th>\n",
       "      <th>CategoricalsysBP_encode</th>\n",
       "      <th>CategoricaldiaBP_encode</th>\n",
       "      <th>Categoricalglucose_encode</th>\n",
       "      <th>BPMeds_encode</th>\n",
       "      <th>currentSmoker_encode</th>\n",
       "    </tr>\n",
       "  </thead>\n",
       "  <tbody>\n",
       "    <tr>\n",
       "      <th>0</th>\n",
       "      <td>0</td>\n",
       "      <td>0</td>\n",
       "      <td>0</td>\n",
       "      <td>0</td>\n",
       "      <td>0</td>\n",
       "      <td>2</td>\n",
       "      <td>0</td>\n",
       "      <td>1</td>\n",
       "      <td>0</td>\n",
       "      <td>0</td>\n",
       "      <td>0</td>\n",
       "      <td>1</td>\n",
       "      <td>0</td>\n",
       "      <td>0</td>\n",
       "    </tr>\n",
       "    <tr>\n",
       "      <th>1</th>\n",
       "      <td>0</td>\n",
       "      <td>0</td>\n",
       "      <td>0</td>\n",
       "      <td>0</td>\n",
       "      <td>0</td>\n",
       "      <td>3</td>\n",
       "      <td>1</td>\n",
       "      <td>0</td>\n",
       "      <td>3</td>\n",
       "      <td>1</td>\n",
       "      <td>1</td>\n",
       "      <td>1</td>\n",
       "      <td>0</td>\n",
       "      <td>0</td>\n",
       "    </tr>\n",
       "    <tr>\n",
       "      <th>2</th>\n",
       "      <td>0</td>\n",
       "      <td>0</td>\n",
       "      <td>0</td>\n",
       "      <td>0</td>\n",
       "      <td>0</td>\n",
       "      <td>1</td>\n",
       "      <td>2</td>\n",
       "      <td>1</td>\n",
       "      <td>3</td>\n",
       "      <td>2</td>\n",
       "      <td>1</td>\n",
       "      <td>1</td>\n",
       "      <td>0</td>\n",
       "      <td>1</td>\n",
       "    </tr>\n",
       "    <tr>\n",
       "      <th>3</th>\n",
       "      <td>0</td>\n",
       "      <td>1</td>\n",
       "      <td>0</td>\n",
       "      <td>1</td>\n",
       "      <td>1</td>\n",
       "      <td>0</td>\n",
       "      <td>4</td>\n",
       "      <td>0</td>\n",
       "      <td>2</td>\n",
       "      <td>4</td>\n",
       "      <td>3</td>\n",
       "      <td>3</td>\n",
       "      <td>0</td>\n",
       "      <td>1</td>\n",
       "    </tr>\n",
       "    <tr>\n",
       "      <th>4</th>\n",
       "      <td>0</td>\n",
       "      <td>0</td>\n",
       "      <td>0</td>\n",
       "      <td>0</td>\n",
       "      <td>1</td>\n",
       "      <td>3</td>\n",
       "      <td>1</td>\n",
       "      <td>0</td>\n",
       "      <td>4</td>\n",
       "      <td>2</td>\n",
       "      <td>2</td>\n",
       "      <td>2</td>\n",
       "      <td>0</td>\n",
       "      <td>1</td>\n",
       "    </tr>\n",
       "    <tr>\n",
       "      <th>5</th>\n",
       "      <td>0</td>\n",
       "      <td>1</td>\n",
       "      <td>0</td>\n",
       "      <td>0</td>\n",
       "      <td>0</td>\n",
       "      <td>2</td>\n",
       "      <td>1</td>\n",
       "      <td>0</td>\n",
       "      <td>2</td>\n",
       "      <td>4</td>\n",
       "      <td>3</td>\n",
       "      <td>3</td>\n",
       "      <td>0</td>\n",
       "      <td>0</td>\n",
       "    </tr>\n",
       "    <tr>\n",
       "      <th>6</th>\n",
       "      <td>0</td>\n",
       "      <td>0</td>\n",
       "      <td>0</td>\n",
       "      <td>1</td>\n",
       "      <td>0</td>\n",
       "      <td>0</td>\n",
       "      <td>4</td>\n",
       "      <td>0</td>\n",
       "      <td>1</td>\n",
       "      <td>3</td>\n",
       "      <td>0</td>\n",
       "      <td>2</td>\n",
       "      <td>0</td>\n",
       "      <td>0</td>\n",
       "    </tr>\n",
       "    <tr>\n",
       "      <th>7</th>\n",
       "      <td>0</td>\n",
       "      <td>0</td>\n",
       "      <td>0</td>\n",
       "      <td>0</td>\n",
       "      <td>0</td>\n",
       "      <td>2</td>\n",
       "      <td>1</td>\n",
       "      <td>0</td>\n",
       "      <td>4</td>\n",
       "      <td>0</td>\n",
       "      <td>0</td>\n",
       "      <td>2</td>\n",
       "      <td>0</td>\n",
       "      <td>1</td>\n",
       "    </tr>\n",
       "    <tr>\n",
       "      <th>8</th>\n",
       "      <td>0</td>\n",
       "      <td>1</td>\n",
       "      <td>0</td>\n",
       "      <td>0</td>\n",
       "      <td>0</td>\n",
       "      <td>2</td>\n",
       "      <td>2</td>\n",
       "      <td>1</td>\n",
       "      <td>3</td>\n",
       "      <td>3</td>\n",
       "      <td>2</td>\n",
       "      <td>2</td>\n",
       "      <td>0</td>\n",
       "      <td>0</td>\n",
       "    </tr>\n",
       "    <tr>\n",
       "      <th>9</th>\n",
       "      <td>0</td>\n",
       "      <td>1</td>\n",
       "      <td>0</td>\n",
       "      <td>0</td>\n",
       "      <td>1</td>\n",
       "      <td>3</td>\n",
       "      <td>1</td>\n",
       "      <td>1</td>\n",
       "      <td>2</td>\n",
       "      <td>4</td>\n",
       "      <td>3</td>\n",
       "      <td>3</td>\n",
       "      <td>0</td>\n",
       "      <td>1</td>\n",
       "    </tr>\n",
       "    <tr>\n",
       "      <th>10</th>\n",
       "      <td>0</td>\n",
       "      <td>0</td>\n",
       "      <td>0</td>\n",
       "      <td>0</td>\n",
       "      <td>0</td>\n",
       "      <td>1</td>\n",
       "      <td>2</td>\n",
       "      <td>0</td>\n",
       "      <td>3</td>\n",
       "      <td>2</td>\n",
       "      <td>1</td>\n",
       "      <td>1</td>\n",
       "      <td>0</td>\n",
       "      <td>0</td>\n",
       "    </tr>\n",
       "    <tr>\n",
       "      <th>11</th>\n",
       "      <td>0</td>\n",
       "      <td>0</td>\n",
       "      <td>0</td>\n",
       "      <td>0</td>\n",
       "      <td>0</td>\n",
       "      <td>1</td>\n",
       "      <td>1</td>\n",
       "      <td>0</td>\n",
       "      <td>3</td>\n",
       "      <td>2</td>\n",
       "      <td>2</td>\n",
       "      <td>0</td>\n",
       "      <td>0</td>\n",
       "      <td>0</td>\n",
       "    </tr>\n",
       "    <tr>\n",
       "      <th>12</th>\n",
       "      <td>0</td>\n",
       "      <td>1</td>\n",
       "      <td>0</td>\n",
       "      <td>0</td>\n",
       "      <td>0</td>\n",
       "      <td>3</td>\n",
       "      <td>1</td>\n",
       "      <td>1</td>\n",
       "      <td>4</td>\n",
       "      <td>3</td>\n",
       "      <td>3</td>\n",
       "      <td>0</td>\n",
       "      <td>0</td>\n",
       "      <td>1</td>\n",
       "    </tr>\n",
       "    <tr>\n",
       "      <th>13</th>\n",
       "      <td>0</td>\n",
       "      <td>1</td>\n",
       "      <td>0</td>\n",
       "      <td>0</td>\n",
       "      <td>0</td>\n",
       "      <td>0</td>\n",
       "      <td>0</td>\n",
       "      <td>0</td>\n",
       "      <td>4</td>\n",
       "      <td>1</td>\n",
       "      <td>2</td>\n",
       "      <td>2</td>\n",
       "      <td>1</td>\n",
       "      <td>0</td>\n",
       "    </tr>\n",
       "    <tr>\n",
       "      <th>14</th>\n",
       "      <td>0</td>\n",
       "      <td>0</td>\n",
       "      <td>0</td>\n",
       "      <td>0</td>\n",
       "      <td>0</td>\n",
       "      <td>3</td>\n",
       "      <td>0</td>\n",
       "      <td>0</td>\n",
       "      <td>2</td>\n",
       "      <td>0</td>\n",
       "      <td>0</td>\n",
       "      <td>0</td>\n",
       "      <td>0</td>\n",
       "      <td>1</td>\n",
       "    </tr>\n",
       "    <tr>\n",
       "      <th>15</th>\n",
       "      <td>0</td>\n",
       "      <td>1</td>\n",
       "      <td>0</td>\n",
       "      <td>1</td>\n",
       "      <td>0</td>\n",
       "      <td>3</td>\n",
       "      <td>0</td>\n",
       "      <td>0</td>\n",
       "      <td>1</td>\n",
       "      <td>3</td>\n",
       "      <td>3</td>\n",
       "      <td>1</td>\n",
       "      <td>0</td>\n",
       "      <td>1</td>\n",
       "    </tr>\n",
       "    <tr>\n",
       "      <th>16</th>\n",
       "      <td>0</td>\n",
       "      <td>1</td>\n",
       "      <td>0</td>\n",
       "      <td>0</td>\n",
       "      <td>0</td>\n",
       "      <td>0</td>\n",
       "      <td>2</td>\n",
       "      <td>1</td>\n",
       "      <td>2</td>\n",
       "      <td>3</td>\n",
       "      <td>3</td>\n",
       "      <td>1</td>\n",
       "      <td>0</td>\n",
       "      <td>1</td>\n",
       "    </tr>\n",
       "    <tr>\n",
       "      <th>17</th>\n",
       "      <td>0</td>\n",
       "      <td>0</td>\n",
       "      <td>0</td>\n",
       "      <td>1</td>\n",
       "      <td>0</td>\n",
       "      <td>2</td>\n",
       "      <td>1</td>\n",
       "      <td>0</td>\n",
       "      <td>4</td>\n",
       "      <td>0</td>\n",
       "      <td>1</td>\n",
       "      <td>3</td>\n",
       "      <td>0</td>\n",
       "      <td>1</td>\n",
       "    </tr>\n",
       "    <tr>\n",
       "      <th>18</th>\n",
       "      <td>0</td>\n",
       "      <td>0</td>\n",
       "      <td>0</td>\n",
       "      <td>0</td>\n",
       "      <td>0</td>\n",
       "      <td>1</td>\n",
       "      <td>0</td>\n",
       "      <td>0</td>\n",
       "      <td>0</td>\n",
       "      <td>1</td>\n",
       "      <td>2</td>\n",
       "      <td>2</td>\n",
       "      <td>0</td>\n",
       "      <td>1</td>\n",
       "    </tr>\n",
       "    <tr>\n",
       "      <th>19</th>\n",
       "      <td>0</td>\n",
       "      <td>0</td>\n",
       "      <td>0</td>\n",
       "      <td>0</td>\n",
       "      <td>0</td>\n",
       "      <td>3</td>\n",
       "      <td>0</td>\n",
       "      <td>1</td>\n",
       "      <td>0</td>\n",
       "      <td>3</td>\n",
       "      <td>2</td>\n",
       "      <td>0</td>\n",
       "      <td>0</td>\n",
       "      <td>0</td>\n",
       "    </tr>\n",
       "    <tr>\n",
       "      <th>20</th>\n",
       "      <td>0</td>\n",
       "      <td>0</td>\n",
       "      <td>0</td>\n",
       "      <td>0</td>\n",
       "      <td>1</td>\n",
       "      <td>1</td>\n",
       "      <td>1</td>\n",
       "      <td>0</td>\n",
       "      <td>0</td>\n",
       "      <td>0</td>\n",
       "      <td>0</td>\n",
       "      <td>2</td>\n",
       "      <td>0</td>\n",
       "      <td>1</td>\n",
       "    </tr>\n",
       "    <tr>\n",
       "      <th>21</th>\n",
       "      <td>0</td>\n",
       "      <td>0</td>\n",
       "      <td>0</td>\n",
       "      <td>0</td>\n",
       "      <td>0</td>\n",
       "      <td>1</td>\n",
       "      <td>1</td>\n",
       "      <td>0</td>\n",
       "      <td>0</td>\n",
       "      <td>1</td>\n",
       "      <td>1</td>\n",
       "      <td>0</td>\n",
       "      <td>0</td>\n",
       "      <td>0</td>\n",
       "    </tr>\n",
       "    <tr>\n",
       "      <th>22</th>\n",
       "      <td>0</td>\n",
       "      <td>0</td>\n",
       "      <td>0</td>\n",
       "      <td>0</td>\n",
       "      <td>0</td>\n",
       "      <td>1</td>\n",
       "      <td>2</td>\n",
       "      <td>0</td>\n",
       "      <td>2</td>\n",
       "      <td>3</td>\n",
       "      <td>1</td>\n",
       "      <td>3</td>\n",
       "      <td>0</td>\n",
       "      <td>0</td>\n",
       "    </tr>\n",
       "    <tr>\n",
       "      <th>23</th>\n",
       "      <td>0</td>\n",
       "      <td>0</td>\n",
       "      <td>0</td>\n",
       "      <td>0</td>\n",
       "      <td>0</td>\n",
       "      <td>1</td>\n",
       "      <td>2</td>\n",
       "      <td>0</td>\n",
       "      <td>1</td>\n",
       "      <td>2</td>\n",
       "      <td>1</td>\n",
       "      <td>1</td>\n",
       "      <td>0</td>\n",
       "      <td>1</td>\n",
       "    </tr>\n",
       "    <tr>\n",
       "      <th>24</th>\n",
       "      <td>0</td>\n",
       "      <td>1</td>\n",
       "      <td>0</td>\n",
       "      <td>0</td>\n",
       "      <td>1</td>\n",
       "      <td>1</td>\n",
       "      <td>1</td>\n",
       "      <td>1</td>\n",
       "      <td>3</td>\n",
       "      <td>3</td>\n",
       "      <td>3</td>\n",
       "      <td>2</td>\n",
       "      <td>0</td>\n",
       "      <td>1</td>\n",
       "    </tr>\n",
       "    <tr>\n",
       "      <th>25</th>\n",
       "      <td>0</td>\n",
       "      <td>0</td>\n",
       "      <td>0</td>\n",
       "      <td>1</td>\n",
       "      <td>0</td>\n",
       "      <td>0</td>\n",
       "      <td>2</td>\n",
       "      <td>1</td>\n",
       "      <td>4</td>\n",
       "      <td>0</td>\n",
       "      <td>0</td>\n",
       "      <td>0</td>\n",
       "      <td>0</td>\n",
       "      <td>1</td>\n",
       "    </tr>\n",
       "    <tr>\n",
       "      <th>26</th>\n",
       "      <td>0</td>\n",
       "      <td>0</td>\n",
       "      <td>0</td>\n",
       "      <td>0</td>\n",
       "      <td>0</td>\n",
       "      <td>0</td>\n",
       "      <td>4</td>\n",
       "      <td>0</td>\n",
       "      <td>3</td>\n",
       "      <td>0</td>\n",
       "      <td>0</td>\n",
       "      <td>0</td>\n",
       "      <td>0</td>\n",
       "      <td>0</td>\n",
       "    </tr>\n",
       "    <tr>\n",
       "      <th>27</th>\n",
       "      <td>0</td>\n",
       "      <td>1</td>\n",
       "      <td>0</td>\n",
       "      <td>0</td>\n",
       "      <td>0</td>\n",
       "      <td>1</td>\n",
       "      <td>0</td>\n",
       "      <td>1</td>\n",
       "      <td>2</td>\n",
       "      <td>2</td>\n",
       "      <td>3</td>\n",
       "      <td>2</td>\n",
       "      <td>0</td>\n",
       "      <td>1</td>\n",
       "    </tr>\n",
       "    <tr>\n",
       "      <th>28</th>\n",
       "      <td>0</td>\n",
       "      <td>1</td>\n",
       "      <td>0</td>\n",
       "      <td>1</td>\n",
       "      <td>0</td>\n",
       "      <td>3</td>\n",
       "      <td>4</td>\n",
       "      <td>0</td>\n",
       "      <td>4</td>\n",
       "      <td>4</td>\n",
       "      <td>3</td>\n",
       "      <td>0</td>\n",
       "      <td>0</td>\n",
       "      <td>0</td>\n",
       "    </tr>\n",
       "    <tr>\n",
       "      <th>29</th>\n",
       "      <td>0</td>\n",
       "      <td>0</td>\n",
       "      <td>0</td>\n",
       "      <td>0</td>\n",
       "      <td>0</td>\n",
       "      <td>1</td>\n",
       "      <td>4</td>\n",
       "      <td>0</td>\n",
       "      <td>3</td>\n",
       "      <td>2</td>\n",
       "      <td>2</td>\n",
       "      <td>1</td>\n",
       "      <td>0</td>\n",
       "      <td>0</td>\n",
       "    </tr>\n",
       "  </tbody>\n",
       "</table>\n",
       "</div>"
      ],
      "text/plain": [
       "    prevalentStroke  prevalentHyp  diabetes  TenYearCHD  \\\n",
       "0                 0             0         0           0   \n",
       "1                 0             0         0           0   \n",
       "2                 0             0         0           0   \n",
       "3                 0             1         0           1   \n",
       "4                 0             0         0           0   \n",
       "5                 0             1         0           0   \n",
       "6                 0             0         0           1   \n",
       "7                 0             0         0           0   \n",
       "8                 0             1         0           0   \n",
       "9                 0             1         0           0   \n",
       "10                0             0         0           0   \n",
       "11                0             0         0           0   \n",
       "12                0             1         0           0   \n",
       "13                0             1         0           0   \n",
       "14                0             0         0           0   \n",
       "15                0             1         0           1   \n",
       "16                0             1         0           0   \n",
       "17                0             0         0           1   \n",
       "18                0             0         0           0   \n",
       "19                0             0         0           0   \n",
       "20                0             0         0           0   \n",
       "21                0             0         0           0   \n",
       "22                0             0         0           0   \n",
       "23                0             0         0           0   \n",
       "24                0             1         0           0   \n",
       "25                0             0         0           1   \n",
       "26                0             0         0           0   \n",
       "27                0             1         0           0   \n",
       "28                0             1         0           1   \n",
       "29                0             0         0           0   \n",
       "\n",
       "    CategoricalcigsPerDay_encode  CategoricalheartRate_encode  \\\n",
       "0                              0                            2   \n",
       "1                              0                            3   \n",
       "2                              0                            1   \n",
       "3                              1                            0   \n",
       "4                              1                            3   \n",
       "5                              0                            2   \n",
       "6                              0                            0   \n",
       "7                              0                            2   \n",
       "8                              0                            2   \n",
       "9                              1                            3   \n",
       "10                             0                            1   \n",
       "11                             0                            1   \n",
       "12                             0                            3   \n",
       "13                             0                            0   \n",
       "14                             0                            3   \n",
       "15                             0                            3   \n",
       "16                             0                            0   \n",
       "17                             0                            2   \n",
       "18                             0                            1   \n",
       "19                             0                            3   \n",
       "20                             1                            1   \n",
       "21                             0                            1   \n",
       "22                             0                            1   \n",
       "23                             0                            1   \n",
       "24                             1                            1   \n",
       "25                             0                            0   \n",
       "26                             0                            0   \n",
       "27                             0                            1   \n",
       "28                             0                            3   \n",
       "29                             0                            1   \n",
       "\n",
       "    Categoricalage_encode  sex_encode  CategoricaltotChol_encode  \\\n",
       "0                       0           1                          0   \n",
       "1                       1           0                          3   \n",
       "2                       2           1                          3   \n",
       "3                       4           0                          2   \n",
       "4                       1           0                          4   \n",
       "5                       1           0                          2   \n",
       "6                       4           0                          1   \n",
       "7                       1           0                          4   \n",
       "8                       2           1                          3   \n",
       "9                       1           1                          2   \n",
       "10                      2           0                          3   \n",
       "11                      1           0                          3   \n",
       "12                      1           1                          4   \n",
       "13                      0           0                          4   \n",
       "14                      0           0                          2   \n",
       "15                      0           0                          1   \n",
       "16                      2           1                          2   \n",
       "17                      1           0                          4   \n",
       "18                      0           0                          0   \n",
       "19                      0           1                          0   \n",
       "20                      1           0                          0   \n",
       "21                      1           0                          0   \n",
       "22                      2           0                          2   \n",
       "23                      2           0                          1   \n",
       "24                      1           1                          3   \n",
       "25                      2           1                          4   \n",
       "26                      4           0                          3   \n",
       "27                      0           1                          2   \n",
       "28                      4           0                          4   \n",
       "29                      4           0                          3   \n",
       "\n",
       "    CategoricalsysBP_encode  CategoricaldiaBP_encode  \\\n",
       "0                         0                        0   \n",
       "1                         1                        1   \n",
       "2                         2                        1   \n",
       "3                         4                        3   \n",
       "4                         2                        2   \n",
       "5                         4                        3   \n",
       "6                         3                        0   \n",
       "7                         0                        0   \n",
       "8                         3                        2   \n",
       "9                         4                        3   \n",
       "10                        2                        1   \n",
       "11                        2                        2   \n",
       "12                        3                        3   \n",
       "13                        1                        2   \n",
       "14                        0                        0   \n",
       "15                        3                        3   \n",
       "16                        3                        3   \n",
       "17                        0                        1   \n",
       "18                        1                        2   \n",
       "19                        3                        2   \n",
       "20                        0                        0   \n",
       "21                        1                        1   \n",
       "22                        3                        1   \n",
       "23                        2                        1   \n",
       "24                        3                        3   \n",
       "25                        0                        0   \n",
       "26                        0                        0   \n",
       "27                        2                        3   \n",
       "28                        4                        3   \n",
       "29                        2                        2   \n",
       "\n",
       "    Categoricalglucose_encode  BPMeds_encode  currentSmoker_encode  \n",
       "0                           1              0                     0  \n",
       "1                           1              0                     0  \n",
       "2                           1              0                     1  \n",
       "3                           3              0                     1  \n",
       "4                           2              0                     1  \n",
       "5                           3              0                     0  \n",
       "6                           2              0                     0  \n",
       "7                           2              0                     1  \n",
       "8                           2              0                     0  \n",
       "9                           3              0                     1  \n",
       "10                          1              0                     0  \n",
       "11                          0              0                     0  \n",
       "12                          0              0                     1  \n",
       "13                          2              1                     0  \n",
       "14                          0              0                     1  \n",
       "15                          1              0                     1  \n",
       "16                          1              0                     1  \n",
       "17                          3              0                     1  \n",
       "18                          2              0                     1  \n",
       "19                          0              0                     0  \n",
       "20                          2              0                     1  \n",
       "21                          0              0                     0  \n",
       "22                          3              0                     0  \n",
       "23                          1              0                     1  \n",
       "24                          2              0                     1  \n",
       "25                          0              0                     1  \n",
       "26                          0              0                     0  \n",
       "27                          2              0                     1  \n",
       "28                          0              0                     0  \n",
       "29                          1              0                     0  "
      ]
     },
     "execution_count": 220,
     "metadata": {},
     "output_type": "execute_result"
    }
   ],
   "source": [
    "df_cleanedheart.head(30)#Cleaned data after encoding"
   ]
  },
  {
   "cell_type": "markdown",
   "metadata": {},
   "source": [
    "Storing cleaned data to new file location."
   ]
  },
  {
   "cell_type": "code",
   "execution_count": 221,
   "metadata": {},
   "outputs": [],
   "source": [
    "df_cleanedheart.to_csv(\"C:\\\\Users\\\\Jenisa correia\\\\Downloads\\\\df_cleanedheart.csv\")"
   ]
  },
  {
   "cell_type": "code",
   "execution_count": 222,
   "metadata": {},
   "outputs": [
    {
     "data": {
      "text/plain": [
       "Index(['prevalentStroke', 'prevalentHyp', 'diabetes', 'TenYearCHD',\n",
       "       'CategoricalcigsPerDay_encode', 'CategoricalheartRate_encode',\n",
       "       'Categoricalage_encode', 'sex_encode', 'CategoricaltotChol_encode',\n",
       "       'CategoricalsysBP_encode', 'CategoricaldiaBP_encode',\n",
       "       'Categoricalglucose_encode', 'BPMeds_encode', 'currentSmoker_encode'],\n",
       "      dtype='object')"
      ]
     },
     "execution_count": 222,
     "metadata": {},
     "output_type": "execute_result"
    }
   ],
   "source": [
    "df_cleanedheart.columns"
   ]
  },
  {
   "cell_type": "code",
   "execution_count": 223,
   "metadata": {},
   "outputs": [
    {
     "data": {
      "text/plain": [
       "dtype('int8')"
      ]
     },
     "execution_count": 223,
     "metadata": {},
     "output_type": "execute_result"
    }
   ],
   "source": [
    "df_cleanedheart['CategoricalheartRate_encode'].dtype"
   ]
  },
  {
   "cell_type": "markdown",
   "metadata": {},
   "source": [
    "# HeatMap"
   ]
  },
  {
   "cell_type": "code",
   "execution_count": 224,
   "metadata": {},
   "outputs": [
    {
     "data": {
      "text/plain": [
       "<AxesSubplot:>"
      ]
     },
     "execution_count": 224,
     "metadata": {},
     "output_type": "execute_result"
    },
    {
     "data": {
      "image/png": "[encoded data removed]",
      "text/plain": [
       "<Figure size 1008x648 with 2 Axes>"
      ]
     },
     "metadata": {
      "needs_background": "light"
     },
     "output_type": "display_data"
    }
   ],
   "source": [
    "import matplotlib.pyplot as plt\n",
    "import seaborn as sns # for data visualization\n",
    "plt.figure(figsize=(14,9))\n",
    "#df_cleanedheart.astype(float)\n",
    "sns.heatmap(df_cleanedheart)"
   ]
  },
  {
   "cell_type": "code",
   "execution_count": 225,
   "metadata": {},
   "outputs": [
    {
     "data": {
      "text/html": [
       "<div>\n",
       "<style scoped>\n",
       "    .dataframe tbody tr th:only-of-type {\n",
       "        vertical-align: middle;\n",
       "    }\n",
       "\n",
       "    .dataframe tbody tr th {\n",
       "        vertical-align: top;\n",
       "    }\n",
       "\n",
       "    .dataframe thead th {\n",
       "        text-align: right;\n",
       "    }\n",
       "</style>\n",
       "<table border=\"1\" class=\"dataframe\">\n",
       "  <thead>\n",
       "    <tr style=\"text-align: right;\">\n",
       "      <th></th>\n",
       "      <th>prevalentStroke</th>\n",
       "      <th>prevalentHyp</th>\n",
       "      <th>diabetes</th>\n",
       "      <th>TenYearCHD</th>\n",
       "      <th>CategoricalcigsPerDay_encode</th>\n",
       "      <th>CategoricalheartRate_encode</th>\n",
       "      <th>Categoricalage_encode</th>\n",
       "      <th>sex_encode</th>\n",
       "      <th>CategoricaltotChol_encode</th>\n",
       "      <th>CategoricalsysBP_encode</th>\n",
       "      <th>CategoricaldiaBP_encode</th>\n",
       "      <th>Categoricalglucose_encode</th>\n",
       "      <th>BPMeds_encode</th>\n",
       "      <th>currentSmoker_encode</th>\n",
       "    </tr>\n",
       "  </thead>\n",
       "  <tbody>\n",
       "    <tr>\n",
       "      <th>prevalentStroke</th>\n",
       "      <td>1.000000</td>\n",
       "      <td>0.074830</td>\n",
       "      <td>0.006949</td>\n",
       "      <td>0.061810</td>\n",
       "      <td>-0.026847</td>\n",
       "      <td>-0.015261</td>\n",
       "      <td>0.051541</td>\n",
       "      <td>-0.004546</td>\n",
       "      <td>0.013682</td>\n",
       "      <td>0.062641</td>\n",
       "      <td>0.050848</td>\n",
       "      <td>0.006747</td>\n",
       "      <td>0.114609</td>\n",
       "      <td>-0.032988</td>\n",
       "    </tr>\n",
       "    <tr>\n",
       "      <th>prevalentHyp</th>\n",
       "      <td>0.074830</td>\n",
       "      <td>1.000000</td>\n",
       "      <td>0.077808</td>\n",
       "      <td>0.177603</td>\n",
       "      <td>-0.007434</td>\n",
       "      <td>0.125606</td>\n",
       "      <td>0.297254</td>\n",
       "      <td>0.005313</td>\n",
       "      <td>0.155725</td>\n",
       "      <td>0.683981</td>\n",
       "      <td>0.608188</td>\n",
       "      <td>0.074330</td>\n",
       "      <td>0.258697</td>\n",
       "      <td>-0.103260</td>\n",
       "    </tr>\n",
       "    <tr>\n",
       "      <th>diabetes</th>\n",
       "      <td>0.006949</td>\n",
       "      <td>0.077808</td>\n",
       "      <td>1.000000</td>\n",
       "      <td>0.097317</td>\n",
       "      <td>-0.023049</td>\n",
       "      <td>0.046447</td>\n",
       "      <td>0.098284</td>\n",
       "      <td>0.015708</td>\n",
       "      <td>0.023413</td>\n",
       "      <td>0.085622</td>\n",
       "      <td>0.045969</td>\n",
       "      <td>0.173103</td>\n",
       "      <td>0.051394</td>\n",
       "      <td>-0.044295</td>\n",
       "    </tr>\n",
       "    <tr>\n",
       "      <th>TenYearCHD</th>\n",
       "      <td>0.061810</td>\n",
       "      <td>0.177603</td>\n",
       "      <td>0.097317</td>\n",
       "      <td>1.000000</td>\n",
       "      <td>0.057639</td>\n",
       "      <td>0.012759</td>\n",
       "      <td>0.215226</td>\n",
       "      <td>0.088428</td>\n",
       "      <td>0.072133</td>\n",
       "      <td>0.188257</td>\n",
       "      <td>0.129409</td>\n",
       "      <td>0.048476</td>\n",
       "      <td>0.086417</td>\n",
       "      <td>0.019456</td>\n",
       "    </tr>\n",
       "    <tr>\n",
       "      <th>CategoricalcigsPerDay_encode</th>\n",
       "      <td>-0.026847</td>\n",
       "      <td>-0.007434</td>\n",
       "      <td>-0.023049</td>\n",
       "      <td>0.057639</td>\n",
       "      <td>1.000000</td>\n",
       "      <td>0.037590</td>\n",
       "      <td>-0.097105</td>\n",
       "      <td>0.256169</td>\n",
       "      <td>-0.007536</td>\n",
       "      <td>-0.005738</td>\n",
       "      <td>0.017415</td>\n",
       "      <td>-0.049777</td>\n",
       "      <td>-0.028969</td>\n",
       "      <td>0.352648</td>\n",
       "    </tr>\n",
       "    <tr>\n",
       "      <th>CategoricalheartRate_encode</th>\n",
       "      <td>-0.015261</td>\n",
       "      <td>0.125606</td>\n",
       "      <td>0.046447</td>\n",
       "      <td>0.012759</td>\n",
       "      <td>0.037590</td>\n",
       "      <td>1.000000</td>\n",
       "      <td>-0.018563</td>\n",
       "      <td>-0.107207</td>\n",
       "      <td>0.074677</td>\n",
       "      <td>0.157699</td>\n",
       "      <td>0.157267</td>\n",
       "      <td>0.058682</td>\n",
       "      <td>0.006727</td>\n",
       "      <td>0.065040</td>\n",
       "    </tr>\n",
       "    <tr>\n",
       "      <th>Categoricalage_encode</th>\n",
       "      <td>0.051541</td>\n",
       "      <td>0.297254</td>\n",
       "      <td>0.098284</td>\n",
       "      <td>0.215226</td>\n",
       "      <td>-0.097105</td>\n",
       "      <td>-0.018563</td>\n",
       "      <td>1.000000</td>\n",
       "      <td>-0.030478</td>\n",
       "      <td>0.264805</td>\n",
       "      <td>0.370267</td>\n",
       "      <td>0.189264</td>\n",
       "      <td>0.103003</td>\n",
       "      <td>0.113081</td>\n",
       "      <td>-0.210559</td>\n",
       "    </tr>\n",
       "    <tr>\n",
       "      <th>sex_encode</th>\n",
       "      <td>-0.004546</td>\n",
       "      <td>0.005313</td>\n",
       "      <td>0.015708</td>\n",
       "      <td>0.088428</td>\n",
       "      <td>0.256169</td>\n",
       "      <td>-0.107207</td>\n",
       "      <td>-0.030478</td>\n",
       "      <td>1.000000</td>\n",
       "      <td>-0.056456</td>\n",
       "      <td>-0.007492</td>\n",
       "      <td>0.058656</td>\n",
       "      <td>0.028691</td>\n",
       "      <td>-0.051545</td>\n",
       "      <td>0.197596</td>\n",
       "    </tr>\n",
       "    <tr>\n",
       "      <th>CategoricaltotChol_encode</th>\n",
       "      <td>0.013682</td>\n",
       "      <td>0.155725</td>\n",
       "      <td>0.023413</td>\n",
       "      <td>0.072133</td>\n",
       "      <td>-0.007536</td>\n",
       "      <td>0.074677</td>\n",
       "      <td>0.264805</td>\n",
       "      <td>-0.056456</td>\n",
       "      <td>1.000000</td>\n",
       "      <td>0.208061</td>\n",
       "      <td>0.170187</td>\n",
       "      <td>0.047341</td>\n",
       "      <td>0.075684</td>\n",
       "      <td>-0.054894</td>\n",
       "    </tr>\n",
       "    <tr>\n",
       "      <th>CategoricalsysBP_encode</th>\n",
       "      <td>0.062641</td>\n",
       "      <td>0.683981</td>\n",
       "      <td>0.085622</td>\n",
       "      <td>0.188257</td>\n",
       "      <td>-0.005738</td>\n",
       "      <td>0.157699</td>\n",
       "      <td>0.370267</td>\n",
       "      <td>-0.007492</td>\n",
       "      <td>0.208061</td>\n",
       "      <td>1.000000</td>\n",
       "      <td>0.733477</td>\n",
       "      <td>0.098277</td>\n",
       "      <td>0.191831</td>\n",
       "      <td>-0.127333</td>\n",
       "    </tr>\n",
       "    <tr>\n",
       "      <th>CategoricaldiaBP_encode</th>\n",
       "      <td>0.050848</td>\n",
       "      <td>0.608188</td>\n",
       "      <td>0.045969</td>\n",
       "      <td>0.129409</td>\n",
       "      <td>0.017415</td>\n",
       "      <td>0.157267</td>\n",
       "      <td>0.189264</td>\n",
       "      <td>0.058656</td>\n",
       "      <td>0.170187</td>\n",
       "      <td>0.733477</td>\n",
       "      <td>1.000000</td>\n",
       "      <td>0.035706</td>\n",
       "      <td>0.170188</td>\n",
       "      <td>-0.111225</td>\n",
       "    </tr>\n",
       "    <tr>\n",
       "      <th>Categoricalglucose_encode</th>\n",
       "      <td>0.006747</td>\n",
       "      <td>0.074330</td>\n",
       "      <td>0.173103</td>\n",
       "      <td>0.048476</td>\n",
       "      <td>-0.049777</td>\n",
       "      <td>0.058682</td>\n",
       "      <td>0.103003</td>\n",
       "      <td>0.028691</td>\n",
       "      <td>0.047341</td>\n",
       "      <td>0.098277</td>\n",
       "      <td>0.035706</td>\n",
       "      <td>1.000000</td>\n",
       "      <td>0.010890</td>\n",
       "      <td>-0.075243</td>\n",
       "    </tr>\n",
       "    <tr>\n",
       "      <th>BPMeds_encode</th>\n",
       "      <td>0.114609</td>\n",
       "      <td>0.258697</td>\n",
       "      <td>0.051394</td>\n",
       "      <td>0.086417</td>\n",
       "      <td>-0.028969</td>\n",
       "      <td>0.006727</td>\n",
       "      <td>0.113081</td>\n",
       "      <td>-0.051545</td>\n",
       "      <td>0.075684</td>\n",
       "      <td>0.191831</td>\n",
       "      <td>0.170188</td>\n",
       "      <td>0.010890</td>\n",
       "      <td>1.000000</td>\n",
       "      <td>-0.048358</td>\n",
       "    </tr>\n",
       "    <tr>\n",
       "      <th>currentSmoker_encode</th>\n",
       "      <td>-0.032988</td>\n",
       "      <td>-0.103260</td>\n",
       "      <td>-0.044295</td>\n",
       "      <td>0.019456</td>\n",
       "      <td>0.352648</td>\n",
       "      <td>0.065040</td>\n",
       "      <td>-0.210559</td>\n",
       "      <td>0.197596</td>\n",
       "      <td>-0.054894</td>\n",
       "      <td>-0.127333</td>\n",
       "      <td>-0.111225</td>\n",
       "      <td>-0.075243</td>\n",
       "      <td>-0.048358</td>\n",
       "      <td>1.000000</td>\n",
       "    </tr>\n",
       "  </tbody>\n",
       "</table>\n",
       "</div>"
      ],
      "text/plain": [
       "                              prevalentStroke  prevalentHyp  diabetes  \\\n",
       "prevalentStroke                      1.000000      0.074830  0.006949   \n",
       "prevalentHyp                         0.074830      1.000000  0.077808   \n",
       "diabetes                             0.006949      0.077808  1.000000   \n",
       "TenYearCHD                           0.061810      0.177603  0.097317   \n",
       "CategoricalcigsPerDay_encode        -0.026847     -0.007434 -0.023049   \n",
       "CategoricalheartRate_encode         -0.015261      0.125606  0.046447   \n",
       "Categoricalage_encode                0.051541      0.297254  0.098284   \n",
       "sex_encode                          -0.004546      0.005313  0.015708   \n",
       "CategoricaltotChol_encode            0.013682      0.155725  0.023413   \n",
       "CategoricalsysBP_encode              0.062641      0.683981  0.085622   \n",
       "CategoricaldiaBP_encode              0.050848      0.608188  0.045969   \n",
       "Categoricalglucose_encode            0.006747      0.074330  0.173103   \n",
       "BPMeds_encode                        0.114609      0.258697  0.051394   \n",
       "currentSmoker_encode                -0.032988     -0.103260 -0.044295   \n",
       "\n",
       "                              TenYearCHD  CategoricalcigsPerDay_encode  \\\n",
       "prevalentStroke                 0.061810                     -0.026847   \n",
       "prevalentHyp                    0.177603                     -0.007434   \n",
       "diabetes                        0.097317                     -0.023049   \n",
       "TenYearCHD                      1.000000                      0.057639   \n",
       "CategoricalcigsPerDay_encode    0.057639                      1.000000   \n",
       "CategoricalheartRate_encode     0.012759                      0.037590   \n",
       "Categoricalage_encode           0.215226                     -0.097105   \n",
       "sex_encode                      0.088428                      0.256169   \n",
       "CategoricaltotChol_encode       0.072133                     -0.007536   \n",
       "CategoricalsysBP_encode         0.188257                     -0.005738   \n",
       "CategoricaldiaBP_encode         0.129409                      0.017415   \n",
       "Categoricalglucose_encode       0.048476                     -0.049777   \n",
       "BPMeds_encode                   0.086417                     -0.028969   \n",
       "currentSmoker_encode            0.019456                      0.352648   \n",
       "\n",
       "                              CategoricalheartRate_encode  \\\n",
       "prevalentStroke                                 -0.015261   \n",
       "prevalentHyp                                     0.125606   \n",
       "diabetes                                         0.046447   \n",
       "TenYearCHD                                       0.012759   \n",
       "CategoricalcigsPerDay_encode                     0.037590   \n",
       "CategoricalheartRate_encode                      1.000000   \n",
       "Categoricalage_encode                           -0.018563   \n",
       "sex_encode                                      -0.107207   \n",
       "CategoricaltotChol_encode                        0.074677   \n",
       "CategoricalsysBP_encode                          0.157699   \n",
       "CategoricaldiaBP_encode                          0.157267   \n",
       "Categoricalglucose_encode                        0.058682   \n",
       "BPMeds_encode                                    0.006727   \n",
       "currentSmoker_encode                             0.065040   \n",
       "\n",
       "                              Categoricalage_encode  sex_encode  \\\n",
       "prevalentStroke                            0.051541   -0.004546   \n",
       "prevalentHyp                               0.297254    0.005313   \n",
       "diabetes                                   0.098284    0.015708   \n",
       "TenYearCHD                                 0.215226    0.088428   \n",
       "CategoricalcigsPerDay_encode              -0.097105    0.256169   \n",
       "CategoricalheartRate_encode               -0.018563   -0.107207   \n",
       "Categoricalage_encode                      1.000000   -0.030478   \n",
       "sex_encode                                -0.030478    1.000000   \n",
       "CategoricaltotChol_encode                  0.264805   -0.056456   \n",
       "CategoricalsysBP_encode                    0.370267   -0.007492   \n",
       "CategoricaldiaBP_encode                    0.189264    0.058656   \n",
       "Categoricalglucose_encode                  0.103003    0.028691   \n",
       "BPMeds_encode                              0.113081   -0.051545   \n",
       "currentSmoker_encode                      -0.210559    0.197596   \n",
       "\n",
       "                              CategoricaltotChol_encode  \\\n",
       "prevalentStroke                                0.013682   \n",
       "prevalentHyp                                   0.155725   \n",
       "diabetes                                       0.023413   \n",
       "TenYearCHD                                     0.072133   \n",
       "CategoricalcigsPerDay_encode                  -0.007536   \n",
       "CategoricalheartRate_encode                    0.074677   \n",
       "Categoricalage_encode                          0.264805   \n",
       "sex_encode                                    -0.056456   \n",
       "CategoricaltotChol_encode                      1.000000   \n",
       "CategoricalsysBP_encode                        0.208061   \n",
       "CategoricaldiaBP_encode                        0.170187   \n",
       "Categoricalglucose_encode                      0.047341   \n",
       "BPMeds_encode                                  0.075684   \n",
       "currentSmoker_encode                          -0.054894   \n",
       "\n",
       "                              CategoricalsysBP_encode  \\\n",
       "prevalentStroke                              0.062641   \n",
       "prevalentHyp                                 0.683981   \n",
       "diabetes                                     0.085622   \n",
       "TenYearCHD                                   0.188257   \n",
       "CategoricalcigsPerDay_encode                -0.005738   \n",
       "CategoricalheartRate_encode                  0.157699   \n",
       "Categoricalage_encode                        0.370267   \n",
       "sex_encode                                  -0.007492   \n",
       "CategoricaltotChol_encode                    0.208061   \n",
       "CategoricalsysBP_encode                      1.000000   \n",
       "CategoricaldiaBP_encode                      0.733477   \n",
       "Categoricalglucose_encode                    0.098277   \n",
       "BPMeds_encode                                0.191831   \n",
       "currentSmoker_encode                        -0.127333   \n",
       "\n",
       "                              CategoricaldiaBP_encode  \\\n",
       "prevalentStroke                              0.050848   \n",
       "prevalentHyp                                 0.608188   \n",
       "diabetes                                     0.045969   \n",
       "TenYearCHD                                   0.129409   \n",
       "CategoricalcigsPerDay_encode                 0.017415   \n",
       "CategoricalheartRate_encode                  0.157267   \n",
       "Categoricalage_encode                        0.189264   \n",
       "sex_encode                                   0.058656   \n",
       "CategoricaltotChol_encode                    0.170187   \n",
       "CategoricalsysBP_encode                      0.733477   \n",
       "CategoricaldiaBP_encode                      1.000000   \n",
       "Categoricalglucose_encode                    0.035706   \n",
       "BPMeds_encode                                0.170188   \n",
       "currentSmoker_encode                        -0.111225   \n",
       "\n",
       "                              Categoricalglucose_encode  BPMeds_encode  \\\n",
       "prevalentStroke                                0.006747       0.114609   \n",
       "prevalentHyp                                   0.074330       0.258697   \n",
       "diabetes                                       0.173103       0.051394   \n",
       "TenYearCHD                                     0.048476       0.086417   \n",
       "CategoricalcigsPerDay_encode                  -0.049777      -0.028969   \n",
       "CategoricalheartRate_encode                    0.058682       0.006727   \n",
       "Categoricalage_encode                          0.103003       0.113081   \n",
       "sex_encode                                     0.028691      -0.051545   \n",
       "CategoricaltotChol_encode                      0.047341       0.075684   \n",
       "CategoricalsysBP_encode                        0.098277       0.191831   \n",
       "CategoricaldiaBP_encode                        0.035706       0.170188   \n",
       "Categoricalglucose_encode                      1.000000       0.010890   \n",
       "BPMeds_encode                                  0.010890       1.000000   \n",
       "currentSmoker_encode                          -0.075243      -0.048358   \n",
       "\n",
       "                              currentSmoker_encode  \n",
       "prevalentStroke                          -0.032988  \n",
       "prevalentHyp                             -0.103260  \n",
       "diabetes                                 -0.044295  \n",
       "TenYearCHD                                0.019456  \n",
       "CategoricalcigsPerDay_encode              0.352648  \n",
       "CategoricalheartRate_encode               0.065040  \n",
       "Categoricalage_encode                    -0.210559  \n",
       "sex_encode                                0.197596  \n",
       "CategoricaltotChol_encode                -0.054894  \n",
       "CategoricalsysBP_encode                  -0.127333  \n",
       "CategoricaldiaBP_encode                  -0.111225  \n",
       "Categoricalglucose_encode                -0.075243  \n",
       "BPMeds_encode                            -0.048358  \n",
       "currentSmoker_encode                      1.000000  "
      ]
     },
     "execution_count": 225,
     "metadata": {},
     "output_type": "execute_result"
    }
   ],
   "source": [
    "correlation=df_cleanedheart.corr()# it gives correlation values.\n",
    "correlation"
   ]
  },
  {
   "cell_type": "markdown",
   "metadata": {},
   "source": [
    "# HeatMap for Correlation"
   ]
  },
  {
   "cell_type": "code",
   "execution_count": 226,
   "metadata": {},
   "outputs": [
    {
     "data": {
      "text/plain": [
       "<AxesSubplot:>"
      ]
     },
     "execution_count": 226,
     "metadata": {},
     "output_type": "execute_result"
    },
    {
     "data": {
      "image/png": "[encoded data removed]",
      "text/plain": [
       "<Figure size 1008x720 with 2 Axes>"
      ]
     },
     "metadata": {
      "needs_background": "light"
     },
     "output_type": "display_data"
    }
   ],
   "source": [
    "colormap = plt.cm.Blues\n",
    "plt.figure(figsize=(14,10))\n",
    "sns.heatmap(df_cleanedheart.corr(), cmap=colormap, annot=True, linewidths=0.2) # annot=True to display correlation"
   ]
  },
  {
   "cell_type": "code",
   "execution_count": 4,
   "metadata": {},
   "outputs": [],
   "source": [
    "#CategoricaldiBP_encode is having moderate positive correlation\n",
    "#No two variables are highly correlated\n",
    "#Rest others low or negligible correlation"
   ]
  },
  {
   "cell_type": "markdown",
   "metadata": {},
   "source": [
    "# Data Modeling"
   ]
  },
  {
   "cell_type": "code",
   "execution_count": 227,
   "metadata": {},
   "outputs": [
    {
     "data": {
      "text/html": [
       "<div>\n",
       "<style scoped>\n",
       "    .dataframe tbody tr th:only-of-type {\n",
       "        vertical-align: middle;\n",
       "    }\n",
       "\n",
       "    .dataframe tbody tr th {\n",
       "        vertical-align: top;\n",
       "    }\n",
       "\n",
       "    .dataframe thead th {\n",
       "        text-align: right;\n",
       "    }\n",
       "</style>\n",
       "<table border=\"1\" class=\"dataframe\">\n",
       "  <thead>\n",
       "    <tr style=\"text-align: right;\">\n",
       "      <th></th>\n",
       "      <th>prevalentStroke</th>\n",
       "      <th>prevalentHyp</th>\n",
       "      <th>diabetes</th>\n",
       "      <th>CategoricalcigsPerDay_encode</th>\n",
       "      <th>CategoricalheartRate_encode</th>\n",
       "      <th>Categoricalage_encode</th>\n",
       "      <th>sex_encode</th>\n",
       "      <th>CategoricaltotChol_encode</th>\n",
       "      <th>CategoricalsysBP_encode</th>\n",
       "      <th>CategoricaldiaBP_encode</th>\n",
       "      <th>Categoricalglucose_encode</th>\n",
       "      <th>BPMeds_encode</th>\n",
       "      <th>currentSmoker_encode</th>\n",
       "    </tr>\n",
       "  </thead>\n",
       "  <tbody>\n",
       "    <tr>\n",
       "      <th>0</th>\n",
       "      <td>0</td>\n",
       "      <td>0</td>\n",
       "      <td>0</td>\n",
       "      <td>0</td>\n",
       "      <td>2</td>\n",
       "      <td>0</td>\n",
       "      <td>1</td>\n",
       "      <td>0</td>\n",
       "      <td>0</td>\n",
       "      <td>0</td>\n",
       "      <td>1</td>\n",
       "      <td>0</td>\n",
       "      <td>0</td>\n",
       "    </tr>\n",
       "    <tr>\n",
       "      <th>1</th>\n",
       "      <td>0</td>\n",
       "      <td>0</td>\n",
       "      <td>0</td>\n",
       "      <td>0</td>\n",
       "      <td>3</td>\n",
       "      <td>1</td>\n",
       "      <td>0</td>\n",
       "      <td>3</td>\n",
       "      <td>1</td>\n",
       "      <td>1</td>\n",
       "      <td>1</td>\n",
       "      <td>0</td>\n",
       "      <td>0</td>\n",
       "    </tr>\n",
       "    <tr>\n",
       "      <th>2</th>\n",
       "      <td>0</td>\n",
       "      <td>0</td>\n",
       "      <td>0</td>\n",
       "      <td>0</td>\n",
       "      <td>1</td>\n",
       "      <td>2</td>\n",
       "      <td>1</td>\n",
       "      <td>3</td>\n",
       "      <td>2</td>\n",
       "      <td>1</td>\n",
       "      <td>1</td>\n",
       "      <td>0</td>\n",
       "      <td>1</td>\n",
       "    </tr>\n",
       "    <tr>\n",
       "      <th>3</th>\n",
       "      <td>0</td>\n",
       "      <td>1</td>\n",
       "      <td>0</td>\n",
       "      <td>1</td>\n",
       "      <td>0</td>\n",
       "      <td>4</td>\n",
       "      <td>0</td>\n",
       "      <td>2</td>\n",
       "      <td>4</td>\n",
       "      <td>3</td>\n",
       "      <td>3</td>\n",
       "      <td>0</td>\n",
       "      <td>1</td>\n",
       "    </tr>\n",
       "    <tr>\n",
       "      <th>4</th>\n",
       "      <td>0</td>\n",
       "      <td>0</td>\n",
       "      <td>0</td>\n",
       "      <td>1</td>\n",
       "      <td>3</td>\n",
       "      <td>1</td>\n",
       "      <td>0</td>\n",
       "      <td>4</td>\n",
       "      <td>2</td>\n",
       "      <td>2</td>\n",
       "      <td>2</td>\n",
       "      <td>0</td>\n",
       "      <td>1</td>\n",
       "    </tr>\n",
       "    <tr>\n",
       "      <th>...</th>\n",
       "      <td>...</td>\n",
       "      <td>...</td>\n",
       "      <td>...</td>\n",
       "      <td>...</td>\n",
       "      <td>...</td>\n",
       "      <td>...</td>\n",
       "      <td>...</td>\n",
       "      <td>...</td>\n",
       "      <td>...</td>\n",
       "      <td>...</td>\n",
       "      <td>...</td>\n",
       "      <td>...</td>\n",
       "      <td>...</td>\n",
       "    </tr>\n",
       "    <tr>\n",
       "      <th>4233</th>\n",
       "      <td>0</td>\n",
       "      <td>1</td>\n",
       "      <td>0</td>\n",
       "      <td>0</td>\n",
       "      <td>0</td>\n",
       "      <td>2</td>\n",
       "      <td>1</td>\n",
       "      <td>4</td>\n",
       "      <td>4</td>\n",
       "      <td>3</td>\n",
       "      <td>3</td>\n",
       "      <td>0</td>\n",
       "      <td>1</td>\n",
       "    </tr>\n",
       "    <tr>\n",
       "      <th>4234</th>\n",
       "      <td>0</td>\n",
       "      <td>0</td>\n",
       "      <td>0</td>\n",
       "      <td>1</td>\n",
       "      <td>0</td>\n",
       "      <td>2</td>\n",
       "      <td>1</td>\n",
       "      <td>1</td>\n",
       "      <td>2</td>\n",
       "      <td>1</td>\n",
       "      <td>0</td>\n",
       "      <td>0</td>\n",
       "      <td>1</td>\n",
       "    </tr>\n",
       "    <tr>\n",
       "      <th>4235</th>\n",
       "      <td>0</td>\n",
       "      <td>0</td>\n",
       "      <td>0</td>\n",
       "      <td>0</td>\n",
       "      <td>3</td>\n",
       "      <td>2</td>\n",
       "      <td>0</td>\n",
       "      <td>3</td>\n",
       "      <td>2</td>\n",
       "      <td>0</td>\n",
       "      <td>3</td>\n",
       "      <td>0</td>\n",
       "      <td>1</td>\n",
       "    </tr>\n",
       "    <tr>\n",
       "      <th>4236</th>\n",
       "      <td>0</td>\n",
       "      <td>0</td>\n",
       "      <td>0</td>\n",
       "      <td>0</td>\n",
       "      <td>3</td>\n",
       "      <td>1</td>\n",
       "      <td>0</td>\n",
       "      <td>1</td>\n",
       "      <td>2</td>\n",
       "      <td>2</td>\n",
       "      <td>0</td>\n",
       "      <td>0</td>\n",
       "      <td>1</td>\n",
       "    </tr>\n",
       "    <tr>\n",
       "      <th>4237</th>\n",
       "      <td>0</td>\n",
       "      <td>0</td>\n",
       "      <td>0</td>\n",
       "      <td>0</td>\n",
       "      <td>2</td>\n",
       "      <td>2</td>\n",
       "      <td>0</td>\n",
       "      <td>3</td>\n",
       "      <td>3</td>\n",
       "      <td>2</td>\n",
       "      <td>3</td>\n",
       "      <td>0</td>\n",
       "      <td>0</td>\n",
       "    </tr>\n",
       "  </tbody>\n",
       "</table>\n",
       "<p>4238 rows × 13 columns</p>\n",
       "</div>"
      ],
      "text/plain": [
       "      prevalentStroke  prevalentHyp  diabetes  CategoricalcigsPerDay_encode  \\\n",
       "0                   0             0         0                             0   \n",
       "1                   0             0         0                             0   \n",
       "2                   0             0         0                             0   \n",
       "3                   0             1         0                             1   \n",
       "4                   0             0         0                             1   \n",
       "...               ...           ...       ...                           ...   \n",
       "4233                0             1         0                             0   \n",
       "4234                0             0         0                             1   \n",
       "4235                0             0         0                             0   \n",
       "4236                0             0         0                             0   \n",
       "4237                0             0         0                             0   \n",
       "\n",
       "      CategoricalheartRate_encode  Categoricalage_encode  sex_encode  \\\n",
       "0                               2                      0           1   \n",
       "1                               3                      1           0   \n",
       "2                               1                      2           1   \n",
       "3                               0                      4           0   \n",
       "4                               3                      1           0   \n",
       "...                           ...                    ...         ...   \n",
       "4233                            0                      2           1   \n",
       "4234                            0                      2           1   \n",
       "4235                            3                      2           0   \n",
       "4236                            3                      1           0   \n",
       "4237                            2                      2           0   \n",
       "\n",
       "      CategoricaltotChol_encode  CategoricalsysBP_encode  \\\n",
       "0                             0                        0   \n",
       "1                             3                        1   \n",
       "2                             3                        2   \n",
       "3                             2                        4   \n",
       "4                             4                        2   \n",
       "...                         ...                      ...   \n",
       "4233                          4                        4   \n",
       "4234                          1                        2   \n",
       "4235                          3                        2   \n",
       "4236                          1                        2   \n",
       "4237                          3                        3   \n",
       "\n",
       "      CategoricaldiaBP_encode  Categoricalglucose_encode  BPMeds_encode  \\\n",
       "0                           0                          1              0   \n",
       "1                           1                          1              0   \n",
       "2                           1                          1              0   \n",
       "3                           3                          3              0   \n",
       "4                           2                          2              0   \n",
       "...                       ...                        ...            ...   \n",
       "4233                        3                          3              0   \n",
       "4234                        1                          0              0   \n",
       "4235                        0                          3              0   \n",
       "4236                        2                          0              0   \n",
       "4237                        2                          3              0   \n",
       "\n",
       "      currentSmoker_encode  \n",
       "0                        0  \n",
       "1                        0  \n",
       "2                        1  \n",
       "3                        1  \n",
       "4                        1  \n",
       "...                    ...  \n",
       "4233                     1  \n",
       "4234                     1  \n",
       "4235                     1  \n",
       "4236                     1  \n",
       "4237                     0  \n",
       "\n",
       "[4238 rows x 13 columns]"
      ]
     },
     "execution_count": 227,
     "metadata": {},
     "output_type": "execute_result"
    }
   ],
   "source": [
    "X = df_cleanedheart.drop(\"TenYearCHD\", axis=1) # all feature variable\n",
    "y = df_cleanedheart[\"TenYearCHD\"] # only target variable\n",
    "\n",
    "X"
   ]
  },
  {
   "cell_type": "code",
   "execution_count": 228,
   "metadata": {},
   "outputs": [
    {
     "data": {
      "text/plain": [
       "0       0\n",
       "1       0\n",
       "2       0\n",
       "3       1\n",
       "4       0\n",
       "       ..\n",
       "4233    1\n",
       "4234    0\n",
       "4235    0\n",
       "4236    0\n",
       "4237    0\n",
       "Name: TenYearCHD, Length: 4238, dtype: int64"
      ]
     },
     "execution_count": 228,
     "metadata": {},
     "output_type": "execute_result"
    }
   ],
   "source": [
    "y"
   ]
  },
  {
   "cell_type": "markdown",
   "metadata": {},
   "source": [
    "#Splitting of dataset into training and testing."
   ]
  },
  {
   "cell_type": "code",
   "execution_count": 229,
   "metadata": {},
   "outputs": [],
   "source": [
    "from sklearn.model_selection import train_test_split\n",
    "X_train, X_test, y_train, y_test = train_test_split(X, y, test_size=0.33, random_state=1)"
   ]
  },
  {
   "cell_type": "code",
   "execution_count": 230,
   "metadata": {},
   "outputs": [],
   "source": [
    "X_train, X_test,y_train, y_test=train_test_split(df_cleanedheart[['prevalentStroke','prevalentHyp','diabetes','CategoricalcigsPerDay_encode','CategoricalheartRate_encode','Categoricalage_encode','sex_encode','CategoricaltotChol_encode','CategoricalsysBP_encode','CategoricaldiaBP_encode','Categoricalglucose_encode','BPMeds_encode','currentSmoker_encode']],df_cleanedheart['TenYearCHD'],test_size=0.33,random_state=1)"
   ]
  },
  {
   "cell_type": "code",
   "execution_count": 231,
   "metadata": {},
   "outputs": [
    {
     "data": {
      "text/html": [
       "<div>\n",
       "<style scoped>\n",
       "    .dataframe tbody tr th:only-of-type {\n",
       "        vertical-align: middle;\n",
       "    }\n",
       "\n",
       "    .dataframe tbody tr th {\n",
       "        vertical-align: top;\n",
       "    }\n",
       "\n",
       "    .dataframe thead th {\n",
       "        text-align: right;\n",
       "    }\n",
       "</style>\n",
       "<table border=\"1\" class=\"dataframe\">\n",
       "  <thead>\n",
       "    <tr style=\"text-align: right;\">\n",
       "      <th></th>\n",
       "      <th>prevalentStroke</th>\n",
       "      <th>prevalentHyp</th>\n",
       "      <th>diabetes</th>\n",
       "      <th>TenYearCHD</th>\n",
       "      <th>CategoricalcigsPerDay_encode</th>\n",
       "      <th>CategoricalheartRate_encode</th>\n",
       "      <th>Categoricalage_encode</th>\n",
       "      <th>sex_encode</th>\n",
       "      <th>CategoricaltotChol_encode</th>\n",
       "      <th>CategoricalsysBP_encode</th>\n",
       "      <th>CategoricaldiaBP_encode</th>\n",
       "      <th>Categoricalglucose_encode</th>\n",
       "      <th>BPMeds_encode</th>\n",
       "      <th>currentSmoker_encode</th>\n",
       "    </tr>\n",
       "  </thead>\n",
       "  <tbody>\n",
       "    <tr>\n",
       "      <th>0</th>\n",
       "      <td>0</td>\n",
       "      <td>0</td>\n",
       "      <td>0</td>\n",
       "      <td>0</td>\n",
       "      <td>0</td>\n",
       "      <td>2</td>\n",
       "      <td>0</td>\n",
       "      <td>1</td>\n",
       "      <td>0</td>\n",
       "      <td>0</td>\n",
       "      <td>0</td>\n",
       "      <td>1</td>\n",
       "      <td>0</td>\n",
       "      <td>0</td>\n",
       "    </tr>\n",
       "    <tr>\n",
       "      <th>1</th>\n",
       "      <td>0</td>\n",
       "      <td>0</td>\n",
       "      <td>0</td>\n",
       "      <td>0</td>\n",
       "      <td>0</td>\n",
       "      <td>3</td>\n",
       "      <td>1</td>\n",
       "      <td>0</td>\n",
       "      <td>3</td>\n",
       "      <td>1</td>\n",
       "      <td>1</td>\n",
       "      <td>1</td>\n",
       "      <td>0</td>\n",
       "      <td>0</td>\n",
       "    </tr>\n",
       "    <tr>\n",
       "      <th>2</th>\n",
       "      <td>0</td>\n",
       "      <td>0</td>\n",
       "      <td>0</td>\n",
       "      <td>0</td>\n",
       "      <td>0</td>\n",
       "      <td>1</td>\n",
       "      <td>2</td>\n",
       "      <td>1</td>\n",
       "      <td>3</td>\n",
       "      <td>2</td>\n",
       "      <td>1</td>\n",
       "      <td>1</td>\n",
       "      <td>0</td>\n",
       "      <td>1</td>\n",
       "    </tr>\n",
       "    <tr>\n",
       "      <th>3</th>\n",
       "      <td>0</td>\n",
       "      <td>1</td>\n",
       "      <td>0</td>\n",
       "      <td>1</td>\n",
       "      <td>1</td>\n",
       "      <td>0</td>\n",
       "      <td>4</td>\n",
       "      <td>0</td>\n",
       "      <td>2</td>\n",
       "      <td>4</td>\n",
       "      <td>3</td>\n",
       "      <td>3</td>\n",
       "      <td>0</td>\n",
       "      <td>1</td>\n",
       "    </tr>\n",
       "    <tr>\n",
       "      <th>4</th>\n",
       "      <td>0</td>\n",
       "      <td>0</td>\n",
       "      <td>0</td>\n",
       "      <td>0</td>\n",
       "      <td>1</td>\n",
       "      <td>3</td>\n",
       "      <td>1</td>\n",
       "      <td>0</td>\n",
       "      <td>4</td>\n",
       "      <td>2</td>\n",
       "      <td>2</td>\n",
       "      <td>2</td>\n",
       "      <td>0</td>\n",
       "      <td>1</td>\n",
       "    </tr>\n",
       "    <tr>\n",
       "      <th>...</th>\n",
       "      <td>...</td>\n",
       "      <td>...</td>\n",
       "      <td>...</td>\n",
       "      <td>...</td>\n",
       "      <td>...</td>\n",
       "      <td>...</td>\n",
       "      <td>...</td>\n",
       "      <td>...</td>\n",
       "      <td>...</td>\n",
       "      <td>...</td>\n",
       "      <td>...</td>\n",
       "      <td>...</td>\n",
       "      <td>...</td>\n",
       "      <td>...</td>\n",
       "    </tr>\n",
       "    <tr>\n",
       "      <th>4233</th>\n",
       "      <td>0</td>\n",
       "      <td>1</td>\n",
       "      <td>0</td>\n",
       "      <td>1</td>\n",
       "      <td>0</td>\n",
       "      <td>0</td>\n",
       "      <td>2</td>\n",
       "      <td>1</td>\n",
       "      <td>4</td>\n",
       "      <td>4</td>\n",
       "      <td>3</td>\n",
       "      <td>3</td>\n",
       "      <td>0</td>\n",
       "      <td>1</td>\n",
       "    </tr>\n",
       "    <tr>\n",
       "      <th>4234</th>\n",
       "      <td>0</td>\n",
       "      <td>0</td>\n",
       "      <td>0</td>\n",
       "      <td>0</td>\n",
       "      <td>1</td>\n",
       "      <td>0</td>\n",
       "      <td>2</td>\n",
       "      <td>1</td>\n",
       "      <td>1</td>\n",
       "      <td>2</td>\n",
       "      <td>1</td>\n",
       "      <td>0</td>\n",
       "      <td>0</td>\n",
       "      <td>1</td>\n",
       "    </tr>\n",
       "    <tr>\n",
       "      <th>4235</th>\n",
       "      <td>0</td>\n",
       "      <td>0</td>\n",
       "      <td>0</td>\n",
       "      <td>0</td>\n",
       "      <td>0</td>\n",
       "      <td>3</td>\n",
       "      <td>2</td>\n",
       "      <td>0</td>\n",
       "      <td>3</td>\n",
       "      <td>2</td>\n",
       "      <td>0</td>\n",
       "      <td>3</td>\n",
       "      <td>0</td>\n",
       "      <td>1</td>\n",
       "    </tr>\n",
       "    <tr>\n",
       "      <th>4236</th>\n",
       "      <td>0</td>\n",
       "      <td>0</td>\n",
       "      <td>0</td>\n",
       "      <td>0</td>\n",
       "      <td>0</td>\n",
       "      <td>3</td>\n",
       "      <td>1</td>\n",
       "      <td>0</td>\n",
       "      <td>1</td>\n",
       "      <td>2</td>\n",
       "      <td>2</td>\n",
       "      <td>0</td>\n",
       "      <td>0</td>\n",
       "      <td>1</td>\n",
       "    </tr>\n",
       "    <tr>\n",
       "      <th>4237</th>\n",
       "      <td>0</td>\n",
       "      <td>0</td>\n",
       "      <td>0</td>\n",
       "      <td>0</td>\n",
       "      <td>0</td>\n",
       "      <td>2</td>\n",
       "      <td>2</td>\n",
       "      <td>0</td>\n",
       "      <td>3</td>\n",
       "      <td>3</td>\n",
       "      <td>2</td>\n",
       "      <td>3</td>\n",
       "      <td>0</td>\n",
       "      <td>0</td>\n",
       "    </tr>\n",
       "  </tbody>\n",
       "</table>\n",
       "<p>4238 rows × 14 columns</p>\n",
       "</div>"
      ],
      "text/plain": [
       "      prevalentStroke  prevalentHyp  diabetes  TenYearCHD  \\\n",
       "0                   0             0         0           0   \n",
       "1                   0             0         0           0   \n",
       "2                   0             0         0           0   \n",
       "3                   0             1         0           1   \n",
       "4                   0             0         0           0   \n",
       "...               ...           ...       ...         ...   \n",
       "4233                0             1         0           1   \n",
       "4234                0             0         0           0   \n",
       "4235                0             0         0           0   \n",
       "4236                0             0         0           0   \n",
       "4237                0             0         0           0   \n",
       "\n",
       "      CategoricalcigsPerDay_encode  CategoricalheartRate_encode  \\\n",
       "0                                0                            2   \n",
       "1                                0                            3   \n",
       "2                                0                            1   \n",
       "3                                1                            0   \n",
       "4                                1                            3   \n",
       "...                            ...                          ...   \n",
       "4233                             0                            0   \n",
       "4234                             1                            0   \n",
       "4235                             0                            3   \n",
       "4236                             0                            3   \n",
       "4237                             0                            2   \n",
       "\n",
       "      Categoricalage_encode  sex_encode  CategoricaltotChol_encode  \\\n",
       "0                         0           1                          0   \n",
       "1                         1           0                          3   \n",
       "2                         2           1                          3   \n",
       "3                         4           0                          2   \n",
       "4                         1           0                          4   \n",
       "...                     ...         ...                        ...   \n",
       "4233                      2           1                          4   \n",
       "4234                      2           1                          1   \n",
       "4235                      2           0                          3   \n",
       "4236                      1           0                          1   \n",
       "4237                      2           0                          3   \n",
       "\n",
       "      CategoricalsysBP_encode  CategoricaldiaBP_encode  \\\n",
       "0                           0                        0   \n",
       "1                           1                        1   \n",
       "2                           2                        1   \n",
       "3                           4                        3   \n",
       "4                           2                        2   \n",
       "...                       ...                      ...   \n",
       "4233                        4                        3   \n",
       "4234                        2                        1   \n",
       "4235                        2                        0   \n",
       "4236                        2                        2   \n",
       "4237                        3                        2   \n",
       "\n",
       "      Categoricalglucose_encode  BPMeds_encode  currentSmoker_encode  \n",
       "0                             1              0                     0  \n",
       "1                             1              0                     0  \n",
       "2                             1              0                     1  \n",
       "3                             3              0                     1  \n",
       "4                             2              0                     1  \n",
       "...                         ...            ...                   ...  \n",
       "4233                          3              0                     1  \n",
       "4234                          0              0                     1  \n",
       "4235                          3              0                     1  \n",
       "4236                          0              0                     1  \n",
       "4237                          3              0                     0  \n",
       "\n",
       "[4238 rows x 14 columns]"
      ]
     },
     "execution_count": 231,
     "metadata": {},
     "output_type": "execute_result"
    }
   ],
   "source": [
    "df_cleanedheart"
   ]
  },
  {
   "cell_type": "markdown",
   "metadata": {},
   "source": [
    "# Selecting KBest"
   ]
  },
  {
   "cell_type": "code",
   "execution_count": 232,
   "metadata": {},
   "outputs": [
    {
     "data": {
      "text/plain": [
       "(array([  6.85609935,  52.69449485,  44.11972329,   6.67652535,\n",
       "          1.30251003, 125.47051545,  20.12101139,  15.4198818 ,\n",
       "         98.66525002,  38.82954335,   8.80112551,  25.4075736 ,\n",
       "          0.77857049]),\n",
       " array([8.83391861e-03, 3.89681854e-13, 3.08892783e-11, 9.76908739e-03,\n",
       "        2.53755247e-01, 4.01511549e-29, 7.26936774e-06, 8.60778752e-05,\n",
       "        2.99003148e-23, 4.62475164e-10, 3.01044770e-03, 4.64092536e-07,\n",
       "        3.77578693e-01]))"
      ]
     },
     "execution_count": 232,
     "metadata": {},
     "output_type": "execute_result"
    }
   ],
   "source": [
    "from sklearn.feature_selection import SelectKBest\n",
    "from sklearn.feature_selection import chi2\n",
    "f_score=chi2(X_train,y_train)\n",
    "f_score\n",
    "#F-score,2nd one are the P-values the smaller the P-value the more significant or high feature priority"
   ]
  },
  {
   "cell_type": "code",
   "execution_count": 233,
   "metadata": {},
   "outputs": [
    {
     "data": {
      "text/plain": [
       "array([8.83391861e-03, 3.89681854e-13, 3.08892783e-11, 9.76908739e-03,\n",
       "       2.53755247e-01, 4.01511549e-29, 7.26936774e-06, 8.60778752e-05,\n",
       "       2.99003148e-23, 4.62475164e-10, 3.01044770e-03, 4.64092536e-07,\n",
       "       3.77578693e-01])"
      ]
     },
     "execution_count": 233,
     "metadata": {},
     "output_type": "execute_result"
    }
   ],
   "source": [
    "pvalues=f_score[1]\n",
    "pvalues"
   ]
  },
  {
   "cell_type": "code",
   "execution_count": 234,
   "metadata": {},
   "outputs": [
    {
     "data": {
      "text/plain": [
       "Categoricalage_encode           4.015115e-29\n",
       "CategoricalsysBP_encode         2.990031e-23\n",
       "prevalentHyp                    3.896819e-13\n",
       "diabetes                        3.088928e-11\n",
       "CategoricaldiaBP_encode         4.624752e-10\n",
       "BPMeds_encode                   4.640925e-07\n",
       "sex_encode                      7.269368e-06\n",
       "CategoricaltotChol_encode       8.607788e-05\n",
       "Categoricalglucose_encode       3.010448e-03\n",
       "prevalentStroke                 8.833919e-03\n",
       "CategoricalcigsPerDay_encode    9.769087e-03\n",
       "CategoricalheartRate_encode     2.537552e-01\n",
       "currentSmoker_encode            3.775787e-01\n",
       "dtype: float64"
      ]
     },
     "execution_count": 234,
     "metadata": {},
     "output_type": "execute_result"
    }
   ],
   "source": [
    "pvalues=pd.Series(f_score[1])\n",
    "pvalues.index=X_train.columns # display with columns at begining\n",
    "pvalues.sort_values(ascending=True)"
   ]
  },
  {
   "cell_type": "code",
   "execution_count": 235,
   "metadata": {},
   "outputs": [
    {
     "data": {
      "text/plain": [
       "Index(['prevalentStroke', 'prevalentHyp', 'diabetes',\n",
       "       'CategoricalcigsPerDay_encode', 'CategoricalheartRate_encode',\n",
       "       'Categoricalage_encode', 'sex_encode', 'CategoricaltotChol_encode',\n",
       "       'CategoricalsysBP_encode', 'CategoricaldiaBP_encode',\n",
       "       'Categoricalglucose_encode', 'BPMeds_encode', 'currentSmoker_encode'],\n",
       "      dtype='object')"
      ]
     },
     "execution_count": 235,
     "metadata": {},
     "output_type": "execute_result"
    }
   ],
   "source": [
    "X_train.columns"
   ]
  },
  {
   "cell_type": "code",
   "execution_count": 236,
   "metadata": {},
   "outputs": [
    {
     "data": {
      "text/html": [
       "<div>\n",
       "<style scoped>\n",
       "    .dataframe tbody tr th:only-of-type {\n",
       "        vertical-align: middle;\n",
       "    }\n",
       "\n",
       "    .dataframe tbody tr th {\n",
       "        vertical-align: top;\n",
       "    }\n",
       "\n",
       "    .dataframe thead th {\n",
       "        text-align: right;\n",
       "    }\n",
       "</style>\n",
       "<table border=\"1\" class=\"dataframe\">\n",
       "  <thead>\n",
       "    <tr style=\"text-align: right;\">\n",
       "      <th></th>\n",
       "      <th>prevalentStroke</th>\n",
       "      <th>prevalentHyp</th>\n",
       "      <th>diabetes</th>\n",
       "      <th>CategoricalcigsPerDay_encode</th>\n",
       "      <th>CategoricalheartRate_encode</th>\n",
       "      <th>Categoricalage_encode</th>\n",
       "      <th>sex_encode</th>\n",
       "      <th>CategoricaltotChol_encode</th>\n",
       "      <th>CategoricalsysBP_encode</th>\n",
       "      <th>CategoricaldiaBP_encode</th>\n",
       "      <th>Categoricalglucose_encode</th>\n",
       "      <th>BPMeds_encode</th>\n",
       "      <th>currentSmoker_encode</th>\n",
       "    </tr>\n",
       "  </thead>\n",
       "  <tbody>\n",
       "  </tbody>\n",
       "</table>\n",
       "</div>"
      ],
      "text/plain": [
       "Empty DataFrame\n",
       "Columns: [prevalentStroke, prevalentHyp, diabetes, CategoricalcigsPerDay_encode, CategoricalheartRate_encode, Categoricalage_encode, sex_encode, CategoricaltotChol_encode, CategoricalsysBP_encode, CategoricaldiaBP_encode, Categoricalglucose_encode, BPMeds_encode, currentSmoker_encode]\n",
       "Index: []"
      ]
     },
     "execution_count": 236,
     "metadata": {},
     "output_type": "execute_result"
    }
   ],
   "source": [
    "X_train.head(0)"
   ]
  },
  {
   "cell_type": "code",
   "execution_count": 237,
   "metadata": {},
   "outputs": [
    {
     "name": "stdout",
     "output_type": "stream",
     "text": [
      " prevalentStroke: 6.856099\n",
      " prevalentHyp: 52.694495\n",
      " diabetes: 44.119723\n",
      " CategoricalcigsPerDay_encode: 6.676525\n",
      " CategoricalheartRate_encode: 1.302510\n",
      " Categoricalage_encode: 125.470515\n",
      " sex_encode: 20.121011\n",
      " CategoricaltotChol_encode: 15.419882\n",
      " CategoricalsysBP_encode: 98.665250\n",
      " CategoricaldiaBP_encode: 38.829543\n",
      " Categoricalglucose_encode: 8.801126\n",
      " BPMeds_encode: 25.407574\n",
      " currentSmoker_encode: 0.778570\n"
     ]
    }
   ],
   "source": [
    "from sklearn.feature_selection import SelectKBest\n",
    "predictors = X_train.head(0)\n",
    "selector = SelectKBest(chi2, k='all') #k='all'\n",
    "sf_fit=selector.fit(X_train,y_train)\n",
    "#print feature scores\n",
    "for i in range(len(sf_fit.scores_)):\n",
    "    print(' %s: %f' % (X.columns[i],sf_fit.scores_[i]))"
   ]
  },
  {
   "cell_type": "code",
   "execution_count": 238,
   "metadata": {},
   "outputs": [
    {
     "name": "stderr",
     "output_type": "stream",
     "text": [
      "C:\\ProgramData\\Anaconda3\\lib\\site-packages\\seaborn\\_decorators.py:36: FutureWarning: Pass the following variables as keyword args: x, y. From version 0.12, the only valid positional argument will be `data`, and passing other arguments without an explicit keyword will result in an error or misinterpretation.\n",
      "  warnings.warn(\n"
     ]
    },
    {
     "data": {
      "text/plain": [
       "<function matplotlib.pyplot.show(close=None, block=None)>"
      ]
     },
     "execution_count": 238,
     "metadata": {},
     "output_type": "execute_result"
    },
    {
     "data": {
      "image/png": "[encoded data removed]",
      "text/plain": [
       "<Figure size 432x288 with 1 Axes>"
      ]
     },
     "metadata": {
      "needs_background": "light"
     },
     "output_type": "display_data"
    }
   ],
   "source": [
    "datset=pd.DataFrame()\n",
    "datset['feature']=X.columns[range(len(sf_fit.scores_))]\n",
    "datset['scores']=sf_fit.scores_\n",
    "datset=datset.sort_values(by='scores',ascending=False)\n",
    "sns.barplot(datset['scores'],datset['feature'],color='turquoise')\n",
    "#sns.set_style('whitegrid')\n",
    "plt.xlabel('Scores',fontsize=18)\n",
    "plt.ylabel('Categorical Feature', fontsize=18)\n",
    "plt.show"
   ]
  },
  {
   "cell_type": "code",
   "execution_count": 239,
   "metadata": {},
   "outputs": [
    {
     "data": {
      "text/plain": [
       "Categoricalage_encode           125.470515\n",
       "CategoricalsysBP_encode          98.665250\n",
       "prevalentHyp                     52.694495\n",
       "diabetes                         44.119723\n",
       "CategoricaldiaBP_encode          38.829543\n",
       "BPMeds_encode                    25.407574\n",
       "sex_encode                       20.121011\n",
       "CategoricaltotChol_encode        15.419882\n",
       "Categoricalglucose_encode         8.801126\n",
       "prevalentStroke                   6.856099\n",
       "CategoricalcigsPerDay_encode      6.676525\n",
       "CategoricalheartRate_encode       1.302510\n",
       "currentSmoker_encode              0.778570\n",
       "dtype: float64"
      ]
     },
     "execution_count": 239,
     "metadata": {},
     "output_type": "execute_result"
    }
   ],
   "source": [
    "fscore=pd.Series(f_score[0])\n",
    "fscore.index=X_train.columns\n",
    "fscr=fscore.sort_values(ascending=False)\n",
    "fscr"
   ]
  },
  {
   "cell_type": "code",
   "execution_count": 240,
   "metadata": {},
   "outputs": [
    {
     "data": {
      "text/plain": [
       "Index(['prevalentHyp', 'diabetes', 'Categoricalage_encode',\n",
       "       'CategoricalsysBP_encode', 'CategoricaldiaBP_encode', 'BPMeds_encode'],\n",
       "      dtype='object')"
      ]
     },
     "execution_count": 240,
     "metadata": {},
     "output_type": "execute_result"
    }
   ],
   "source": [
    "best=SelectKBest(chi2,k=6).fit(X_train,y_train) #use k=6\n",
    "X_train.columns[best.get_support()]\n"
   ]
  },
  {
   "cell_type": "code",
   "execution_count": 241,
   "metadata": {},
   "outputs": [],
   "source": [
    "X_train=best.transform(X_train) #remove other features\n",
    "X_train=best.transform(X_test)"
   ]
  },
  {
   "cell_type": "code",
   "execution_count": 242,
   "metadata": {},
   "outputs": [
    {
     "data": {
      "text/html": [
       "<div>\n",
       "<style scoped>\n",
       "    .dataframe tbody tr th:only-of-type {\n",
       "        vertical-align: middle;\n",
       "    }\n",
       "\n",
       "    .dataframe tbody tr th {\n",
       "        vertical-align: top;\n",
       "    }\n",
       "\n",
       "    .dataframe thead th {\n",
       "        text-align: right;\n",
       "    }\n",
       "</style>\n",
       "<table border=\"1\" class=\"dataframe\">\n",
       "  <thead>\n",
       "    <tr style=\"text-align: right;\">\n",
       "      <th></th>\n",
       "      <th>smoker_0</th>\n",
       "      <th>smoker_1</th>\n",
       "    </tr>\n",
       "  </thead>\n",
       "  <tbody>\n",
       "    <tr>\n",
       "      <th>0</th>\n",
       "      <td>1</td>\n",
       "      <td>0</td>\n",
       "    </tr>\n",
       "    <tr>\n",
       "      <th>1</th>\n",
       "      <td>1</td>\n",
       "      <td>0</td>\n",
       "    </tr>\n",
       "    <tr>\n",
       "      <th>2</th>\n",
       "      <td>0</td>\n",
       "      <td>1</td>\n",
       "    </tr>\n",
       "    <tr>\n",
       "      <th>3</th>\n",
       "      <td>0</td>\n",
       "      <td>1</td>\n",
       "    </tr>\n",
       "    <tr>\n",
       "      <th>4</th>\n",
       "      <td>0</td>\n",
       "      <td>1</td>\n",
       "    </tr>\n",
       "    <tr>\n",
       "      <th>...</th>\n",
       "      <td>...</td>\n",
       "      <td>...</td>\n",
       "    </tr>\n",
       "    <tr>\n",
       "      <th>4233</th>\n",
       "      <td>0</td>\n",
       "      <td>1</td>\n",
       "    </tr>\n",
       "    <tr>\n",
       "      <th>4234</th>\n",
       "      <td>0</td>\n",
       "      <td>1</td>\n",
       "    </tr>\n",
       "    <tr>\n",
       "      <th>4235</th>\n",
       "      <td>0</td>\n",
       "      <td>1</td>\n",
       "    </tr>\n",
       "    <tr>\n",
       "      <th>4236</th>\n",
       "      <td>0</td>\n",
       "      <td>1</td>\n",
       "    </tr>\n",
       "    <tr>\n",
       "      <th>4237</th>\n",
       "      <td>1</td>\n",
       "      <td>0</td>\n",
       "    </tr>\n",
       "  </tbody>\n",
       "</table>\n",
       "<p>4238 rows × 2 columns</p>\n",
       "</div>"
      ],
      "text/plain": [
       "      smoker_0  smoker_1\n",
       "0            1         0\n",
       "1            1         0\n",
       "2            0         1\n",
       "3            0         1\n",
       "4            0         1\n",
       "...        ...       ...\n",
       "4233         0         1\n",
       "4234         0         1\n",
       "4235         0         1\n",
       "4236         0         1\n",
       "4237         1         0\n",
       "\n",
       "[4238 rows x 2 columns]"
      ]
     },
     "execution_count": 242,
     "metadata": {},
     "output_type": "execute_result"
    }
   ],
   "source": [
    "pd.get_dummies(df_cleanedheart['currentSmoker_encode'],prefix='smoker') # onehot encoding"
   ]
  },
  {
   "cell_type": "code",
   "execution_count": 243,
   "metadata": {},
   "outputs": [
    {
     "data": {
      "text/html": [
       "<div>\n",
       "<style scoped>\n",
       "    .dataframe tbody tr th:only-of-type {\n",
       "        vertical-align: middle;\n",
       "    }\n",
       "\n",
       "    .dataframe tbody tr th {\n",
       "        vertical-align: top;\n",
       "    }\n",
       "\n",
       "    .dataframe thead th {\n",
       "        text-align: right;\n",
       "    }\n",
       "</style>\n",
       "<table border=\"1\" class=\"dataframe\">\n",
       "  <thead>\n",
       "    <tr style=\"text-align: right;\">\n",
       "      <th></th>\n",
       "      <th>gender_0</th>\n",
       "      <th>gender_1</th>\n",
       "    </tr>\n",
       "  </thead>\n",
       "  <tbody>\n",
       "    <tr>\n",
       "      <th>0</th>\n",
       "      <td>0</td>\n",
       "      <td>1</td>\n",
       "    </tr>\n",
       "    <tr>\n",
       "      <th>1</th>\n",
       "      <td>1</td>\n",
       "      <td>0</td>\n",
       "    </tr>\n",
       "    <tr>\n",
       "      <th>2</th>\n",
       "      <td>0</td>\n",
       "      <td>1</td>\n",
       "    </tr>\n",
       "    <tr>\n",
       "      <th>3</th>\n",
       "      <td>1</td>\n",
       "      <td>0</td>\n",
       "    </tr>\n",
       "    <tr>\n",
       "      <th>4</th>\n",
       "      <td>1</td>\n",
       "      <td>0</td>\n",
       "    </tr>\n",
       "    <tr>\n",
       "      <th>...</th>\n",
       "      <td>...</td>\n",
       "      <td>...</td>\n",
       "    </tr>\n",
       "    <tr>\n",
       "      <th>4233</th>\n",
       "      <td>0</td>\n",
       "      <td>1</td>\n",
       "    </tr>\n",
       "    <tr>\n",
       "      <th>4234</th>\n",
       "      <td>0</td>\n",
       "      <td>1</td>\n",
       "    </tr>\n",
       "    <tr>\n",
       "      <th>4235</th>\n",
       "      <td>1</td>\n",
       "      <td>0</td>\n",
       "    </tr>\n",
       "    <tr>\n",
       "      <th>4236</th>\n",
       "      <td>1</td>\n",
       "      <td>0</td>\n",
       "    </tr>\n",
       "    <tr>\n",
       "      <th>4237</th>\n",
       "      <td>1</td>\n",
       "      <td>0</td>\n",
       "    </tr>\n",
       "  </tbody>\n",
       "</table>\n",
       "<p>4238 rows × 2 columns</p>\n",
       "</div>"
      ],
      "text/plain": [
       "      gender_0  gender_1\n",
       "0            0         1\n",
       "1            1         0\n",
       "2            0         1\n",
       "3            1         0\n",
       "4            1         0\n",
       "...        ...       ...\n",
       "4233         0         1\n",
       "4234         0         1\n",
       "4235         1         0\n",
       "4236         1         0\n",
       "4237         1         0\n",
       "\n",
       "[4238 rows x 2 columns]"
      ]
     },
     "execution_count": 243,
     "metadata": {},
     "output_type": "execute_result"
    }
   ],
   "source": [
    "pd.get_dummies(df_cleanedheart['sex_encode'],prefix='gender') # onehot encoding"
   ]
  },
  {
   "cell_type": "code",
   "execution_count": 244,
   "metadata": {},
   "outputs": [
    {
     "data": {
      "text/html": [
       "<div>\n",
       "<style scoped>\n",
       "    .dataframe tbody tr th:only-of-type {\n",
       "        vertical-align: middle;\n",
       "    }\n",
       "\n",
       "    .dataframe tbody tr th {\n",
       "        vertical-align: top;\n",
       "    }\n",
       "\n",
       "    .dataframe thead th {\n",
       "        text-align: right;\n",
       "    }\n",
       "</style>\n",
       "<table border=\"1\" class=\"dataframe\">\n",
       "  <thead>\n",
       "    <tr style=\"text-align: right;\">\n",
       "      <th></th>\n",
       "      <th>BPMeds_0</th>\n",
       "      <th>BPMeds_1</th>\n",
       "    </tr>\n",
       "  </thead>\n",
       "  <tbody>\n",
       "    <tr>\n",
       "      <th>0</th>\n",
       "      <td>1</td>\n",
       "      <td>0</td>\n",
       "    </tr>\n",
       "    <tr>\n",
       "      <th>1</th>\n",
       "      <td>1</td>\n",
       "      <td>0</td>\n",
       "    </tr>\n",
       "    <tr>\n",
       "      <th>2</th>\n",
       "      <td>1</td>\n",
       "      <td>0</td>\n",
       "    </tr>\n",
       "    <tr>\n",
       "      <th>3</th>\n",
       "      <td>1</td>\n",
       "      <td>0</td>\n",
       "    </tr>\n",
       "    <tr>\n",
       "      <th>4</th>\n",
       "      <td>1</td>\n",
       "      <td>0</td>\n",
       "    </tr>\n",
       "    <tr>\n",
       "      <th>...</th>\n",
       "      <td>...</td>\n",
       "      <td>...</td>\n",
       "    </tr>\n",
       "    <tr>\n",
       "      <th>4233</th>\n",
       "      <td>1</td>\n",
       "      <td>0</td>\n",
       "    </tr>\n",
       "    <tr>\n",
       "      <th>4234</th>\n",
       "      <td>1</td>\n",
       "      <td>0</td>\n",
       "    </tr>\n",
       "    <tr>\n",
       "      <th>4235</th>\n",
       "      <td>1</td>\n",
       "      <td>0</td>\n",
       "    </tr>\n",
       "    <tr>\n",
       "      <th>4236</th>\n",
       "      <td>1</td>\n",
       "      <td>0</td>\n",
       "    </tr>\n",
       "    <tr>\n",
       "      <th>4237</th>\n",
       "      <td>1</td>\n",
       "      <td>0</td>\n",
       "    </tr>\n",
       "  </tbody>\n",
       "</table>\n",
       "<p>4238 rows × 2 columns</p>\n",
       "</div>"
      ],
      "text/plain": [
       "      BPMeds_0  BPMeds_1\n",
       "0            1         0\n",
       "1            1         0\n",
       "2            1         0\n",
       "3            1         0\n",
       "4            1         0\n",
       "...        ...       ...\n",
       "4233         1         0\n",
       "4234         1         0\n",
       "4235         1         0\n",
       "4236         1         0\n",
       "4237         1         0\n",
       "\n",
       "[4238 rows x 2 columns]"
      ]
     },
     "execution_count": 244,
     "metadata": {},
     "output_type": "execute_result"
    }
   ],
   "source": [
    "pd.get_dummies(df_cleanedheart['BPMeds_encode'],prefix='BPMeds') # onehot encoding"
   ]
  },
  {
   "cell_type": "code",
   "execution_count": 245,
   "metadata": {},
   "outputs": [],
   "source": [
    "df_cleanedheart = pd.concat([df_cleanedheart,pd.get_dummies(df_cleanedheart['sex_encode'], prefix='gender')],axis=1)#one hot encoding"
   ]
  },
  {
   "cell_type": "code",
   "execution_count": 246,
   "metadata": {},
   "outputs": [],
   "source": [
    "df_cleanedheart = pd.concat([df_cleanedheart,pd.get_dummies(df_cleanedheart['BPMeds_encode'], prefix='BPMeds')],axis=1)#one hot encoding"
   ]
  },
  {
   "cell_type": "code",
   "execution_count": 247,
   "metadata": {},
   "outputs": [],
   "source": [
    "df_cleanedheart = pd.concat([df_cleanedheart,pd.get_dummies(df_cleanedheart['currentSmoker_encode'], prefix='smoker')],axis=1)#one hot encoding"
   ]
  },
  {
   "cell_type": "code",
   "execution_count": 248,
   "metadata": {},
   "outputs": [
    {
     "data": {
      "text/html": [
       "<div>\n",
       "<style scoped>\n",
       "    .dataframe tbody tr th:only-of-type {\n",
       "        vertical-align: middle;\n",
       "    }\n",
       "\n",
       "    .dataframe tbody tr th {\n",
       "        vertical-align: top;\n",
       "    }\n",
       "\n",
       "    .dataframe thead th {\n",
       "        text-align: right;\n",
       "    }\n",
       "</style>\n",
       "<table border=\"1\" class=\"dataframe\">\n",
       "  <thead>\n",
       "    <tr style=\"text-align: right;\">\n",
       "      <th></th>\n",
       "      <th>prevalentStroke</th>\n",
       "      <th>prevalentHyp</th>\n",
       "      <th>diabetes</th>\n",
       "      <th>TenYearCHD</th>\n",
       "      <th>CategoricalcigsPerDay_encode</th>\n",
       "      <th>CategoricalheartRate_encode</th>\n",
       "      <th>Categoricalage_encode</th>\n",
       "      <th>sex_encode</th>\n",
       "      <th>CategoricaltotChol_encode</th>\n",
       "      <th>CategoricalsysBP_encode</th>\n",
       "      <th>CategoricaldiaBP_encode</th>\n",
       "      <th>Categoricalglucose_encode</th>\n",
       "      <th>BPMeds_encode</th>\n",
       "      <th>currentSmoker_encode</th>\n",
       "      <th>gender_0</th>\n",
       "      <th>gender_1</th>\n",
       "      <th>BPMeds_0</th>\n",
       "      <th>BPMeds_1</th>\n",
       "      <th>smoker_0</th>\n",
       "      <th>smoker_1</th>\n",
       "    </tr>\n",
       "  </thead>\n",
       "  <tbody>\n",
       "    <tr>\n",
       "      <th>0</th>\n",
       "      <td>0</td>\n",
       "      <td>0</td>\n",
       "      <td>0</td>\n",
       "      <td>0</td>\n",
       "      <td>0</td>\n",
       "      <td>2</td>\n",
       "      <td>0</td>\n",
       "      <td>1</td>\n",
       "      <td>0</td>\n",
       "      <td>0</td>\n",
       "      <td>0</td>\n",
       "      <td>1</td>\n",
       "      <td>0</td>\n",
       "      <td>0</td>\n",
       "      <td>0</td>\n",
       "      <td>1</td>\n",
       "      <td>1</td>\n",
       "      <td>0</td>\n",
       "      <td>1</td>\n",
       "      <td>0</td>\n",
       "    </tr>\n",
       "    <tr>\n",
       "      <th>1</th>\n",
       "      <td>0</td>\n",
       "      <td>0</td>\n",
       "      <td>0</td>\n",
       "      <td>0</td>\n",
       "      <td>0</td>\n",
       "      <td>3</td>\n",
       "      <td>1</td>\n",
       "      <td>0</td>\n",
       "      <td>3</td>\n",
       "      <td>1</td>\n",
       "      <td>1</td>\n",
       "      <td>1</td>\n",
       "      <td>0</td>\n",
       "      <td>0</td>\n",
       "      <td>1</td>\n",
       "      <td>0</td>\n",
       "      <td>1</td>\n",
       "      <td>0</td>\n",
       "      <td>1</td>\n",
       "      <td>0</td>\n",
       "    </tr>\n",
       "    <tr>\n",
       "      <th>2</th>\n",
       "      <td>0</td>\n",
       "      <td>0</td>\n",
       "      <td>0</td>\n",
       "      <td>0</td>\n",
       "      <td>0</td>\n",
       "      <td>1</td>\n",
       "      <td>2</td>\n",
       "      <td>1</td>\n",
       "      <td>3</td>\n",
       "      <td>2</td>\n",
       "      <td>1</td>\n",
       "      <td>1</td>\n",
       "      <td>0</td>\n",
       "      <td>1</td>\n",
       "      <td>0</td>\n",
       "      <td>1</td>\n",
       "      <td>1</td>\n",
       "      <td>0</td>\n",
       "      <td>0</td>\n",
       "      <td>1</td>\n",
       "    </tr>\n",
       "    <tr>\n",
       "      <th>3</th>\n",
       "      <td>0</td>\n",
       "      <td>1</td>\n",
       "      <td>0</td>\n",
       "      <td>1</td>\n",
       "      <td>1</td>\n",
       "      <td>0</td>\n",
       "      <td>4</td>\n",
       "      <td>0</td>\n",
       "      <td>2</td>\n",
       "      <td>4</td>\n",
       "      <td>3</td>\n",
       "      <td>3</td>\n",
       "      <td>0</td>\n",
       "      <td>1</td>\n",
       "      <td>1</td>\n",
       "      <td>0</td>\n",
       "      <td>1</td>\n",
       "      <td>0</td>\n",
       "      <td>0</td>\n",
       "      <td>1</td>\n",
       "    </tr>\n",
       "    <tr>\n",
       "      <th>4</th>\n",
       "      <td>0</td>\n",
       "      <td>0</td>\n",
       "      <td>0</td>\n",
       "      <td>0</td>\n",
       "      <td>1</td>\n",
       "      <td>3</td>\n",
       "      <td>1</td>\n",
       "      <td>0</td>\n",
       "      <td>4</td>\n",
       "      <td>2</td>\n",
       "      <td>2</td>\n",
       "      <td>2</td>\n",
       "      <td>0</td>\n",
       "      <td>1</td>\n",
       "      <td>1</td>\n",
       "      <td>0</td>\n",
       "      <td>1</td>\n",
       "      <td>0</td>\n",
       "      <td>0</td>\n",
       "      <td>1</td>\n",
       "    </tr>\n",
       "    <tr>\n",
       "      <th>...</th>\n",
       "      <td>...</td>\n",
       "      <td>...</td>\n",
       "      <td>...</td>\n",
       "      <td>...</td>\n",
       "      <td>...</td>\n",
       "      <td>...</td>\n",
       "      <td>...</td>\n",
       "      <td>...</td>\n",
       "      <td>...</td>\n",
       "      <td>...</td>\n",
       "      <td>...</td>\n",
       "      <td>...</td>\n",
       "      <td>...</td>\n",
       "      <td>...</td>\n",
       "      <td>...</td>\n",
       "      <td>...</td>\n",
       "      <td>...</td>\n",
       "      <td>...</td>\n",
       "      <td>...</td>\n",
       "      <td>...</td>\n",
       "    </tr>\n",
       "    <tr>\n",
       "      <th>4233</th>\n",
       "      <td>0</td>\n",
       "      <td>1</td>\n",
       "      <td>0</td>\n",
       "      <td>1</td>\n",
       "      <td>0</td>\n",
       "      <td>0</td>\n",
       "      <td>2</td>\n",
       "      <td>1</td>\n",
       "      <td>4</td>\n",
       "      <td>4</td>\n",
       "      <td>3</td>\n",
       "      <td>3</td>\n",
       "      <td>0</td>\n",
       "      <td>1</td>\n",
       "      <td>0</td>\n",
       "      <td>1</td>\n",
       "      <td>1</td>\n",
       "      <td>0</td>\n",
       "      <td>0</td>\n",
       "      <td>1</td>\n",
       "    </tr>\n",
       "    <tr>\n",
       "      <th>4234</th>\n",
       "      <td>0</td>\n",
       "      <td>0</td>\n",
       "      <td>0</td>\n",
       "      <td>0</td>\n",
       "      <td>1</td>\n",
       "      <td>0</td>\n",
       "      <td>2</td>\n",
       "      <td>1</td>\n",
       "      <td>1</td>\n",
       "      <td>2</td>\n",
       "      <td>1</td>\n",
       "      <td>0</td>\n",
       "      <td>0</td>\n",
       "      <td>1</td>\n",
       "      <td>0</td>\n",
       "      <td>1</td>\n",
       "      <td>1</td>\n",
       "      <td>0</td>\n",
       "      <td>0</td>\n",
       "      <td>1</td>\n",
       "    </tr>\n",
       "    <tr>\n",
       "      <th>4235</th>\n",
       "      <td>0</td>\n",
       "      <td>0</td>\n",
       "      <td>0</td>\n",
       "      <td>0</td>\n",
       "      <td>0</td>\n",
       "      <td>3</td>\n",
       "      <td>2</td>\n",
       "      <td>0</td>\n",
       "      <td>3</td>\n",
       "      <td>2</td>\n",
       "      <td>0</td>\n",
       "      <td>3</td>\n",
       "      <td>0</td>\n",
       "      <td>1</td>\n",
       "      <td>1</td>\n",
       "      <td>0</td>\n",
       "      <td>1</td>\n",
       "      <td>0</td>\n",
       "      <td>0</td>\n",
       "      <td>1</td>\n",
       "    </tr>\n",
       "    <tr>\n",
       "      <th>4236</th>\n",
       "      <td>0</td>\n",
       "      <td>0</td>\n",
       "      <td>0</td>\n",
       "      <td>0</td>\n",
       "      <td>0</td>\n",
       "      <td>3</td>\n",
       "      <td>1</td>\n",
       "      <td>0</td>\n",
       "      <td>1</td>\n",
       "      <td>2</td>\n",
       "      <td>2</td>\n",
       "      <td>0</td>\n",
       "      <td>0</td>\n",
       "      <td>1</td>\n",
       "      <td>1</td>\n",
       "      <td>0</td>\n",
       "      <td>1</td>\n",
       "      <td>0</td>\n",
       "      <td>0</td>\n",
       "      <td>1</td>\n",
       "    </tr>\n",
       "    <tr>\n",
       "      <th>4237</th>\n",
       "      <td>0</td>\n",
       "      <td>0</td>\n",
       "      <td>0</td>\n",
       "      <td>0</td>\n",
       "      <td>0</td>\n",
       "      <td>2</td>\n",
       "      <td>2</td>\n",
       "      <td>0</td>\n",
       "      <td>3</td>\n",
       "      <td>3</td>\n",
       "      <td>2</td>\n",
       "      <td>3</td>\n",
       "      <td>0</td>\n",
       "      <td>0</td>\n",
       "      <td>1</td>\n",
       "      <td>0</td>\n",
       "      <td>1</td>\n",
       "      <td>0</td>\n",
       "      <td>1</td>\n",
       "      <td>0</td>\n",
       "    </tr>\n",
       "  </tbody>\n",
       "</table>\n",
       "<p>4238 rows × 20 columns</p>\n",
       "</div>"
      ],
      "text/plain": [
       "      prevalentStroke  prevalentHyp  diabetes  TenYearCHD  \\\n",
       "0                   0             0         0           0   \n",
       "1                   0             0         0           0   \n",
       "2                   0             0         0           0   \n",
       "3                   0             1         0           1   \n",
       "4                   0             0         0           0   \n",
       "...               ...           ...       ...         ...   \n",
       "4233                0             1         0           1   \n",
       "4234                0             0         0           0   \n",
       "4235                0             0         0           0   \n",
       "4236                0             0         0           0   \n",
       "4237                0             0         0           0   \n",
       "\n",
       "      CategoricalcigsPerDay_encode  CategoricalheartRate_encode  \\\n",
       "0                                0                            2   \n",
       "1                                0                            3   \n",
       "2                                0                            1   \n",
       "3                                1                            0   \n",
       "4                                1                            3   \n",
       "...                            ...                          ...   \n",
       "4233                             0                            0   \n",
       "4234                             1                            0   \n",
       "4235                             0                            3   \n",
       "4236                             0                            3   \n",
       "4237                             0                            2   \n",
       "\n",
       "      Categoricalage_encode  sex_encode  CategoricaltotChol_encode  \\\n",
       "0                         0           1                          0   \n",
       "1                         1           0                          3   \n",
       "2                         2           1                          3   \n",
       "3                         4           0                          2   \n",
       "4                         1           0                          4   \n",
       "...                     ...         ...                        ...   \n",
       "4233                      2           1                          4   \n",
       "4234                      2           1                          1   \n",
       "4235                      2           0                          3   \n",
       "4236                      1           0                          1   \n",
       "4237                      2           0                          3   \n",
       "\n",
       "      CategoricalsysBP_encode  CategoricaldiaBP_encode  \\\n",
       "0                           0                        0   \n",
       "1                           1                        1   \n",
       "2                           2                        1   \n",
       "3                           4                        3   \n",
       "4                           2                        2   \n",
       "...                       ...                      ...   \n",
       "4233                        4                        3   \n",
       "4234                        2                        1   \n",
       "4235                        2                        0   \n",
       "4236                        2                        2   \n",
       "4237                        3                        2   \n",
       "\n",
       "      Categoricalglucose_encode  BPMeds_encode  currentSmoker_encode  \\\n",
       "0                             1              0                     0   \n",
       "1                             1              0                     0   \n",
       "2                             1              0                     1   \n",
       "3                             3              0                     1   \n",
       "4                             2              0                     1   \n",
       "...                         ...            ...                   ...   \n",
       "4233                          3              0                     1   \n",
       "4234                          0              0                     1   \n",
       "4235                          3              0                     1   \n",
       "4236                          0              0                     1   \n",
       "4237                          3              0                     0   \n",
       "\n",
       "      gender_0  gender_1  BPMeds_0  BPMeds_1  smoker_0  smoker_1  \n",
       "0            0         1         1         0         1         0  \n",
       "1            1         0         1         0         1         0  \n",
       "2            0         1         1         0         0         1  \n",
       "3            1         0         1         0         0         1  \n",
       "4            1         0         1         0         0         1  \n",
       "...        ...       ...       ...       ...       ...       ...  \n",
       "4233         0         1         1         0         0         1  \n",
       "4234         0         1         1         0         0         1  \n",
       "4235         1         0         1         0         0         1  \n",
       "4236         1         0         1         0         0         1  \n",
       "4237         1         0         1         0         1         0  \n",
       "\n",
       "[4238 rows x 20 columns]"
      ]
     },
     "execution_count": 248,
     "metadata": {},
     "output_type": "execute_result"
    }
   ],
   "source": [
    "df_cleanedheart"
   ]
  },
  {
   "cell_type": "code",
   "execution_count": 249,
   "metadata": {},
   "outputs": [
    {
     "data": {
      "text/html": [
       "<div>\n",
       "<style scoped>\n",
       "    .dataframe tbody tr th:only-of-type {\n",
       "        vertical-align: middle;\n",
       "    }\n",
       "\n",
       "    .dataframe tbody tr th {\n",
       "        vertical-align: top;\n",
       "    }\n",
       "\n",
       "    .dataframe thead th {\n",
       "        text-align: right;\n",
       "    }\n",
       "</style>\n",
       "<table border=\"1\" class=\"dataframe\">\n",
       "  <thead>\n",
       "    <tr style=\"text-align: right;\">\n",
       "      <th></th>\n",
       "      <th>prevalentStroke</th>\n",
       "      <th>prevalentHyp</th>\n",
       "      <th>diabetes</th>\n",
       "      <th>TenYearCHD</th>\n",
       "      <th>CategoricalcigsPerDay_encode</th>\n",
       "      <th>CategoricalheartRate_encode</th>\n",
       "      <th>Categoricalage_encode</th>\n",
       "      <th>CategoricaltotChol_encode</th>\n",
       "      <th>CategoricalsysBP_encode</th>\n",
       "      <th>CategoricaldiaBP_encode</th>\n",
       "      <th>Categoricalglucose_encode</th>\n",
       "      <th>gender_0</th>\n",
       "      <th>gender_1</th>\n",
       "      <th>BPMeds_0</th>\n",
       "      <th>BPMeds_1</th>\n",
       "      <th>smoker_0</th>\n",
       "      <th>smoker_1</th>\n",
       "    </tr>\n",
       "  </thead>\n",
       "  <tbody>\n",
       "    <tr>\n",
       "      <th>0</th>\n",
       "      <td>0</td>\n",
       "      <td>0</td>\n",
       "      <td>0</td>\n",
       "      <td>0</td>\n",
       "      <td>0</td>\n",
       "      <td>2</td>\n",
       "      <td>0</td>\n",
       "      <td>0</td>\n",
       "      <td>0</td>\n",
       "      <td>0</td>\n",
       "      <td>1</td>\n",
       "      <td>0</td>\n",
       "      <td>1</td>\n",
       "      <td>1</td>\n",
       "      <td>0</td>\n",
       "      <td>1</td>\n",
       "      <td>0</td>\n",
       "    </tr>\n",
       "    <tr>\n",
       "      <th>1</th>\n",
       "      <td>0</td>\n",
       "      <td>0</td>\n",
       "      <td>0</td>\n",
       "      <td>0</td>\n",
       "      <td>0</td>\n",
       "      <td>3</td>\n",
       "      <td>1</td>\n",
       "      <td>3</td>\n",
       "      <td>1</td>\n",
       "      <td>1</td>\n",
       "      <td>1</td>\n",
       "      <td>1</td>\n",
       "      <td>0</td>\n",
       "      <td>1</td>\n",
       "      <td>0</td>\n",
       "      <td>1</td>\n",
       "      <td>0</td>\n",
       "    </tr>\n",
       "    <tr>\n",
       "      <th>2</th>\n",
       "      <td>0</td>\n",
       "      <td>0</td>\n",
       "      <td>0</td>\n",
       "      <td>0</td>\n",
       "      <td>0</td>\n",
       "      <td>1</td>\n",
       "      <td>2</td>\n",
       "      <td>3</td>\n",
       "      <td>2</td>\n",
       "      <td>1</td>\n",
       "      <td>1</td>\n",
       "      <td>0</td>\n",
       "      <td>1</td>\n",
       "      <td>1</td>\n",
       "      <td>0</td>\n",
       "      <td>0</td>\n",
       "      <td>1</td>\n",
       "    </tr>\n",
       "    <tr>\n",
       "      <th>3</th>\n",
       "      <td>0</td>\n",
       "      <td>1</td>\n",
       "      <td>0</td>\n",
       "      <td>1</td>\n",
       "      <td>1</td>\n",
       "      <td>0</td>\n",
       "      <td>4</td>\n",
       "      <td>2</td>\n",
       "      <td>4</td>\n",
       "      <td>3</td>\n",
       "      <td>3</td>\n",
       "      <td>1</td>\n",
       "      <td>0</td>\n",
       "      <td>1</td>\n",
       "      <td>0</td>\n",
       "      <td>0</td>\n",
       "      <td>1</td>\n",
       "    </tr>\n",
       "    <tr>\n",
       "      <th>4</th>\n",
       "      <td>0</td>\n",
       "      <td>0</td>\n",
       "      <td>0</td>\n",
       "      <td>0</td>\n",
       "      <td>1</td>\n",
       "      <td>3</td>\n",
       "      <td>1</td>\n",
       "      <td>4</td>\n",
       "      <td>2</td>\n",
       "      <td>2</td>\n",
       "      <td>2</td>\n",
       "      <td>1</td>\n",
       "      <td>0</td>\n",
       "      <td>1</td>\n",
       "      <td>0</td>\n",
       "      <td>0</td>\n",
       "      <td>1</td>\n",
       "    </tr>\n",
       "    <tr>\n",
       "      <th>...</th>\n",
       "      <td>...</td>\n",
       "      <td>...</td>\n",
       "      <td>...</td>\n",
       "      <td>...</td>\n",
       "      <td>...</td>\n",
       "      <td>...</td>\n",
       "      <td>...</td>\n",
       "      <td>...</td>\n",
       "      <td>...</td>\n",
       "      <td>...</td>\n",
       "      <td>...</td>\n",
       "      <td>...</td>\n",
       "      <td>...</td>\n",
       "      <td>...</td>\n",
       "      <td>...</td>\n",
       "      <td>...</td>\n",
       "      <td>...</td>\n",
       "    </tr>\n",
       "    <tr>\n",
       "      <th>4233</th>\n",
       "      <td>0</td>\n",
       "      <td>1</td>\n",
       "      <td>0</td>\n",
       "      <td>1</td>\n",
       "      <td>0</td>\n",
       "      <td>0</td>\n",
       "      <td>2</td>\n",
       "      <td>4</td>\n",
       "      <td>4</td>\n",
       "      <td>3</td>\n",
       "      <td>3</td>\n",
       "      <td>0</td>\n",
       "      <td>1</td>\n",
       "      <td>1</td>\n",
       "      <td>0</td>\n",
       "      <td>0</td>\n",
       "      <td>1</td>\n",
       "    </tr>\n",
       "    <tr>\n",
       "      <th>4234</th>\n",
       "      <td>0</td>\n",
       "      <td>0</td>\n",
       "      <td>0</td>\n",
       "      <td>0</td>\n",
       "      <td>1</td>\n",
       "      <td>0</td>\n",
       "      <td>2</td>\n",
       "      <td>1</td>\n",
       "      <td>2</td>\n",
       "      <td>1</td>\n",
       "      <td>0</td>\n",
       "      <td>0</td>\n",
       "      <td>1</td>\n",
       "      <td>1</td>\n",
       "      <td>0</td>\n",
       "      <td>0</td>\n",
       "      <td>1</td>\n",
       "    </tr>\n",
       "    <tr>\n",
       "      <th>4235</th>\n",
       "      <td>0</td>\n",
       "      <td>0</td>\n",
       "      <td>0</td>\n",
       "      <td>0</td>\n",
       "      <td>0</td>\n",
       "      <td>3</td>\n",
       "      <td>2</td>\n",
       "      <td>3</td>\n",
       "      <td>2</td>\n",
       "      <td>0</td>\n",
       "      <td>3</td>\n",
       "      <td>1</td>\n",
       "      <td>0</td>\n",
       "      <td>1</td>\n",
       "      <td>0</td>\n",
       "      <td>0</td>\n",
       "      <td>1</td>\n",
       "    </tr>\n",
       "    <tr>\n",
       "      <th>4236</th>\n",
       "      <td>0</td>\n",
       "      <td>0</td>\n",
       "      <td>0</td>\n",
       "      <td>0</td>\n",
       "      <td>0</td>\n",
       "      <td>3</td>\n",
       "      <td>1</td>\n",
       "      <td>1</td>\n",
       "      <td>2</td>\n",
       "      <td>2</td>\n",
       "      <td>0</td>\n",
       "      <td>1</td>\n",
       "      <td>0</td>\n",
       "      <td>1</td>\n",
       "      <td>0</td>\n",
       "      <td>0</td>\n",
       "      <td>1</td>\n",
       "    </tr>\n",
       "    <tr>\n",
       "      <th>4237</th>\n",
       "      <td>0</td>\n",
       "      <td>0</td>\n",
       "      <td>0</td>\n",
       "      <td>0</td>\n",
       "      <td>0</td>\n",
       "      <td>2</td>\n",
       "      <td>2</td>\n",
       "      <td>3</td>\n",
       "      <td>3</td>\n",
       "      <td>2</td>\n",
       "      <td>3</td>\n",
       "      <td>1</td>\n",
       "      <td>0</td>\n",
       "      <td>1</td>\n",
       "      <td>0</td>\n",
       "      <td>1</td>\n",
       "      <td>0</td>\n",
       "    </tr>\n",
       "  </tbody>\n",
       "</table>\n",
       "<p>4238 rows × 17 columns</p>\n",
       "</div>"
      ],
      "text/plain": [
       "      prevalentStroke  prevalentHyp  diabetes  TenYearCHD  \\\n",
       "0                   0             0         0           0   \n",
       "1                   0             0         0           0   \n",
       "2                   0             0         0           0   \n",
       "3                   0             1         0           1   \n",
       "4                   0             0         0           0   \n",
       "...               ...           ...       ...         ...   \n",
       "4233                0             1         0           1   \n",
       "4234                0             0         0           0   \n",
       "4235                0             0         0           0   \n",
       "4236                0             0         0           0   \n",
       "4237                0             0         0           0   \n",
       "\n",
       "      CategoricalcigsPerDay_encode  CategoricalheartRate_encode  \\\n",
       "0                                0                            2   \n",
       "1                                0                            3   \n",
       "2                                0                            1   \n",
       "3                                1                            0   \n",
       "4                                1                            3   \n",
       "...                            ...                          ...   \n",
       "4233                             0                            0   \n",
       "4234                             1                            0   \n",
       "4235                             0                            3   \n",
       "4236                             0                            3   \n",
       "4237                             0                            2   \n",
       "\n",
       "      Categoricalage_encode  CategoricaltotChol_encode  \\\n",
       "0                         0                          0   \n",
       "1                         1                          3   \n",
       "2                         2                          3   \n",
       "3                         4                          2   \n",
       "4                         1                          4   \n",
       "...                     ...                        ...   \n",
       "4233                      2                          4   \n",
       "4234                      2                          1   \n",
       "4235                      2                          3   \n",
       "4236                      1                          1   \n",
       "4237                      2                          3   \n",
       "\n",
       "      CategoricalsysBP_encode  CategoricaldiaBP_encode  \\\n",
       "0                           0                        0   \n",
       "1                           1                        1   \n",
       "2                           2                        1   \n",
       "3                           4                        3   \n",
       "4                           2                        2   \n",
       "...                       ...                      ...   \n",
       "4233                        4                        3   \n",
       "4234                        2                        1   \n",
       "4235                        2                        0   \n",
       "4236                        2                        2   \n",
       "4237                        3                        2   \n",
       "\n",
       "      Categoricalglucose_encode  gender_0  gender_1  BPMeds_0  BPMeds_1  \\\n",
       "0                             1         0         1         1         0   \n",
       "1                             1         1         0         1         0   \n",
       "2                             1         0         1         1         0   \n",
       "3                             3         1         0         1         0   \n",
       "4                             2         1         0         1         0   \n",
       "...                         ...       ...       ...       ...       ...   \n",
       "4233                          3         0         1         1         0   \n",
       "4234                          0         0         1         1         0   \n",
       "4235                          3         1         0         1         0   \n",
       "4236                          0         1         0         1         0   \n",
       "4237                          3         1         0         1         0   \n",
       "\n",
       "      smoker_0  smoker_1  \n",
       "0            1         0  \n",
       "1            1         0  \n",
       "2            0         1  \n",
       "3            0         1  \n",
       "4            0         1  \n",
       "...        ...       ...  \n",
       "4233         0         1  \n",
       "4234         0         1  \n",
       "4235         0         1  \n",
       "4236         0         1  \n",
       "4237         1         0  \n",
       "\n",
       "[4238 rows x 17 columns]"
      ]
     },
     "execution_count": 249,
     "metadata": {},
     "output_type": "execute_result"
    }
   ],
   "source": [
    "df_cleanedheart.drop(['currentSmoker_encode','sex_encode','BPMeds_encode'],axis=1)#dropping the unwanted columns"
   ]
  },
  {
   "cell_type": "code",
   "execution_count": 250,
   "metadata": {},
   "outputs": [],
   "source": [
    "df_cleanedheart.to_csv(\"C:\\\\Users\\\\Jenisa correia\\\\Downloads\\\\df_cleanedheart2.csv\")#saving the cleaned file to another loaction"
   ]
  },
  {
   "cell_type": "markdown",
   "metadata": {},
   "source": [
    "# Random Forest Classifier Algorithm"
   ]
  },
  {
   "cell_type": "markdown",
   "metadata": {},
   "source": [
    "#We import the following libraries:"
   ]
  },
  {
   "cell_type": "code",
   "execution_count": 251,
   "metadata": {},
   "outputs": [],
   "source": [
    "from sklearn.pipeline import make_pipeline\n",
    "from sklearn.preprocessing import StandardScaler\n",
    "from sklearn.svm import SVC\n",
    "from sklearn.model_selection import cross_val_score\n",
    "from sklearn.ensemble import RandomForestClassifier\n",
    "import pandas as pd\n",
    "import numpy as np"
   ]
  },
  {
   "cell_type": "code",
   "execution_count": 252,
   "metadata": {},
   "outputs": [
    {
     "name": "stdout",
     "output_type": "stream",
     "text": [
      "Cross Validation accuracy scores: [0.83838384 0.83838384 0.83838384 0.83838384 0.83838384 0.83838384\n",
      " 0.84121622 0.84121622 0.83783784 0.83783784]\n",
      "Cross Validation accuracy: 0.839 +/- 0.001\n"
     ]
    }
   ],
   "source": [
    "#create an instance of pipeline\n",
    "pipeline = make_pipeline(RandomForestClassifier(n_estimators=100, max_depth=4))\n",
    "#pass instance of pipeline and training and test data set\n",
    "#cv=10 represents the Stratified with 10 folds i.e dividing training data into 10 parts\n",
    "df_cleanedheart=pd.read_csv(\"C:\\\\Users\\\\Jenisa Correia\\\\Downloads\\\\df_cleanedheart2.csv\")\n",
    "X = df_cleanedheart.drop(\"TenYearCHD\", axis=1) #all feature variables\n",
    "y = df_cleanedheart[\"TenYearCHD\"] #only target variable\n",
    "from sklearn.model_selection import train_test_split\n",
    "X_train, X_test, y_train, y_test = train_test_split(X, y, test_size=0.3, random_state=1)\n",
    "scores = cross_val_score(pipeline, X=X_train, y=y_train, cv=10, n_jobs=1) #pipeline means sequence\n",
    "print('Cross Validation accuracy scores: %s' % scores)\n",
    "print('Cross Validation accuracy: %.3f +/- %.3f' % (np.mean(scores), np.std(scores)))"
   ]
  },
  {
   "cell_type": "markdown",
   "metadata": {},
   "source": [
    "#Using RandomForest Classifier we get 83% accuracy."
   ]
  },
  {
   "cell_type": "code",
   "execution_count": 253,
   "metadata": {},
   "outputs": [
    {
     "name": "stdout",
     "output_type": "stream",
     "text": [
      "Mean: 0.8388411138411138  Stdev: 0.0012062318651441801\n"
     ]
    }
   ],
   "source": [
    "print('Mean:',np.mean(scores),' Stdev:',np.std(scores))"
   ]
  },
  {
   "cell_type": "markdown",
   "metadata": {},
   "source": [
    "# Logistic Regression Algorithm"
   ]
  },
  {
   "cell_type": "code",
   "execution_count": 254,
   "metadata": {},
   "outputs": [
    {
     "name": "stdout",
     "output_type": "stream",
     "text": [
      "[[1105    1]\n",
      " [ 160    6]]\n"
     ]
    }
   ],
   "source": [
    "from sklearn.linear_model import LogisticRegression #importing libraries\n",
    "logit=LogisticRegression(solver='lbfgs', max_iter=1000)\n",
    "logit.fit(X_train,y_train)\n",
    "y_predict=logit.predict(X_test)\n",
    "y_predict\n",
    "\n",
    "from sklearn.metrics import  confusion_matrix\n",
    "cm=confusion_matrix(y_test,y_predict)\n",
    "print(cm)"
   ]
  },
  {
   "cell_type": "code",
   "execution_count": 3,
   "metadata": {},
   "outputs": [],
   "source": [
    "#1105 are True Positive i.e 1105 people have heart disease and all are correctly detected\n",
    "#1 is False posive i.e 1 of the people do not have disease but detected wrong\n",
    "#160 is False negative i.e 160 people  have disease but tested wrong\n",
    "#6 is True Negative i.e 6 people do not have disease and tested correctly"
   ]
  },
  {
   "cell_type": "code",
   "execution_count": 255,
   "metadata": {},
   "outputs": [
    {
     "name": "stdout",
     "output_type": "stream",
     "text": [
      "[0.00000000e+00 0.00000000e+00 0.00000000e+00 9.04159132e-04\n",
      " 9.04159132e-04 1.80831826e-03 1.80831826e-03 4.52079566e-03\n",
      " 4.52079566e-03 5.42495479e-03 5.42495479e-03 1.08499096e-02\n",
      " 1.08499096e-02 1.71790235e-02 1.71790235e-02 1.80831826e-02\n",
      " 1.80831826e-02 1.89873418e-02 1.89873418e-02 2.07956600e-02\n",
      " 2.07956600e-02 2.44122966e-02 2.44122966e-02 2.71247740e-02\n",
      " 2.71247740e-02 3.25497288e-02 3.25497288e-02 3.52622061e-02\n",
      " 3.52622061e-02 4.15913201e-02 4.15913201e-02 4.24954792e-02\n",
      " 4.24954792e-02 4.33996383e-02 4.33996383e-02 4.52079566e-02\n",
      " 4.52079566e-02 4.88245931e-02 4.88245931e-02 4.97287523e-02\n",
      " 4.97287523e-02 5.15370705e-02 5.15370705e-02 5.24412297e-02\n",
      " 5.24412297e-02 6.05786618e-02 6.05786618e-02 6.14828210e-02\n",
      " 6.14828210e-02 6.50994575e-02 6.50994575e-02 6.87160940e-02\n",
      " 6.87160940e-02 7.59493671e-02 7.59493671e-02 8.67992767e-02\n",
      " 8.67992767e-02 9.13200723e-02 9.13200723e-02 9.58408680e-02\n",
      " 9.58408680e-02 1.02169982e-01 1.02169982e-01 1.04882459e-01\n",
      " 1.04882459e-01 1.11211573e-01 1.11211573e-01 1.13019892e-01\n",
      " 1.13019892e-01 1.14828210e-01 1.14828210e-01 1.15732369e-01\n",
      " 1.15732369e-01 1.16636528e-01 1.16636528e-01 1.19349005e-01\n",
      " 1.19349005e-01 1.30198915e-01 1.30198915e-01 1.31103074e-01\n",
      " 1.31103074e-01 1.32007233e-01 1.32007233e-01 1.33815552e-01\n",
      " 1.33815552e-01 1.34719711e-01 1.34719711e-01 1.40144665e-01\n",
      " 1.40144665e-01 1.42857143e-01 1.42857143e-01 1.43761302e-01\n",
      " 1.43761302e-01 1.44665461e-01 1.44665461e-01 1.52802893e-01\n",
      " 1.52802893e-01 1.56419530e-01 1.56419530e-01 1.60940325e-01\n",
      " 1.60940325e-01 1.61844485e-01 1.61844485e-01 1.65461121e-01\n",
      " 1.65461121e-01 1.66365280e-01 1.66365280e-01 1.67269439e-01\n",
      " 1.67269439e-01 1.79927667e-01 1.79927667e-01 1.84448463e-01\n",
      " 1.84448463e-01 1.85352622e-01 1.85352622e-01 1.89873418e-01\n",
      " 1.89873418e-01 1.92585895e-01 1.92585895e-01 1.93490054e-01\n",
      " 1.93490054e-01 1.94394213e-01 1.94394213e-01 2.03435805e-01\n",
      " 2.03435805e-01 2.11573237e-01 2.11573237e-01 2.14285714e-01\n",
      " 2.14285714e-01 2.18806510e-01 2.18806510e-01 2.20614828e-01\n",
      " 2.20614828e-01 2.21518987e-01 2.21518987e-01 2.22423146e-01\n",
      " 2.22423146e-01 2.30560579e-01 2.30560579e-01 2.35985533e-01\n",
      " 2.35985533e-01 2.39602170e-01 2.39602170e-01 2.47739602e-01\n",
      " 2.47739602e-01 2.64014467e-01 2.64014467e-01 2.73960217e-01\n",
      " 2.73960217e-01 2.77576854e-01 2.77576854e-01 2.79385172e-01\n",
      " 2.79385172e-01 2.81193490e-01 2.81193490e-01 2.83001808e-01\n",
      " 2.83001808e-01 2.86618445e-01 2.86618445e-01 2.91139241e-01\n",
      " 2.91139241e-01 3.00180832e-01 3.00180832e-01 3.03797468e-01\n",
      " 3.03797468e-01 3.11030741e-01 3.11030741e-01 3.11934901e-01\n",
      " 3.11934901e-01 3.12839060e-01 3.12839060e-01 3.13743219e-01\n",
      " 3.13743219e-01 3.18264014e-01 3.18264014e-01 3.20072333e-01\n",
      " 3.20072333e-01 3.25497288e-01 3.25497288e-01 3.30922242e-01\n",
      " 3.30922242e-01 3.37251356e-01 3.37251356e-01 3.39963834e-01\n",
      " 3.39963834e-01 3.54430380e-01 3.54430380e-01 3.62567812e-01\n",
      " 3.62567812e-01 3.66184448e-01 3.66184448e-01 3.71609403e-01\n",
      " 3.71609403e-01 3.78842676e-01 3.78842676e-01 3.85171790e-01\n",
      " 3.85171790e-01 3.88788427e-01 3.88788427e-01 3.98734177e-01\n",
      " 3.98734177e-01 4.05967450e-01 4.05967450e-01 4.16817360e-01\n",
      " 4.16817360e-01 4.24050633e-01 4.24050633e-01 4.52079566e-01\n",
      " 4.52079566e-01 4.58408680e-01 4.58408680e-01 4.63833635e-01\n",
      " 4.63833635e-01 4.65641953e-01 4.65641953e-01 4.67450271e-01\n",
      " 4.67450271e-01 4.92766727e-01 4.92766727e-01 5.24412297e-01\n",
      " 5.24412297e-01 5.42495479e-01 5.42495479e-01 5.47920434e-01\n",
      " 5.47920434e-01 5.53345389e-01 5.53345389e-01 5.64195298e-01\n",
      " 5.64195298e-01 5.73236890e-01 5.73236890e-01 5.85895118e-01\n",
      " 5.85895118e-01 5.94936709e-01 5.94936709e-01 5.98553345e-01\n",
      " 5.98553345e-01 6.06690778e-01 6.06690778e-01 6.34719711e-01\n",
      " 6.34719711e-01 6.65461121e-01 6.65461121e-01 6.67269439e-01\n",
      " 6.67269439e-01 6.76311031e-01 6.76311031e-01 6.99819168e-01\n",
      " 6.99819168e-01 7.01627486e-01 7.01627486e-01 7.02531646e-01\n",
      " 7.02531646e-01 7.58589512e-01 7.58589512e-01 7.60397830e-01\n",
      " 7.60397830e-01 7.67631103e-01 7.67631103e-01 7.83001808e-01\n",
      " 7.83001808e-01 7.88426763e-01 7.88426763e-01 8.17359855e-01\n",
      " 8.17359855e-01 8.31826401e-01 8.31826401e-01 8.60759494e-01\n",
      " 8.60759494e-01 8.62567812e-01 8.62567812e-01 8.74321881e-01\n",
      " 8.74321881e-01 8.87884268e-01 8.87884268e-01 9.01446655e-01\n",
      " 9.01446655e-01 1.00000000e+00]\n",
      "################True positive rate###############\n",
      "[0.         0.0060241  0.01807229 0.01807229 0.03614458 0.03614458\n",
      " 0.04216867 0.04216867 0.04819277 0.04819277 0.05421687 0.05421687\n",
      " 0.06024096 0.06024096 0.07228916 0.07228916 0.07831325 0.07831325\n",
      " 0.08433735 0.08433735 0.09638554 0.09638554 0.11445783 0.11445783\n",
      " 0.12048193 0.12048193 0.12650602 0.12650602 0.13253012 0.13253012\n",
      " 0.14457831 0.14457831 0.15060241 0.15060241 0.15662651 0.15662651\n",
      " 0.1626506  0.1626506  0.18072289 0.18072289 0.18674699 0.18674699\n",
      " 0.19879518 0.19879518 0.20481928 0.20481928 0.21686747 0.21686747\n",
      " 0.22289157 0.22289157 0.22891566 0.22891566 0.23493976 0.23493976\n",
      " 0.24096386 0.24096386 0.24698795 0.24698795 0.26506024 0.26506024\n",
      " 0.27108434 0.27108434 0.27710843 0.27710843 0.28313253 0.28313253\n",
      " 0.29518072 0.29518072 0.30722892 0.30722892 0.31325301 0.31325301\n",
      " 0.31927711 0.31927711 0.3253012  0.3253012  0.3313253  0.3313253\n",
      " 0.3373494  0.3373494  0.34337349 0.34337349 0.34939759 0.34939759\n",
      " 0.35542169 0.35542169 0.36746988 0.36746988 0.37349398 0.37349398\n",
      " 0.37951807 0.37951807 0.38554217 0.38554217 0.39156627 0.39156627\n",
      " 0.40361446 0.40361446 0.40963855 0.40963855 0.41566265 0.41566265\n",
      " 0.42168675 0.42168675 0.43373494 0.43373494 0.43975904 0.43975904\n",
      " 0.44578313 0.44578313 0.45180723 0.45180723 0.45783133 0.45783133\n",
      " 0.46987952 0.46987952 0.48192771 0.48192771 0.4939759  0.4939759\n",
      " 0.5        0.5        0.5060241  0.5060241  0.51204819 0.51204819\n",
      " 0.51807229 0.51807229 0.52409639 0.52409639 0.53012048 0.53012048\n",
      " 0.53614458 0.53614458 0.54216867 0.54216867 0.54819277 0.54819277\n",
      " 0.55421687 0.55421687 0.56024096 0.56024096 0.56626506 0.56626506\n",
      " 0.57228916 0.57228916 0.57831325 0.57831325 0.58433735 0.58433735\n",
      " 0.59036145 0.59036145 0.59638554 0.59638554 0.60240964 0.60240964\n",
      " 0.61445783 0.61445783 0.62048193 0.62048193 0.63253012 0.63253012\n",
      " 0.63855422 0.63855422 0.64457831 0.64457831 0.65060241 0.65060241\n",
      " 0.65662651 0.65662651 0.6626506  0.6626506  0.6686747  0.6686747\n",
      " 0.6746988  0.6746988  0.68674699 0.68674699 0.69277108 0.69277108\n",
      " 0.69879518 0.69879518 0.70481928 0.70481928 0.71084337 0.71084337\n",
      " 0.71686747 0.71686747 0.72289157 0.72289157 0.72891566 0.72891566\n",
      " 0.73493976 0.73493976 0.74096386 0.74096386 0.74698795 0.74698795\n",
      " 0.75301205 0.75301205 0.75903614 0.75903614 0.76506024 0.76506024\n",
      " 0.77108434 0.77108434 0.77710843 0.77710843 0.78313253 0.78313253\n",
      " 0.79518072 0.79518072 0.80120482 0.80120482 0.80722892 0.80722892\n",
      " 0.81325301 0.81325301 0.81927711 0.81927711 0.8253012  0.8253012\n",
      " 0.8313253  0.8313253  0.84337349 0.84337349 0.84939759 0.84939759\n",
      " 0.85542169 0.85542169 0.86144578 0.86144578 0.86746988 0.86746988\n",
      " 0.87349398 0.87349398 0.87951807 0.87951807 0.88554217 0.88554217\n",
      " 0.89156627 0.89156627 0.89759036 0.89759036 0.90361446 0.90361446\n",
      " 0.90963855 0.90963855 0.91566265 0.91566265 0.92168675 0.92168675\n",
      " 0.92771084 0.92771084 0.93373494 0.93373494 0.93975904 0.93975904\n",
      " 0.94578313 0.94578313 0.95180723 0.95180723 0.95783133 0.95783133\n",
      " 0.96385542 0.96385542 0.96987952 0.96987952 0.97590361 0.97590361\n",
      " 0.98192771 0.98192771 0.98795181 0.98795181 0.9939759  0.9939759\n",
      " 1.         1.        ]\n"
     ]
    }
   ],
   "source": [
    "from sklearn.metrics import roc_auc_score,roc_curve\n",
    "fpr,tpr,threshholds=roc_curve(y_test,logit.predict_proba(X_test)[:,1])\n",
    "print(fpr) #fpr:false positive rate tpr:true positive rate\n",
    "print(\"################True positive rate###############\")\n",
    "print(tpr)"
   ]
  },
  {
   "cell_type": "code",
   "execution_count": 256,
   "metadata": {},
   "outputs": [
    {
     "data": {
      "text/plain": [
       "0.5176202095906228"
      ]
     },
     "execution_count": 256,
     "metadata": {},
     "output_type": "execute_result"
    }
   ],
   "source": [
    "logit_roc_auc=roc_auc_score(y_test,logit.predict(X_test))\n",
    "logit_roc_auc"
   ]
  },
  {
   "cell_type": "markdown",
   "metadata": {},
   "source": [
    "#Using logistic Regression Algorithm we get 51% accuracy"
   ]
  },
  {
   "cell_type": "markdown",
   "metadata": {},
   "source": [
    "# Graph For TPR vs FPR"
   ]
  },
  {
   "cell_type": "code",
   "execution_count": 257,
   "metadata": {},
   "outputs": [
    {
     "data": {
      "image/png": "[encoded data removed]",
      "text/plain": [
       "<Figure size 720x504 with 1 Axes>"
      ]
     },
     "metadata": {
      "needs_background": "light"
     },
     "output_type": "display_data"
    }
   ],
   "source": [
    "import matplotlib.pyplot as plt\n",
    "plt.figure(figsize=(10,7))\n",
    "plt.plot(fpr,tpr,label=logit_roc_auc)\n",
    "plt.plot([0,1],[0,1],'r--')  # r is red in --\n",
    "plt.xlabel(\"FPR\")\n",
    "plt.ylabel(\"TPR\")\n",
    "plt.legend(loc=\"lower right\")\n",
    "plt.show()"
   ]
  },
  {
   "cell_type": "code",
   "execution_count": 258,
   "metadata": {},
   "outputs": [
    {
     "data": {
      "image/png": "[encoded data removed]",
      "text/plain": [
       "<Figure size 432x288 with 1 Axes>"
      ]
     },
     "metadata": {
      "needs_background": "light"
     },
     "output_type": "display_data"
    }
   ],
   "source": [
    "plt.clf() #clf is classifier\n",
    "plt.imshow(cm,interpolation='nearest',cmap=plt.cm.Wistia)#cm is cinfusion matrix\n",
    "classNames=['Negative','Positive']\n",
    "plt.title('TenYearCHD or Not TenYearCHD confusion Matrix-Test data')\n",
    "plt.xlabel('Predicted label')\n",
    "plt.ylabel('True Label')\n",
    "tick_marks=np.arange(len(classNames))\n",
    "plt.xticks(tick_marks,classNames,rotation=45)\n",
    "plt.yticks(tick_marks,classNames)\n",
    "s=[['TN','FP'],['FN','TP']]\n",
    "for i in range(2):\n",
    "    for j in range(2):\n",
    "        plt.text(j,i,str(s[i][j])+\"=\"+str(cm[i][j]))\n",
    "plt.show()"
   ]
  },
  {
   "cell_type": "markdown",
   "metadata": {},
   "source": [
    "# Using SVM Algorithm"
   ]
  },
  {
   "cell_type": "markdown",
   "metadata": {},
   "source": [
    "#Importing  required libraries"
   ]
  },
  {
   "cell_type": "code",
   "execution_count": 259,
   "metadata": {},
   "outputs": [],
   "source": [
    "from sklearn.svm import SVC #importing libraries"
   ]
  },
  {
   "cell_type": "code",
   "execution_count": 260,
   "metadata": {},
   "outputs": [],
   "source": [
    "from sklearn.model_selection import train_test_split #splitting into trainning and testing\n",
    "x_train,x_test,y_train,y_test = train_test_split(X,y,test_size=0.2)"
   ]
  },
  {
   "cell_type": "code",
   "execution_count": 261,
   "metadata": {},
   "outputs": [],
   "source": [
    "svm_classifier = SVC(kernel=\"poly\",degree=8)"
   ]
  },
  {
   "cell_type": "code",
   "execution_count": 262,
   "metadata": {},
   "outputs": [
    {
     "data": {
      "text/plain": [
       "SVC(degree=8, kernel='poly')"
      ]
     },
     "execution_count": 262,
     "metadata": {},
     "output_type": "execute_result"
    }
   ],
   "source": [
    "svm_classifier.fit(x_train,y_train)"
   ]
  },
  {
   "cell_type": "code",
   "execution_count": 263,
   "metadata": {},
   "outputs": [],
   "source": [
    "prediction = svm_classifier.predict(x_test)"
   ]
  },
  {
   "cell_type": "code",
   "execution_count": 264,
   "metadata": {},
   "outputs": [],
   "source": [
    "from sklearn.metrics import classification_report,confusion_matrix,accuracy_score"
   ]
  },
  {
   "cell_type": "code",
   "execution_count": 265,
   "metadata": {},
   "outputs": [
    {
     "name": "stdout",
     "output_type": "stream",
     "text": [
      "              precision    recall  f1-score   support\n",
      "\n",
      "           0       0.84      1.00      0.92       716\n",
      "           1       0.00      0.00      0.00       132\n",
      "\n",
      "    accuracy                           0.84       848\n",
      "   macro avg       0.42      0.50      0.46       848\n",
      "weighted avg       0.71      0.84      0.77       848\n",
      "\n"
     ]
    },
    {
     "name": "stderr",
     "output_type": "stream",
     "text": [
      "C:\\ProgramData\\Anaconda3\\lib\\site-packages\\sklearn\\metrics\\_classification.py:1221: UndefinedMetricWarning: Precision and F-score are ill-defined and being set to 0.0 in labels with no predicted samples. Use `zero_division` parameter to control this behavior.\n",
      "  _warn_prf(average, modifier, msg_start, len(result))\n"
     ]
    }
   ],
   "source": [
    "print(classification_report(y_test,prediction))"
   ]
  },
  {
   "cell_type": "code",
   "execution_count": 266,
   "metadata": {},
   "outputs": [
    {
     "name": "stdout",
     "output_type": "stream",
     "text": [
      "[[716   0]\n",
      " [132   0]]\n"
     ]
    }
   ],
   "source": [
    "print(confusion_matrix(y_test,prediction))"
   ]
  },
  {
   "cell_type": "code",
   "execution_count": 267,
   "metadata": {},
   "outputs": [
    {
     "name": "stdout",
     "output_type": "stream",
     "text": [
      "0.8443396226415094\n"
     ]
    }
   ],
   "source": [
    "print(accuracy_score(y_test,prediction))"
   ]
  },
  {
   "cell_type": "code",
   "execution_count": 268,
   "metadata": {},
   "outputs": [
    {
     "name": "stdout",
     "output_type": "stream",
     "text": [
      "[[716   0]\n",
      " [132   0]]\n",
      "0.8443396226415094\n"
     ]
    }
   ],
   "source": [
    "svm_classifier = SVC(kernel=\"rbf\")\n",
    "svm_classifier.fit(x_train,y_train)\n",
    "prediction = svm_classifier.predict(x_test)\n",
    "print(confusion_matrix(y_test,prediction)) #confusion matrix\n",
    "print(accuracy_score(y_test,prediction))"
   ]
  },
  {
   "cell_type": "markdown",
   "metadata": {},
   "source": [
    "#using rbf function we get 84% accuracy"
   ]
  },
  {
   "cell_type": "code",
   "execution_count": 269,
   "metadata": {},
   "outputs": [
    {
     "name": "stdout",
     "output_type": "stream",
     "text": [
      "[[629  87]\n",
      " [108  24]]\n",
      "0.7700471698113207\n"
     ]
    }
   ],
   "source": [
    "svm_classifier = SVC(kernel=\"sigmoid\")\n",
    "svm_classifier.fit(x_train,y_train)\n",
    "prediction = svm_classifier.predict(x_test)\n",
    "print(confusion_matrix(y_test,prediction)) 3confusion matrix\n",
    "print(accuracy_score(y_test,prediction))"
   ]
  },
  {
   "cell_type": "markdown",
   "metadata": {},
   "source": [
    "#using sigmoid function we get 77% accuracy"
   ]
  },
  {
   "cell_type": "markdown",
   "metadata": {},
   "source": [
    "# so using 3 algorithms we see that SVM gives the best accuracy i.e 84% followed by RandomForestClassifier 83% followed by logistic regression 51%."
   ]
  },
  {
   "cell_type": "markdown",
   "metadata": {},
   "source": [
    "#So the best Algorithm is SVM for heart disease dataset."
   ]
  },
  {
   "cell_type": "code",
   "execution_count": null,
   "metadata": {},
   "outputs": [],
   "source": []
  }
 ],
 "metadata": {
  "kernelspec": {
   "display_name": "Python 3",
   "language": "python",
   "name": "python3"
  },
  "language_info": {
   "codemirror_mode": {
    "name": "ipython",
    "version": 3
   },
   "file_extension": ".py",
   "mimetype": "text/x-python",
   "name": "python",
   "nbconvert_exporter": "python",
   "pygments_lexer": "ipython3",
   "version": "3.8.5"
  }
 },
 "nbformat": 4,
 "nbformat_minor": 4
}
